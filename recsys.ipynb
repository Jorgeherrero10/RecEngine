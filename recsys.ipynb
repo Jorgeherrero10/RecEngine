{
 "cells": [
  {
   "cell_type": "markdown",
   "metadata": {},
   "source": [
    "\n",
    "# Final Group Project. Anime Shows' Platform Recommendations"
   ]
  },
  {
   "cell_type": "markdown",
   "metadata": {},
   "source": [
    "\n",
    "## 0. Import libraries"
   ]
  },
  {
   "cell_type": "markdown",
   "metadata": {},
   "source": []
  },
  {
   "cell_type": "code",
   "execution_count": 157,
   "metadata": {},
   "outputs": [],
   "source": [
    "from io import BytesIO\n",
    "from zipfile import ZipFile\n",
    "from urllib.request import urlopen"
   ]
  },
  {
   "cell_type": "code",
   "execution_count": 158,
   "metadata": {},
   "outputs": [],
   "source": [
    "import pandas as pd\n",
    "import numpy as np\n",
    "import sklearn.metrics as metrics\n",
    "import matplotlib.pyplot as plt\n",
    "import plotly.express as px\n",
    "import seaborn as sns\n",
    "from tqdm import tqdm\n",
    "import itertools\n",
    "from collections import defaultdict\n",
    "import optuna\n",
    "from auto_surprise.engine import Engine\n",
    "from bayes_opt import BayesianOptimization"
   ]
  },
  {
   "cell_type": "code",
   "execution_count": 159,
   "metadata": {},
   "outputs": [],
   "source": [
    "import recmetrics"
   ]
  },
  {
   "cell_type": "code",
   "execution_count": 160,
   "metadata": {},
   "outputs": [],
   "source": [
    "import random\n",
    "import os"
   ]
  },
  {
   "cell_type": "code",
   "execution_count": 161,
   "metadata": {},
   "outputs": [],
   "source": [
    "from IPython.display import clear_output"
   ]
  },
  {
   "cell_type": "code",
   "execution_count": 162,
   "metadata": {},
   "outputs": [],
   "source": [
    "from surprise import Reader, Dataset, SVD, SVDpp, NMF, accuracy, Prediction, AlgoBase, SlopeOne, KNNBasic, KNNWithZScore, KNNBaseline, KNNWithMeans\n",
    "from surprise.model_selection import train_test_split, cross_validate, KFold, GridSearchCV"
   ]
  },
  {
   "cell_type": "code",
   "execution_count": 163,
   "metadata": {},
   "outputs": [],
   "source": [
    "my_seed = 1234\n",
    "random.seed(my_seed)\n",
    "np.random.seed(my_seed)"
   ]
  },
  {
   "cell_type": "markdown",
   "metadata": {},
   "source": [
    "\n",
    "## 1. Importing the dataset"
   ]
  },
  {
   "cell_type": "markdown",
   "metadata": {},
   "source": []
  },
  {
   "cell_type": "code",
   "execution_count": 164,
   "metadata": {},
   "outputs": [
    {
     "data": {
      "text/html": [
       "<div>\n",
       "<style scoped>\n",
       "    .dataframe tbody tr th:only-of-type {\n",
       "        vertical-align: middle;\n",
       "    }\n",
       "\n",
       "    .dataframe tbody tr th {\n",
       "        vertical-align: top;\n",
       "    }\n",
       "\n",
       "    .dataframe thead th {\n",
       "        text-align: right;\n",
       "    }\n",
       "</style>\n",
       "<table border=\"1\" class=\"dataframe\">\n",
       "  <thead>\n",
       "    <tr style=\"text-align: right;\">\n",
       "      <th></th>\n",
       "      <th>user_id</th>\n",
       "      <th>anime_id</th>\n",
       "      <th>rating</th>\n",
       "    </tr>\n",
       "  </thead>\n",
       "  <tbody>\n",
       "    <tr>\n",
       "      <th>0</th>\n",
       "      <td>34992</td>\n",
       "      <td>903</td>\n",
       "      <td>9</td>\n",
       "    </tr>\n",
       "    <tr>\n",
       "      <th>1</th>\n",
       "      <td>11536</td>\n",
       "      <td>11697</td>\n",
       "      <td>8</td>\n",
       "    </tr>\n",
       "    <tr>\n",
       "      <th>2</th>\n",
       "      <td>7367</td>\n",
       "      <td>509</td>\n",
       "      <td>8</td>\n",
       "    </tr>\n",
       "    <tr>\n",
       "      <th>3</th>\n",
       "      <td>73436</td>\n",
       "      <td>4835</td>\n",
       "      <td>10</td>\n",
       "    </tr>\n",
       "    <tr>\n",
       "      <th>4</th>\n",
       "      <td>73308</td>\n",
       "      <td>7088</td>\n",
       "      <td>8</td>\n",
       "    </tr>\n",
       "  </tbody>\n",
       "</table>\n",
       "</div>"
      ],
      "text/plain": [
       "   user_id  anime_id  rating\n",
       "0    34992       903       9\n",
       "1    11536     11697       8\n",
       "2     7367       509       8\n",
       "3    73436      4835      10\n",
       "4    73308      7088       8"
      ]
     },
     "execution_count": 164,
     "metadata": {},
     "output_type": "execute_result"
    }
   ],
   "source": [
    "ratings_df = pd.read_csv('anime_ratings.csv')\n",
    "ratings_df.head()"
   ]
  },
  {
   "cell_type": "markdown",
   "metadata": {},
   "source": [
    "\n",
    "## 2. Data exploration"
   ]
  },
  {
   "cell_type": "markdown",
   "metadata": {},
   "source": [
    "\n",
    "Note: a detailed and extensive data exploration can be found in a separate notebook. "
   ]
  },
  {
   "cell_type": "markdown",
   "metadata": {},
   "source": []
  },
  {
   "cell_type": "code",
   "execution_count": 165,
   "metadata": {},
   "outputs": [
    {
     "name": "stdout",
     "output_type": "stream",
     "text": [
      "There are 2892 unique users\n",
      "There are 4326 unique anime shows\n",
      "There are 35000 ratings\n"
     ]
    }
   ],
   "source": [
    "print(f\"There are {ratings_df['user_id'].nunique()} unique users\")\n",
    "print(f\"There are {ratings_df['anime_id'].nunique()} unique anime shows\")\n",
    "print(f\"There are {ratings_df.shape[0]} ratings\")"
   ]
  },
  {
   "cell_type": "markdown",
   "metadata": {},
   "source": []
  },
  {
   "cell_type": "code",
   "execution_count": 166,
   "metadata": {},
   "outputs": [
    {
     "name": "stdout",
     "output_type": "stream",
     "text": [
      "The ratings mean is 7.82 and std is 1.5562\n"
     ]
    }
   ],
   "source": [
    "mean = ratings_df['rating'].mean()\n",
    "std = ratings_df['rating'].std()\n",
    "print(f'The ratings mean is {round(mean, 2)} and std is {round(std, 4)}')"
   ]
  },
  {
   "cell_type": "markdown",
   "metadata": {},
   "source": []
  },
  {
   "cell_type": "code",
   "execution_count": 167,
   "metadata": {},
   "outputs": [
    {
     "name": "stdout",
     "output_type": "stream",
     "text": [
      "RMSE: 1.5562\n"
     ]
    }
   ],
   "source": [
    "predictions_mean = [Prediction(uid, iid, r_ui, mean, {}) for uid, iid, r_ui in\n",
    "                    ratings_df[['user_id', 'anime_id', 'rating']].itertuples(index=False, name=None)]\n",
    "accuracy.rmse(predictions_mean);"
   ]
  },
  {
   "cell_type": "markdown",
   "metadata": {},
   "source": [
    "he RMSE value makes sense since it coincides with the value of the standard deviation."
   ]
  },
  {
   "cell_type": "markdown",
   "metadata": {},
   "source": []
  },
  {
   "cell_type": "code",
   "execution_count": 168,
   "metadata": {},
   "outputs": [],
   "source": [
    "min_rating = ratings_df['rating'].min()\n",
    "max_rating = ratings_df['rating'].max()"
   ]
  },
  {
   "cell_type": "code",
   "execution_count": 169,
   "metadata": {},
   "outputs": [],
   "source": [
    "reader = Reader(rating_scale=(min_rating, max_rating)) #specify the scale, that is, the minimum and maximum values\n",
    "anime_data = Dataset.load_from_df(ratings_df[['user_id', 'anime_id', 'rating']], reader)"
   ]
  },
  {
   "cell_type": "markdown",
   "metadata": {},
   "source": []
  },
  {
   "cell_type": "code",
   "execution_count": 170,
   "metadata": {},
   "outputs": [],
   "source": [
    "trainset, testset = train_test_split(anime_data, test_size=.20, random_state=my_seed) #set a seed because models need to be replicable for auditing purposes"
   ]
  },
  {
   "cell_type": "markdown",
   "metadata": {},
   "source": [
    "\n",
    "## 3. Defining the recommenders"
   ]
  },
  {
   "cell_type": "markdown",
   "metadata": {},
   "source": [
    "\n",
    "### Non-personalized recommenders"
   ]
  },
  {
   "cell_type": "markdown",
   "metadata": {},
   "source": [
    "\n",
    "Define the non-personalized recommenders that will be used as a baseline comparison."
   ]
  },
  {
   "cell_type": "markdown",
   "metadata": {},
   "source": [
    "\n",
    "* Random Recommender:"
   ]
  },
  {
   "cell_type": "markdown",
   "metadata": {},
   "source": []
  },
  {
   "cell_type": "code",
   "execution_count": 171,
   "metadata": {},
   "outputs": [],
   "source": [
    "class MyRandomAlgorithm(AlgoBase): #inherits from algorithm base of surprise\n",
    "    def __init__(self):\n",
    "        AlgoBase.__init__(self)\n",
    "    def estimate(self, u, i):\n",
    "        # Note u and i are not used, this RS does not personalize based on neither the user nor the item\n",
    "        return np.random.normal(loc=self.train_mean, scale=self.train_std)\n",
    "    def fit(self, trainset): #fit expects a trainset, never a test set!!!\n",
    "        AlgoBase.fit(self, trainset)\n",
    "        ratings = [r for (_, _, r) in self.trainset.all_ratings()]\n",
    "        self.train_mean = np.mean(ratings)\n",
    "        self.train_std = np.std(ratings)\n",
    "        return self"
   ]
  },
  {
   "cell_type": "code",
   "execution_count": 172,
   "metadata": {},
   "outputs": [],
   "source": [
    "random_RS = MyRandomAlgorithm() #Initialize the random RS"
   ]
  },
  {
   "cell_type": "markdown",
   "metadata": {},
   "source": [
    "\n",
    "* Popular Recommender"
   ]
  },
  {
   "cell_type": "markdown",
   "metadata": {},
   "source": []
  },
  {
   "cell_type": "code",
   "execution_count": 173,
   "metadata": {},
   "outputs": [],
   "source": [
    "class MyPopularAlgorithm(AlgoBase):\n",
    "    def __init__(self):\n",
    "        AlgoBase.__init__(self)\n",
    "    def estimate(self, u, i):\n",
    "        # Note u is not used, this RS does not personalize based on the user\n",
    "        if i in self.mean_rating_per_item_df.index: #if the product was in the train data, use the popularity in the train data;\n",
    "          return self.mean_rating_per_item_df.loc[i]['rating']\n",
    "        else:\n",
    "          return self.trainset.global_mean #otherwise cannot compute the popularity but compute the mean of all items\n",
    "    def fit(self, trainset):\n",
    "        AlgoBase.fit(self, trainset)\n",
    "\n",
    "        #convert bck to a pandas df to later do gorupby and aggregation\n",
    "        ratings_df = pd.DataFrame([[i, r] for (_, i, r) in self.trainset.all_ratings()],\n",
    "                                  columns=['item', 'rating'])\n",
    "        self.mean_rating_per_item_df = (ratings_df\n",
    "          .groupby('item')\n",
    "          .agg({'rating': 'mean'}) #extra is the count\n",
    "        )\n",
    "        return self"
   ]
  },
  {
   "cell_type": "code",
   "execution_count": 174,
   "metadata": {},
   "outputs": [],
   "source": [
    "popular_RS = MyPopularAlgorithm()"
   ]
  },
  {
   "cell_type": "markdown",
   "metadata": {},
   "source": [
    "\n",
    "### Collaborative-filtering recommenders"
   ]
  },
  {
   "cell_type": "markdown",
   "metadata": {},
   "source": [
    "\n",
    "We chose KNNBaseline for building our memory-based recommenders since it was the model that yielded the best performance in terms of RMSE when we fit it with the default hyperparameters."
   ]
  },
  {
   "cell_type": "markdown",
   "metadata": {},
   "source": [
    "\n",
    "#### User-based"
   ]
  },
  {
   "cell_type": "markdown",
   "metadata": {},
   "source": [
    "\n",
    "MODEL 1: leaving default hyperparameters"
   ]
  },
  {
   "cell_type": "code",
   "execution_count": 175,
   "metadata": {},
   "outputs": [
    {
     "name": "stdout",
     "output_type": "stream",
     "text": [
      "Estimating biases using als...\n",
      "Computing the msd similarity matrix...\n",
      "Done computing similarity matrix.\n"
     ]
    },
    {
     "data": {
      "text/plain": [
       "<surprise.prediction_algorithms.knns.KNNBaseline at 0x17967b530>"
      ]
     },
     "execution_count": 175,
     "metadata": {},
     "output_type": "execute_result"
    }
   ],
   "source": [
    "model_user_1 = KNNBaseline()\n",
    "model_user_1.fit(trainset)"
   ]
  },
  {
   "cell_type": "markdown",
   "metadata": {},
   "source": [
    "Evaluate performance on test set"
   ]
  },
  {
   "cell_type": "code",
   "execution_count": 176,
   "metadata": {},
   "outputs": [
    {
     "name": "stdout",
     "output_type": "stream",
     "text": [
      "RMSE: 1.4414\n",
      "MAE:  1.1137\n"
     ]
    }
   ],
   "source": [
    "predictions_user_1 = model_user_1.test(testset)\n",
    "rmse = accuracy.rmse(predictions_user_1)\n",
    "mae = accuracy.mae(predictions_user_1)"
   ]
  },
  {
   "cell_type": "markdown",
   "metadata": {},
   "source": [
    "\n",
    "#### Item-based"
   ]
  },
  {
   "cell_type": "markdown",
   "metadata": {},
   "source": [
    "\n",
    "Model 1: leaving default hyperparameters"
   ]
  },
  {
   "cell_type": "code",
   "execution_count": 177,
   "metadata": {},
   "outputs": [
    {
     "name": "stdout",
     "output_type": "stream",
     "text": [
      "Estimating biases using als...\n",
      "Computing the msd similarity matrix...\n",
      "Done computing similarity matrix.\n"
     ]
    },
    {
     "data": {
      "text/plain": [
       "<surprise.prediction_algorithms.knns.KNNBaseline at 0x17967baa0>"
      ]
     },
     "execution_count": 177,
     "metadata": {},
     "output_type": "execute_result"
    }
   ],
   "source": [
    "model_item_1 = KNNBaseline(\n",
    "    sim_options={\n",
    "        'user_based': False\n",
    "    }\n",
    ")\n",
    "model_item_1.fit(trainset)"
   ]
  },
  {
   "cell_type": "markdown",
   "metadata": {},
   "source": [
    "Evaluate performance on test set"
   ]
  },
  {
   "cell_type": "code",
   "execution_count": 178,
   "metadata": {},
   "outputs": [
    {
     "name": "stdout",
     "output_type": "stream",
     "text": [
      "RMSE: 1.4109\n",
      "MAE:  1.0707\n"
     ]
    }
   ],
   "source": [
    "predictions_item_1 = model_item_1.test(testset)\n",
    "rmse = accuracy.rmse(predictions_item_1)\n",
    "mae = accuracy.mae(predictions_item_1)"
   ]
  },
  {
   "cell_type": "markdown",
   "metadata": {},
   "source": [
    "\n",
    "#### Hyperparameter tuning for memory-based collaborative filtering recommenders"
   ]
  },
  {
   "cell_type": "markdown",
   "metadata": {},
   "source": [
    "\n",
    "Before analyzing performance differences due to various hyperparameter configurations in the KNNBasic model, here's a brief explanation of the parameters:\n",
    "\n",
    "- k: The maximum number of neighbors considered during aggregation.\n",
    "- min_k: The minimum number of neighbors required for aggregation.\n",
    "- sim_options: A set of parameters that includes:\n",
    "  - name: The type of similarity used.\n",
    "  - user_based: Set to True, as we're using a user-based algorithm.\n",
    "  - min_support: The minimum number of common items required to avoid a similarity of 0.\n",
    "\n",
    "\n",
    "References:\n",
    "\n",
    "https://surprise.readthedocs.io/en/latest/knn_inspired.html\n",
    "\n",
    "https://surprise.readthedocs.io/en/latest/prediction_algorithms.html#similarity-measures-configuration"
   ]
  },
  {
   "cell_type": "markdown",
   "metadata": {},
   "source": [
    "\n",
    "Check distribution of number of items in common to know what options for min_support would make sense"
   ]
  },
  {
   "cell_type": "code",
   "execution_count": 179,
   "metadata": {},
   "outputs": [],
   "source": [
    "user_item_mapping = defaultdict(set)\n",
    "for _, row in ratings_df.iterrows():\n",
    "    user_item_mapping[row['user_id']].add(row['anime_id'])"
   ]
  },
  {
   "cell_type": "markdown",
   "metadata": {},
   "source": [
    "Step 2: Compute pairwise overlap"
   ]
  },
  {
   "cell_type": "code",
   "execution_count": 180,
   "metadata": {},
   "outputs": [],
   "source": [
    "overlap_counts = []\n",
    "user_ids = list(user_item_mapping.keys())"
   ]
  },
  {
   "cell_type": "markdown",
   "metadata": {},
   "source": [
    "Iterate over all pairs of users"
   ]
  },
  {
   "cell_type": "code",
   "execution_count": 181,
   "metadata": {},
   "outputs": [],
   "source": [
    "for user1, user2 in itertools.combinations(user_ids, 2):\n",
    "    # Calculate the number of shared items\n",
    "    shared_items = user_item_mapping[user1].intersection(user_item_mapping[user2])\n",
    "    if len(shared_items) > 0:  # Only include pairs with at least 1 shared item\n",
    "        overlap_counts.append(len(shared_items))"
   ]
  },
  {
   "cell_type": "markdown",
   "metadata": {},
   "source": [
    "Step 3: Visualize the distribution"
   ]
  },
  {
   "cell_type": "code",
   "execution_count": 182,
   "metadata": {},
   "outputs": [
    {
     "data": {
      "image/png": "[encoded data removed]",
      "text/plain": [
       "<Figure size 500x300 with 1 Axes>"
      ]
     },
     "metadata": {},
     "output_type": "display_data"
    }
   ],
   "source": [
    "plt.figure(figsize=(5, 3))\n",
    "plt.hist(overlap_counts, bins=30, edgecolor='k', alpha=0.7)\n",
    "plt.title(\"Distribution of Co-rated Items Between Users\")\n",
    "plt.xlabel(\"Number of Co-rated Items\")\n",
    "plt.ylabel(\"Frequency\")\n",
    "plt.grid(True)\n",
    "plt.show()"
   ]
  },
  {
   "cell_type": "markdown",
   "metadata": {},
   "source": []
  },
  {
   "cell_type": "code",
   "execution_count": 183,
   "metadata": {},
   "outputs": [
    {
     "name": "stdout",
     "output_type": "stream",
     "text": [
      "Number of User Pairs: 450253\n",
      "Average Numer of items in common: 1.21\n",
      "Maximum number of items in common: 16\n",
      "There are 2 users with 16 items in common\n"
     ]
    }
   ],
   "source": [
    "print(f\"Number of User Pairs: {len(overlap_counts)}\")\n",
    "print(f\"Average Numer of items in common: {sum(overlap_counts) / len(overlap_counts):.2f}\")\n",
    "print(f\"Maximum number of items in common: {max(overlap_counts)}\")\n",
    "max_items_count = overlap_counts.count(max(overlap_counts))\n",
    "print(f\"There are {max_items_count} users with {max(overlap_counts)} items in common\")"
   ]
  },
  {
   "cell_type": "markdown",
   "metadata": {},
   "source": [
    "\n",
    "We can see most user pairs have 1 item in common. The maximum number of items in common is 16 and only 2 users (one pair) have this high number of items in common. Therefore, for min_support, the maximum value that will be tested is 17 (at this point, all users will get as predictions the global mean of ratings since none will have any neighbors; it makes no sense to waste time and computations on trying more min_support values beyond this since they will all yield the same results).\n",
    "\n",
    "\n",
    "For hyperparameter tuning, we will use Optuna which implements various techniques for optimization. In this case we defined Tree-structured Parzen Estimator (TPE) for this task. This approach is preferred over Grid Search Cross-Validation because it selectively explores promising hyperparameter combinations based on past trials instead of exhaustively trying out all options, and it allows for continuous search spaces whereas Grid Search CV only searches over pre-defined discrete values. This makes it more likely to find the optimal hyperparameters for the model."
   ]
  },
  {
   "cell_type": "markdown",
   "metadata": {},
   "source": [
    "\n",
    "Model 2: Memory-based with hyperparameter tuning"
   ]
  },
  {
   "cell_type": "markdown",
   "metadata": {},
   "source": [
    "Define objective function with the model to be fit (KNNBaseline) and the hyperparameters to be optimized"
   ]
  },
  {
   "cell_type": "code",
   "execution_count": 184,
   "metadata": {},
   "outputs": [],
   "source": [
    "def objective(trial):\n",
    "    k = trial.suggest_int('k', 5, 150, step=5)\n",
    "    sim_name = trial.suggest_categorical('sim_name', ['cosine', 'msd', 'pearson', 'pearson_baseline'])\n",
    "    min_support = trial.suggest_int('min_support', 1, 16)\n",
    "    user_based = trial.suggest_categorical('user_based', [True, False])\n",
    "    sim_options = {\n",
    "        'name': sim_name,\n",
    "        'min_support': min_support,\n",
    "        'user_based': user_based\n",
    "    }\n",
    "    algo = KNNBaseline(k=k, sim_options=sim_options, verbose = False)\n",
    "    performance = cross_validate(algo, anime_data, measures=['RMSE'], cv=KFold(n_splits=4, random_state=my_seed), verbose=False)\n",
    "    return np.mean(performance['test_rmse'])"
   ]
  },
  {
   "cell_type": "code",
   "execution_count": 185,
   "metadata": {},
   "outputs": [
    {
     "name": "stderr",
     "output_type": "stream",
     "text": [
      "[I 2025-03-30 18:48:42,211] A new study created in memory with name: no-name-347f92a3-7b6d-4cc5-a5c3-0ccab30b9dec\n",
      "[I 2025-03-30 18:48:46,750] Trial 0 finished with value: 1.3386005809188681 and parameters: {'k': 30, 'sim_name': 'pearson', 'min_support': 5, 'user_based': False}. Best is trial 0 with value: 1.3386005809188681.\n",
      "[I 2025-03-30 18:48:48,605] Trial 1 finished with value: 1.3283350474314255 and parameters: {'k': 145, 'sim_name': 'cosine', 'min_support': 12, 'user_based': False}. Best is trial 1 with value: 1.3283350474314255.\n",
      "[I 2025-03-30 18:48:50,796] Trial 2 finished with value: 1.32835757477095 and parameters: {'k': 80, 'sim_name': 'pearson', 'min_support': 10, 'user_based': False}. Best is trial 1 with value: 1.3283350474314255.\n",
      "[I 2025-03-30 18:48:51,860] Trial 3 finished with value: 1.3292290536935352 and parameters: {'k': 140, 'sim_name': 'pearson', 'min_support': 10, 'user_based': True}. Best is trial 1 with value: 1.3283350474314255.\n",
      "[I 2025-03-30 18:48:54,666] Trial 4 finished with value: 1.328356021780761 and parameters: {'k': 125, 'sim_name': 'pearson', 'min_support': 15, 'user_based': False}. Best is trial 1 with value: 1.3283350474314255.\n",
      "[I 2025-03-30 18:48:58,673] Trial 5 finished with value: 1.328395057778841 and parameters: {'k': 10, 'sim_name': 'pearson', 'min_support': 9, 'user_based': False}. Best is trial 1 with value: 1.3283350474314255.\n",
      "[I 2025-03-30 18:49:04,205] Trial 6 finished with value: 1.4047261898588312 and parameters: {'k': 50, 'sim_name': 'pearson', 'min_support': 1, 'user_based': False}. Best is trial 1 with value: 1.3283350474314255.\n",
      "[I 2025-03-30 18:49:05,234] Trial 7 finished with value: 1.3294641017486493 and parameters: {'k': 120, 'sim_name': 'cosine', 'min_support': 10, 'user_based': True}. Best is trial 1 with value: 1.3283350474314255.\n",
      "[I 2025-03-30 18:49:06,684] Trial 8 finished with value: 1.4241466319915372 and parameters: {'k': 60, 'sim_name': 'pearson', 'min_support': 2, 'user_based': True}. Best is trial 1 with value: 1.3283350474314255.\n",
      "[I 2025-03-30 18:49:10,813] Trial 9 finished with value: 1.328395057778841 and parameters: {'k': 75, 'sim_name': 'pearson', 'min_support': 9, 'user_based': False}. Best is trial 1 with value: 1.3283350474314255.\n"
     ]
    }
   ],
   "source": [
    "study = optuna.create_study(direction='minimize', sampler=optuna.samplers.TPESampler(seed=my_seed))\n",
    "study.optimize(objective, n_trials=10)"
   ]
  },
  {
   "cell_type": "markdown",
   "metadata": {},
   "source": [
    "Retrieve the best parameters and RMSE"
   ]
  },
  {
   "cell_type": "code",
   "execution_count": 186,
   "metadata": {},
   "outputs": [],
   "source": [
    "best_params = study.best_params\n",
    "best_rmse = study.best_value"
   ]
  },
  {
   "cell_type": "markdown",
   "metadata": {},
   "source": [
    "Print results"
   ]
  },
  {
   "cell_type": "code",
   "execution_count": 187,
   "metadata": {},
   "outputs": [
    {
     "name": "stdout",
     "output_type": "stream",
     "text": [
      "Best parameters:\n",
      "  k: 145\n",
      "  sim_name: cosine\n",
      "  min_support: 12\n",
      "  user_based: False\n",
      "\n",
      "Best RMSE from Optimization: 1.3283\n"
     ]
    }
   ],
   "source": [
    "print(\"Best parameters:\")\n",
    "for param, value in best_params.items():\n",
    "    print(f\"  {param}: {value}\")\n",
    "print(f\"\\nBest RMSE from Optimization: {best_rmse:.4f}\")"
   ]
  },
  {
   "cell_type": "markdown",
   "metadata": {},
   "source": [
    "Retrieve hyperparameters"
   ]
  },
  {
   "cell_type": "code",
   "execution_count": 188,
   "metadata": {},
   "outputs": [],
   "source": [
    "final_k = best_params['k']\n",
    "final_name = best_params['sim_name']\n",
    "final_min_support = best_params['min_support']\n",
    "final_user_based = best_params['user_based']"
   ]
  },
  {
   "cell_type": "markdown",
   "metadata": {},
   "source": [
    "Train the final model"
   ]
  },
  {
   "cell_type": "code",
   "execution_count": 189,
   "metadata": {},
   "outputs": [],
   "source": [
    "memory_based_final = KNNBaseline(\n",
    "    k=final_k,\n",
    "    sim_options={\n",
    "        'name': final_name,\n",
    "        'min_support': final_min_support,\n",
    "        'user_based': final_user_based\n",
    "    }\n",
    ")"
   ]
  },
  {
   "cell_type": "markdown",
   "metadata": {},
   "source": [
    "\n",
    "Something to take into account here is that the optimal value for min_support is relatively high (12), and as we know from before very few pairs of users have this many items in common. This means that many predictions will be based on the global mean of ratings instead of actually computing predictions using neighbors of the items (since we have user_based=False) since fefw pairs will reach the necessary min_support to be considered potential neighbors. Still, this yields a high RMSE because of the distribution of ratings: the distribution is highly skewed, most ratings are between 7-10, so predicting the mean will give a relatively low error for most cases, resulting in a low RMSE."
   ]
  },
  {
   "cell_type": "markdown",
   "metadata": {},
   "source": [
    "\n",
    "#### Model-based"
   ]
  },
  {
   "cell_type": "markdown",
   "metadata": {},
   "source": [
    "\n",
    "Model 1: leaving default hyperparameters"
   ]
  },
  {
   "cell_type": "code",
   "execution_count": 190,
   "metadata": {},
   "outputs": [
    {
     "data": {
      "text/plain": [
       "<surprise.prediction_algorithms.matrix_factorization.SVD at 0x304909310>"
      ]
     },
     "execution_count": 190,
     "metadata": {},
     "output_type": "execute_result"
    }
   ],
   "source": [
    "model_svd_1 = SVD(random_state=my_seed)\n",
    "model_svd_1.fit(trainset)"
   ]
  },
  {
   "cell_type": "markdown",
   "metadata": {},
   "source": [
    "Evaluate performance on test set"
   ]
  },
  {
   "cell_type": "code",
   "execution_count": 191,
   "metadata": {},
   "outputs": [
    {
     "name": "stdout",
     "output_type": "stream",
     "text": [
      "RMSE: 1.3033\n",
      "MAE:  1.0150\n"
     ]
    }
   ],
   "source": [
    "predictions_svd_1 = model_svd_1.test(testset)\n",
    "rmse = accuracy.rmse(predictions_svd_1)\n",
    "mae = accuracy.mae(predictions_svd_1)"
   ]
  },
  {
   "cell_type": "markdown",
   "metadata": {},
   "source": [
    "\n",
    "Model 2: with hyperparameter tunning"
   ]
  },
  {
   "cell_type": "code",
   "execution_count": 192,
   "metadata": {},
   "outputs": [],
   "source": [
    "def objective(trial):\n",
    "    n_factors = trial.suggest_int('n_factors', 1, 150)\n",
    "    n_epochs = trial.suggest_int('n_epochs', 1, 100)\n",
    "    lr_all = trial.suggest_float('lr_all', 0, 0.2)\n",
    "    reg_all = trial.suggest_float('reg_all', 0, 0.2)\n",
    "    biased = trial.suggest_categorical('biased', [True, False])\n",
    "\n",
    "    # Create the SVD algorithm with the suggested hyperparameters\n",
    "    algo = SVD(\n",
    "        n_factors=n_factors,\n",
    "        n_epochs=n_epochs,\n",
    "        lr_all=lr_all,\n",
    "        reg_all=reg_all,\n",
    "        biased=biased,\n",
    "        random_state=my_seed\n",
    "    )\n",
    "\n",
    "    # Perform cross-validation\n",
    "    performance = cross_validate(\n",
    "        algo,\n",
    "        anime_data,\n",
    "        measures=['RMSE'],\n",
    "        cv=KFold(n_splits=4, random_state=my_seed),\n",
    "        verbose=False\n",
    "    )\n",
    "\n",
    "    # Return the mean RMSE as the optimization target\n",
    "    return np.mean(performance['test_rmse'])"
   ]
  },
  {
   "cell_type": "markdown",
   "metadata": {},
   "source": [
    "Create and run the Optuna study"
   ]
  },
  {
   "cell_type": "code",
   "execution_count": 193,
   "metadata": {},
   "outputs": [
    {
     "name": "stderr",
     "output_type": "stream",
     "text": [
      "[I 2025-03-30 18:49:11,584] A new study created in memory with name: no-name-160bf633-c2a9-4a30-a6cc-56e54df4f651\n",
      "[I 2025-03-30 18:49:13,269] Trial 0 finished with value: 1.350313399192829 and parameters: {'n_factors': 29, 'n_epochs': 63, 'lr_all': 0.0875455478014229, 'reg_all': 0.15707171674275386, 'biased': True}. Best is trial 0 with value: 1.350313399192829.\n",
      "[I 2025-03-30 18:49:15,424] Trial 1 finished with value: 2.587807341010448 and parameters: {'n_factors': 42, 'n_epochs': 81, 'lr_all': 0.19162787073674103, 'reg_all': 0.17518652694841896, 'biased': False}. Best is trial 0 with value: 1.350313399192829.\n",
      "[I 2025-03-30 18:49:18,807] Trial 2 finished with value: 1.3395241672969744 and parameters: {'n_factors': 103, 'n_epochs': 72, 'lr_all': 0.07405015095807899, 'reg_all': 0.112239237213125, 'biased': True}. Best is trial 2 with value: 1.3395241672969744.\n",
      "[I 2025-03-30 18:49:22,361] Trial 3 finished with value: 1.6538663870088557 and parameters: {'n_factors': 116, 'n_epochs': 89, 'lr_all': 0.07297719678027446, 'reg_all': 0.12307923568669875, 'biased': False}. Best is trial 2 with value: 1.3395241672969744.\n",
      "[I 2025-03-30 18:49:25,329] Trial 4 finished with value: 1.6784005533911088 and parameters: {'n_factors': 140, 'n_epochs': 66, 'lr_all': 0.07944051554523085, 'reg_all': 0.15774602858814912, 'biased': False}. Best is trial 2 with value: 1.3395241672969744.\n",
      "[I 2025-03-30 18:49:27,496] Trial 5 finished with value: 2.587807341010448 and parameters: {'n_factors': 131, 'n_epochs': 44, 'lr_all': 0.16042952841603184, 'reg_all': 0.028753364902912915, 'biased': False}. Best is trial 2 with value: 1.3395241672969744.\n",
      "[I 2025-03-30 18:49:29,242] Trial 6 finished with value: 1.6877768179973658 and parameters: {'n_factors': 33, 'n_epochs': 93, 'lr_all': 0.08842815108083533, 'reg_all': 0.1818631917944945, 'biased': False}. Best is trial 2 with value: 1.3395241672969744.\n",
      "[I 2025-03-30 18:49:30,127] Trial 7 finished with value: 2.587807341010448 and parameters: {'n_factors': 8, 'n_epochs': 68, 'lr_all': 0.11892495598688978, 'reg_all': 0.10666203259975011, 'biased': False}. Best is trial 2 with value: 1.3395241672969744.\n",
      "[I 2025-03-30 18:49:31,673] Trial 8 finished with value: 1.3332273918610644 and parameters: {'n_factors': 50, 'n_epochs': 51, 'lr_all': 0.022378863514880765, 'reg_all': 0.12143874124369691, 'biased': True}. Best is trial 8 with value: 1.3332273918610644.\n",
      "[I 2025-03-30 18:49:35,379] Trial 9 finished with value: 1.3494160586326345 and parameters: {'n_factors': 93, 'n_epochs': 92, 'lr_all': 0.15810482661140668, 'reg_all': 0.1984162932376723, 'biased': True}. Best is trial 8 with value: 1.3332273918610644.\n"
     ]
    }
   ],
   "source": [
    "study = optuna.create_study(direction='minimize', sampler=optuna.samplers.TPESampler(seed=my_seed))\n",
    "study.optimize(objective, n_trials=10)"
   ]
  },
  {
   "cell_type": "markdown",
   "metadata": {},
   "source": [
    "Retrieve the best parameters and RMSE"
   ]
  },
  {
   "cell_type": "code",
   "execution_count": 194,
   "metadata": {},
   "outputs": [],
   "source": [
    "best_params = study.best_params\n",
    "best_rmse = study.best_value"
   ]
  },
  {
   "cell_type": "markdown",
   "metadata": {},
   "source": [
    "Print results"
   ]
  },
  {
   "cell_type": "code",
   "execution_count": 195,
   "metadata": {},
   "outputs": [
    {
     "name": "stdout",
     "output_type": "stream",
     "text": [
      "Best parameters\n",
      "  n_factors: 50\n",
      "  n_epochs: 51\n",
      "  lr_all: 0.022378863514880765\n",
      "  reg_all: 0.12143874124369691\n",
      "  biased: True\n",
      "\n",
      "Best RMSE from Optimization: 1.3332\n"
     ]
    }
   ],
   "source": [
    "print(\"Best parameters\")\n",
    "for param, value in best_params.items():\n",
    "    print(f\"  {param}: {value}\")\n",
    "print(f\"\\nBest RMSE from Optimization: {best_rmse:.4f}\")"
   ]
  },
  {
   "cell_type": "markdown",
   "metadata": {},
   "source": [
    "Retrieve hyperparameters from the best parameters"
   ]
  },
  {
   "cell_type": "code",
   "execution_count": 196,
   "metadata": {},
   "outputs": [],
   "source": [
    "final_n_factors = best_params['n_factors']\n",
    "final_n_epochs = best_params['n_epochs']\n",
    "final_lr_all = best_params['lr_all']\n",
    "final_reg_all = best_params['reg_all']\n",
    "final_biased = best_params['biased']"
   ]
  },
  {
   "cell_type": "markdown",
   "metadata": {},
   "source": [
    "Train the final SVD model with optimized hyperparameters"
   ]
  },
  {
   "cell_type": "code",
   "execution_count": 197,
   "metadata": {},
   "outputs": [],
   "source": [
    "final_model_svd = SVD(\n",
    "    n_factors=final_n_factors,\n",
    "    n_epochs=final_n_epochs,\n",
    "    lr_all=final_lr_all,\n",
    "    reg_all=final_reg_all,\n",
    "    biased=final_biased,\n",
    "    random_state=my_seed  # Ensure reproducibility\n",
    ")"
   ]
  },
  {
   "cell_type": "markdown",
   "metadata": {},
   "source": [
    "\n",
    "#### Using Auto Surprise Library"
   ]
  },
  {
   "cell_type": "markdown",
   "metadata": {},
   "source": [
    "\n",
    "We also wanted to try out the Auto Surprise Library to see another approach and automatically try other algorithms than the ones previously implemented:"
   ]
  },
  {
   "cell_type": "markdown",
   "metadata": {},
   "source": [
    "\n",
    "Intitialize auto surprise engine"
   ]
  },
  {
   "cell_type": "code",
   "execution_count": 198,
   "metadata": {},
   "outputs": [],
   "source": [
    "engine = Engine(verbose=False, algorithms=['nmf', 'svdpp', 'co_clustering', 'slope_one'])"
   ]
  },
  {
   "cell_type": "markdown",
   "metadata": {},
   "source": [
    "Start the trainer"
   ]
  },
  {
   "cell_type": "code",
   "execution_count": 199,
   "metadata": {},
   "outputs": [
    {
     "name": "stderr",
     "output_type": "stream",
     "text": [
      "job exception: This job has timed out. The results will still be used\n",
      "job exception: This job has timed out. The results will still be used\n",
      "job exception: This job has timed out. The results will still be used\n"
     ]
    }
   ],
   "source": [
    "best_algo_surprise, best_params, best_score, tasks = engine.train(\n",
    "    data=anime_data,\n",
    "    target_metric='test_rmse',\n",
    "    cpu_time_limit=30, # Run for 1 hour\n",
    "    max_evals=200\n",
    ")"
   ]
  },
  {
   "cell_type": "markdown",
   "metadata": {},
   "source": [
    "Print the best RMSE"
   ]
  },
  {
   "cell_type": "code",
   "execution_count": 200,
   "metadata": {},
   "outputs": [
    {
     "name": "stdout",
     "output_type": "stream",
     "text": [
      "Best RMSE from AutoSurprise: 1.3323\n"
     ]
    }
   ],
   "source": [
    "print(f\"Best RMSE from AutoSurprise: {best_score:.4f}\")"
   ]
  },
  {
   "cell_type": "markdown",
   "metadata": {},
   "source": [
    "Print the best parameters"
   ]
  },
  {
   "cell_type": "code",
   "execution_count": 201,
   "metadata": {},
   "outputs": [
    {
     "name": "stdout",
     "output_type": "stream",
     "text": [
      "Best Parameters:\n",
      "  lr_bi: 0.006535289860406473\n",
      "  lr_bu: 0.009299571211808768\n",
      "  lr_pu: 0.0029223106816077607\n",
      "  lr_qi: 0.004764497958813536\n",
      "  lr_yj: 0.01510566233460363\n",
      "  n_epochs: 27\n",
      "  n_factors: 28\n",
      "  reg_bi: 0.0026521070080003403\n",
      "  reg_bu: 0.0014536940543242276\n",
      "  reg_pu: 0.002181701204638987\n",
      "  reg_qi: 0.023976146814722397\n",
      "  reg_yj: 0.0036847331543828723\n"
     ]
    }
   ],
   "source": [
    "print(\"Best Parameters:\")\n",
    "for param, value in best_params.items():\n",
    "    print(f\"  {param}: {value}\")"
   ]
  },
  {
   "cell_type": "code",
   "execution_count": 202,
   "metadata": {},
   "outputs": [
    {
     "name": "stdout",
     "output_type": "stream",
     "text": [
      "svdpp\n"
     ]
    }
   ],
   "source": [
    "print(best_algo_surprise)"
   ]
  },
  {
   "cell_type": "code",
   "execution_count": 203,
   "metadata": {},
   "outputs": [],
   "source": [
    "best_model_surprise = engine.build_model(best_algo_surprise, best_params)"
   ]
  },
  {
   "cell_type": "markdown",
   "metadata": {},
   "source": [
    "\n",
    "We see that the best model found by AutoSurprise was SVD++, which is a collaborative filtering algorithm that extends traditional SVD by incorporating implicit feedback (in this case since we have explicit feedback, the algorithm treats the items a user has rated (regardless of the rating value) as implicit feedback, i.e. 1 if they have rated (watched) and 0 if not). It is interesting to see how implicit feedback can help improve the normal SVD approach, since it provides additional information about user preferences based on their overall activity, not just their explicit opinions."
   ]
  },
  {
   "cell_type": "markdown",
   "metadata": {},
   "source": [
    "\n",
    "### Content-based recommender"
   ]
  },
  {
   "cell_type": "markdown",
   "metadata": {},
   "source": []
  },
  {
   "cell_type": "code",
   "execution_count": 204,
   "metadata": {},
   "outputs": [
    {
     "data": {
      "text/html": [
       "<div>\n",
       "<style scoped>\n",
       "    .dataframe tbody tr th:only-of-type {\n",
       "        vertical-align: middle;\n",
       "    }\n",
       "\n",
       "    .dataframe tbody tr th {\n",
       "        vertical-align: top;\n",
       "    }\n",
       "\n",
       "    .dataframe thead th {\n",
       "        text-align: right;\n",
       "    }\n",
       "</style>\n",
       "<table border=\"1\" class=\"dataframe\">\n",
       "  <thead>\n",
       "    <tr style=\"text-align: right;\">\n",
       "      <th></th>\n",
       "      <th>anime_id</th>\n",
       "      <th>name</th>\n",
       "      <th>genre</th>\n",
       "      <th>type</th>\n",
       "      <th>episodes</th>\n",
       "      <th>rating</th>\n",
       "      <th>members</th>\n",
       "    </tr>\n",
       "  </thead>\n",
       "  <tbody>\n",
       "    <tr>\n",
       "      <th>0</th>\n",
       "      <td>32281</td>\n",
       "      <td>Kimi no Na wa.</td>\n",
       "      <td>Drama, Romance, School, Supernatural</td>\n",
       "      <td>Movie</td>\n",
       "      <td>1</td>\n",
       "      <td>9.37</td>\n",
       "      <td>200630</td>\n",
       "    </tr>\n",
       "    <tr>\n",
       "      <th>1</th>\n",
       "      <td>5114</td>\n",
       "      <td>Fullmetal Alchemist: Brotherhood</td>\n",
       "      <td>Action, Adventure, Drama, Fantasy, Magic, Mili...</td>\n",
       "      <td>TV</td>\n",
       "      <td>64</td>\n",
       "      <td>9.26</td>\n",
       "      <td>793665</td>\n",
       "    </tr>\n",
       "    <tr>\n",
       "      <th>2</th>\n",
       "      <td>28977</td>\n",
       "      <td>Gintama°</td>\n",
       "      <td>Action, Comedy, Historical, Parody, Samurai, S...</td>\n",
       "      <td>TV</td>\n",
       "      <td>51</td>\n",
       "      <td>9.25</td>\n",
       "      <td>114262</td>\n",
       "    </tr>\n",
       "    <tr>\n",
       "      <th>3</th>\n",
       "      <td>9253</td>\n",
       "      <td>Steins;Gate</td>\n",
       "      <td>Sci-Fi, Thriller</td>\n",
       "      <td>TV</td>\n",
       "      <td>24</td>\n",
       "      <td>9.17</td>\n",
       "      <td>673572</td>\n",
       "    </tr>\n",
       "    <tr>\n",
       "      <th>4</th>\n",
       "      <td>9969</td>\n",
       "      <td>Gintama&amp;#039;</td>\n",
       "      <td>Action, Comedy, Historical, Parody, Samurai, S...</td>\n",
       "      <td>TV</td>\n",
       "      <td>51</td>\n",
       "      <td>9.16</td>\n",
       "      <td>151266</td>\n",
       "    </tr>\n",
       "  </tbody>\n",
       "</table>\n",
       "</div>"
      ],
      "text/plain": [
       "   anime_id                              name  \\\n",
       "0     32281                    Kimi no Na wa.   \n",
       "1      5114  Fullmetal Alchemist: Brotherhood   \n",
       "2     28977                          Gintama°   \n",
       "3      9253                       Steins;Gate   \n",
       "4      9969                     Gintama&#039;   \n",
       "\n",
       "                                               genre   type episodes  rating  \\\n",
       "0               Drama, Romance, School, Supernatural  Movie        1    9.37   \n",
       "1  Action, Adventure, Drama, Fantasy, Magic, Mili...     TV       64    9.26   \n",
       "2  Action, Comedy, Historical, Parody, Samurai, S...     TV       51    9.25   \n",
       "3                                   Sci-Fi, Thriller     TV       24    9.17   \n",
       "4  Action, Comedy, Historical, Parody, Samurai, S...     TV       51    9.16   \n",
       "\n",
       "   members  \n",
       "0   200630  \n",
       "1   793665  \n",
       "2   114262  \n",
       "3   673572  \n",
       "4   151266  "
      ]
     },
     "execution_count": 204,
     "metadata": {},
     "output_type": "execute_result"
    }
   ],
   "source": [
    "anime_df = pd.read_csv('data/anime.csv')\n",
    "anime_df.head()"
   ]
  },
  {
   "cell_type": "markdown",
   "metadata": {},
   "source": [
    "\n",
    "The content-based recommender will provide recommendations based on both categorical and numerical variables. Categorical variables include the genre and type of the shows; while numerical variables include its number of episodes and subscribed members. \n",
    "\n",
    "The logic that will be applied to retrieve the list of recommendations for a given user is the following: \n",
    "based on the cosine similarities matrix from both types of variables, recommendations (ordered descendently by distance) will be provided for each of a number of interacted shows by the user. Our selected threshold was 10, at most, number of shows for which individual recommendations will be given. If the number of interactions for the user is lower than 10, all of those anime shows will have a list of recommendations. However, if the number of interactions is greater than 10, we will randomly pick 10 of them. \n",
    "Once we have an individual list of recommendations for each show (at most 10) that the user has interacted with, we will compute the average of their distance scores to obtain a new and final list which considers equally all interactions chosen. \n",
    "\n",
    "Note: the computation of the final similarity matrix in the ContentRS_Multi_Item class is performed in a weighted manner, we assume that the categorical variables have a slightly higher weight (0.6) since in films/shows streaming platforms, such as Netflix, the filters available usually represent these. "
   ]
  },
  {
   "cell_type": "markdown",
   "metadata": {},
   "source": [
    "\n",
    "Content-Based Recommender Class using the mapping"
   ]
  },
  {
   "cell_type": "code",
   "execution_count": 205,
   "metadata": {},
   "outputs": [],
   "source": [
    "from surprise.prediction_algorithms.predictions import Prediction  # Using Prediction from Surprise"
   ]
  },
  {
   "cell_type": "code",
   "execution_count": 206,
   "metadata": {},
   "outputs": [],
   "source": [
    "class ContentRS_Multi_Item:\n",
    "    def __init__(self, anime_df, cosine_sim_cat, cosine_sim_num, weight_num, weight_cat, id_to_index):\n",
    "        self.anime_df = anime_df\n",
    "        self.cosine_sim_cat = cosine_sim_cat\n",
    "        self.cosine_sim_num = cosine_sim_num\n",
    "        self.id_to_index = id_to_index  # Save the mapping\n",
    "        # Combine similarities using weights\n",
    "        self.similarity_matrix = weight_num * self.cosine_sim_num + weight_cat * self.cosine_sim_cat\n",
    "    def get_recommendations(self, anime_ids):\n",
    "        \"\"\"\n",
    "        Given a list of anime_ids, compute the average similarity score for each anime,\n",
    "        and return recommendations sorted by descending similarity, excluding the input anime.\n",
    "        \"\"\"\n",
    "        # Use the mapping to get correct indices\n",
    "        idx_list = [self.id_to_index[anime_id] for anime_id in anime_ids if anime_id in self.id_to_index]\n",
    "\n",
    "        # Initialize an array to accumulate similarity scores\n",
    "        accumulated_scores = np.zeros(self.similarity_matrix.shape[0])\n",
    "\n",
    "        # Sum similarity scores for the selected anime indices\n",
    "        for idx in idx_list:\n",
    "            accumulated_scores += self.similarity_matrix[idx]\n",
    "\n",
    "        # Calculate average similarity scores\n",
    "        avg_scores = accumulated_scores / len(idx_list)\n",
    "\n",
    "        # Create a list of (index, similarity_score) and sort descending\n",
    "        sim_scores = list(enumerate(avg_scores))\n",
    "        sim_scores = sorted(sim_scores, key=lambda x: x[1], reverse=True)\n",
    "        # Exclude the input anime themselves\n",
    "        sim_scores = [pair for pair in sim_scores if pair[0] not in idx_list]\n",
    "\n",
    "        # Retrieve recommended indices and scores\n",
    "        recommended_indices = [i for i, score in sim_scores]\n",
    "        scores = [score for i, score in sim_scores]\n",
    "\n",
    "        # Fill NaN scores with 0 using numpy.nan_to_num\n",
    "        scores = np.nan_to_num(scores, nan=0.0)\n",
    "\n",
    "        # Get recommendations from the DataFrame and add the score column\n",
    "        rec_df = self.anime_df.iloc[recommended_indices].copy()\n",
    "        rec_df['score'] = scores\n",
    "        return rec_df\n",
    "    def fit(self):\n",
    "        pass"
   ]
  },
  {
   "cell_type": "markdown",
   "metadata": {},
   "source": [
    "\n",
    "However, the above logic, while it can get more averaged predictions by considering several user interactions, it does not mimic the real logic followed by streaming platforms. Usually, only on the interacted items is chosen and the most similar items to it, in terms of metadata, are recommended. Therefore, we will create another class which resembles this reasoning."
   ]
  },
  {
   "cell_type": "markdown",
   "metadata": {},
   "source": [
    "\n",
    "Content-Based Recommender Class using the mapping"
   ]
  },
  {
   "cell_type": "code",
   "execution_count": 207,
   "metadata": {},
   "outputs": [],
   "source": [
    "class ContentRS_Single_Item:\n",
    "    def __init__(self, anime_df, cosine_sim_cat, cosine_sim_num, weight_num, weight_cat, id_to_index):\n",
    "        self.anime_df = anime_df\n",
    "        self.cosine_sim_cat = cosine_sim_cat\n",
    "        self.cosine_sim_num = cosine_sim_num\n",
    "        self.id_to_index = id_to_index  # Mapping from anime_id to DataFrame index\n",
    "        # Combine similarities using weights\n",
    "        self.similarity_matrix = weight_num * self.cosine_sim_num + weight_cat * self.cosine_sim_cat\n",
    "    def get_recommendations(self, selected_anime):\n",
    "        \"\"\"\n",
    "        Given a single selected anime id, print its id and return recommendations\n",
    "        based solely on that anime's similarity scores.\n",
    "        \"\"\"\n",
    "        if selected_anime not in self.id_to_index:\n",
    "            print(\"Selected anime id is not in the mapping.\")\n",
    "            return pd.DataFrame()\n",
    "        \n",
    "        idx = self.id_to_index[selected_anime]\n",
    "        \n",
    "        # Get the similarity scores for the selected anime\n",
    "        similarity_scores = self.similarity_matrix[idx]\n",
    "        \n",
    "        # Create a list of (index, similarity_score) pairs sorted in descending order\n",
    "        sim_scores = list(enumerate(similarity_scores))\n",
    "        sim_scores = sorted(sim_scores, key=lambda x: x[1], reverse=True)\n",
    "        \n",
    "        # Exclude the selected anime itself\n",
    "        sim_scores = [pair for pair in sim_scores if pair[0] != idx]\n",
    "        \n",
    "        # Retrieve the recommended indices and their scores\n",
    "        recommended_indices = [i for i, score in sim_scores]\n",
    "        scores = [score for i, score in sim_scores]\n",
    "        \n",
    "        # Replace any NaN scores with 0\n",
    "        scores = np.nan_to_num(scores, nan=0.0)\n",
    "        \n",
    "        # Get recommendations from the DataFrame and add a 'score' column\n",
    "        rec_df = self.anime_df.iloc[recommended_indices].copy()\n",
    "        rec_df['score'] = scores\n",
    "        return rec_df\n",
    "    def fit(self):\n",
    "        # Additional training logic (if needed) goes here.\n",
    "        pass"
   ]
  },
  {
   "cell_type": "markdown",
   "metadata": {},
   "source": [
    "\n",
    "### Ensemble Recommender"
   ]
  },
  {
   "cell_type": "markdown",
   "metadata": {},
   "source": [
    "\n",
    "Create an ensemble model using findings from ensemble.py"
   ]
  },
  {
   "cell_type": "code",
   "execution_count": 208,
   "metadata": {},
   "outputs": [],
   "source": [
    "from surprise import Prediction\n",
    "from sklearn.linear_model import LinearRegression\n",
    "import numpy as np\n",
    "import pandas as pd"
   ]
  },
  {
   "cell_type": "code",
   "execution_count": 209,
   "metadata": {},
   "outputs": [],
   "source": [
    "class EnsembleRecommender(AlgoBase):\n",
    "    def __init__(self, base_models, meta_model='Linear_Regression'):\n",
    "        AlgoBase.__init__(self)\n",
    "        self.base_models = base_models\n",
    "        self.meta_model_type = meta_model\n",
    "        self.meta_model = None\n",
    "        self.id_to_index = {}\n",
    "        \n",
    "    def fit(self, trainset):\n",
    "        # Call fit method of parent class\n",
    "        AlgoBase.fit(self, trainset)\n",
    "        \n",
    "        # Fit all base models\n",
    "        print(\"Training base models for ensemble...\")\n",
    "        for name, model in self.base_models.items():\n",
    "            model.fit(trainset)\n",
    "        \n",
    "        # Create training data for meta-model\n",
    "        # We'll use a subset of the training data to build a meta-dataset\n",
    "        all_users = list([u for (u, _, _) in trainset.all_ratings()])\n",
    "        all_items = list([i for (_, i, _) in trainset.all_ratings()])\n",
    "        \n",
    "        # Sample 20% of user-item pairs for meta-training\n",
    "        import random\n",
    "        random.seed(1234)\n",
    "        sample_size = min(5000, len(all_users) * len(all_items) // 5)\n",
    "        \n",
    "        # Build meta-training set\n",
    "        meta_data = []\n",
    "        \n",
    "        for _ in range(sample_size):\n",
    "            # Randomly select a user-item pair from the training set\n",
    "            u = random.sample(all_users, 1)[0]\n",
    "            i = random.sample(all_items, 1)[0]\n",
    "            \n",
    "            # Get the actual rating if available\n",
    "            try:\n",
    "                # Check if this user-item pair exists in the trainset\n",
    "                # This is a safer way to check if a rating exists\n",
    "                rating = None\n",
    "                for item_id, rating_val in trainset.ur[u]:\n",
    "                    if item_id == i:\n",
    "                        rating = rating_val\n",
    "                        break\n",
    "                \n",
    "                if rating is None:\n",
    "                    continue  # Skip if no rating found\n",
    "                \n",
    "                # Collect predictions from all base models\n",
    "                row = {'actual': rating}\n",
    "                \n",
    "                for name, model in self.base_models.items():\n",
    "                    try:\n",
    "                        pred = model.estimate(u, i)\n",
    "                        row[name] = pred\n",
    "                    except Exception as e:\n",
    "                        # Use global mean if a model fails\n",
    "                        row[name] = trainset.global_mean\n",
    "                \n",
    "                # Add to meta-model training data\n",
    "                meta_data.append(row)\n",
    "            except Exception as e:\n",
    "                # Skip this pair if any error occurs\n",
    "                print(f\"Error processing pair ({u}, {i}): {e}\")\n",
    "                continue\n",
    "        \n",
    "        # Train meta-model if we have enough data\n",
    "        if meta_data:\n",
    "            meta_df = pd.DataFrame(meta_data)\n",
    "            print(f\"Training meta-model with {len(meta_df)} samples\")\n",
    "            \n",
    "            # Extract features and target\n",
    "            feature_cols = [col for col in meta_df.columns if col != 'actual']\n",
    "            \n",
    "            if not feature_cols:\n",
    "                print(\"No features available for meta-model training\")\n",
    "                self.meta_model = None\n",
    "                return self\n",
    "                \n",
    "            X = meta_df[feature_cols].values\n",
    "            y = meta_df['actual'].values\n",
    "            \n",
    "            try:\n",
    "                self.meta_model = LinearRegression()\n",
    "                self.meta_model.fit(X, y)\n",
    "                print(\"Meta-model successfully trained!\")\n",
    "            except Exception as e:\n",
    "                print(f\"Error training meta-model: {e}\")\n",
    "                print(\"Falling back to average of base models\")\n",
    "                self.meta_model = None\n",
    "        else:\n",
    "            print(\"Warning: Not enough data to train meta-model. Using average of base models.\")\n",
    "            self.meta_model = None\n",
    "            \n",
    "        return self\n",
    "    \n",
    "    def estimate(self, u, i):\n",
    "        # Get predictions from base models\n",
    "        base_preds = {}\n",
    "        \n",
    "        for name, model in self.base_models.items():\n",
    "            try:\n",
    "                pred = model.estimate(u, i)\n",
    "                # Handle KNN models returning (prediction, details) tuple\n",
    "                if isinstance(pred, tuple) and len(pred) == 2 and isinstance(pred[1], dict):\n",
    "                    # Extract just the prediction value (first element)\n",
    "                    pred = pred[0]\n",
    "                base_preds[name] = pred\n",
    "            except Exception as e:\n",
    "                # Use global mean if prediction fails\n",
    "                base_preds[name] = self.trainset.global_mean\n",
    "        \n",
    "        # If meta-model is trained, use it for final prediction\n",
    "        if self.meta_model is not None:\n",
    "            try:\n",
    "                # Format features in the same order as during training\n",
    "                feature_values = [base_preds[name] for name in sorted(base_preds.keys())]\n",
    "                X = np.array([feature_values])\n",
    "                final_pred = self.meta_model.predict(X)[0]\n",
    "            except Exception as e:\n",
    "                # Fallback to average if meta-model fails\n",
    "                pred_values = list(base_preds.values())\n",
    "                final_pred = sum(pred_values) / len(pred_values) if pred_values else self.trainset.global_mean\n",
    "        else:\n",
    "            # If no meta-model, use average of base predictions\n",
    "            pred_values = list(base_preds.values())\n",
    "            final_pred = sum(pred_values) / len(pred_values) if pred_values else self.trainset.global_mean\n",
    "        \n",
    "        # Ensure prediction is within rating bounds\n",
    "        return max(min(final_pred, self.trainset.rating_scale[1]), self.trainset.rating_scale[0])"
   ]
  },
  {
   "cell_type": "markdown",
   "metadata": {},
   "source": [
    "Create base models for the ensemble"
   ]
  },
  {
   "cell_type": "code",
   "execution_count": 210,
   "metadata": {},
   "outputs": [],
   "source": [
    "base_models = {\n",
    "    'SVD': SVD(random_state=my_seed),\n",
    "    'KNNBaseline': KNNBaseline(sim_options={'name': 'pearson_baseline', 'user_based': False}),\n",
    "    'KNNWithMeans': KNNWithMeans(sim_options={'name': 'pearson', 'user_based': True})\n",
    "}"
   ]
  },
  {
   "cell_type": "markdown",
   "metadata": {},
   "source": [
    "Create the ensemble model"
   ]
  },
  {
   "cell_type": "code",
   "execution_count": 211,
   "metadata": {},
   "outputs": [],
   "source": [
    "ensemble_model = EnsembleRecommender(base_models)"
   ]
  },
  {
   "cell_type": "markdown",
   "metadata": {},
   "source": [
    "\n",
    "Fit ensemble model and evaluate"
   ]
  },
  {
   "cell_type": "code",
   "execution_count": 212,
   "metadata": {},
   "outputs": [
    {
     "name": "stdout",
     "output_type": "stream",
     "text": [
      "Training base models for ensemble...\n",
      "Estimating biases using als...\n",
      "Computing the pearson_baseline similarity matrix...\n",
      "Done computing similarity matrix.\n",
      "Computing the pearson similarity matrix...\n",
      "Done computing similarity matrix.\n",
      "Training meta-model with 107 samples\n",
      "Error training meta-model: setting an array element with a sequence.\n",
      "Falling back to average of base models\n"
     ]
    }
   ],
   "source": [
    "ensemble_model.fit(trainset)\n",
    "predictions_ensemble = ensemble_model.test(testset)"
   ]
  },
  {
   "cell_type": "code",
   "execution_count": 213,
   "metadata": {},
   "outputs": [
    {
     "name": "stdout",
     "output_type": "stream",
     "text": [
      "RMSE: 1.3256\n",
      "MAE:  1.0230\n"
     ]
    },
    {
     "data": {
      "text/plain": [
       "1.022978176486148"
      ]
     },
     "execution_count": 213,
     "metadata": {},
     "output_type": "execute_result"
    }
   ],
   "source": [
    "accuracy.rmse(predictions_ensemble, verbose=True)\n",
    "accuracy.mae(predictions_ensemble, verbose=True)"
   ]
  },
  {
   "cell_type": "code",
   "execution_count": 214,
   "metadata": {},
   "outputs": [],
   "source": [
    "y_true = [pred.r_ui for pred in predictions_ensemble]\n",
    "y_pred = [pred.est for pred in predictions_ensemble]"
   ]
  },
  {
   "cell_type": "markdown",
   "metadata": {},
   "source": [
    "Scatter plot to visualize Actual vs Predicted ratings:"
   ]
  },
  {
   "cell_type": "code",
   "execution_count": 215,
   "metadata": {},
   "outputs": [
    {
     "data": {
      "image/png": "[encoded data removed]",
      "text/plain": [
       "<Figure size 600x400 with 1 Axes>"
      ]
     },
     "metadata": {},
     "output_type": "display_data"
    }
   ],
   "source": [
    "plt.figure(figsize=(6, 4))\n",
    "plt.scatter(y_true, y_pred, alpha=0.6)\n",
    "plt.plot([min(y_true), max(y_true)], [min(y_true), max(y_true)], color='green', linestyle='--')  # Identity line\n",
    "plt.xlabel(\"Actual Ratings\")\n",
    "plt.ylabel(\"Predicted Ratings\")\n",
    "plt.title(\"Ensemble RS: Predicted vs Actual Ratings\")\n",
    "plt.grid(True)\n",
    "plt.show()"
   ]
  },
  {
   "cell_type": "markdown",
   "metadata": {},
   "source": [
    "Plot boxplots"
   ]
  },
  {
   "cell_type": "code",
   "execution_count": 216,
   "metadata": {},
   "outputs": [],
   "source": [
    "df = pd.DataFrame({\n",
    "    'Actual Rating': y_true,\n",
    "    'Predicted Rating': y_pred\n",
    "})"
   ]
  },
  {
   "cell_type": "markdown",
   "metadata": {},
   "source": [
    "Create the boxplot"
   ]
  },
  {
   "cell_type": "code",
   "execution_count": 217,
   "metadata": {},
   "outputs": [
    {
     "data": {
      "image/png": "[encoded data removed]",
      "text/plain": [
       "<Figure size 600x400 with 1 Axes>"
      ]
     },
     "metadata": {},
     "output_type": "display_data"
    }
   ],
   "source": [
    "plt.figure(figsize=(6, 4))\n",
    "sns.boxplot(data=df, x='Actual Rating', y='Predicted Rating')\n",
    "plt.title(\"Boxplot of Predicted Ratings per Actual Rating\")\n",
    "plt.xlabel(\"Actual Rating\")\n",
    "plt.ylabel(\"Predicted Rating\")\n",
    "plt.grid(True)\n",
    "plt.show()"
   ]
  },
  {
   "cell_type": "markdown",
   "metadata": {},
   "source": [
    "\n",
    "The ensemble model combines the strengths of multiple recommenders including SVD, KNNBaseline, and KNNWithMeans. \n",
    "Looking at the scatter plot, we can see that predictions are well aligned with actual ratings, \n",
    "with points clustering near the diagonal line indicating good prediction accuracy.\n",
    "\n",
    "The ensemble approach effectively leverages the different prediction patterns of the base models,\n",
    "which is evident in both the low RMSE/MAE values and the visual pattern of the predictions.\n",
    "The boxplots show that as actual ratings increase, predicted ratings also consistently increase,\n",
    "indicating that the model captures user preference patterns well.\n",
    "\n",
    "Compared to individual models, the ensemble provides more robust predictions by mitigating the\n",
    "weaknesses of any single approach, resulting in better overall performance across the rating spectrum."
   ]
  },
  {
   "cell_type": "markdown",
   "metadata": {},
   "source": [
    "\n",
    "## 4. Performance Assessment"
   ]
  },
  {
   "cell_type": "markdown",
   "metadata": {},
   "source": [
    "\n",
    "### A) Accuracy"
   ]
  },
  {
   "cell_type": "markdown",
   "metadata": {},
   "source": [
    "\n",
    "#### 1. Random Recommender"
   ]
  },
  {
   "cell_type": "markdown",
   "metadata": {},
   "source": []
  },
  {
   "cell_type": "code",
   "execution_count": 218,
   "metadata": {},
   "outputs": [],
   "source": [
    "random_RS.fit(trainset);\n",
    "predictions_random = random_RS.test(testset)"
   ]
  },
  {
   "cell_type": "code",
   "execution_count": 219,
   "metadata": {},
   "outputs": [
    {
     "name": "stdout",
     "output_type": "stream",
     "text": [
      "RMSE: 2.1103\n",
      "MAE:  1.6779\n"
     ]
    }
   ],
   "source": [
    "accuracy.rmse(predictions_random, verbose=True);\n",
    "accuracy.mae(predictions_random, verbose=True);"
   ]
  },
  {
   "cell_type": "code",
   "execution_count": 220,
   "metadata": {},
   "outputs": [],
   "source": [
    "y_true = [pred.r_ui for pred in predictions_random]\n",
    "y_pred = [pred.est for pred in predictions_random]"
   ]
  },
  {
   "cell_type": "markdown",
   "metadata": {},
   "source": [
    "Scatter plot to visualize Actual vs Predicted ratings:"
   ]
  },
  {
   "cell_type": "code",
   "execution_count": 221,
   "metadata": {},
   "outputs": [
    {
     "data": {
      "image/png": "[encoded data removed]",
      "text/plain": [
       "<Figure size 600x400 with 1 Axes>"
      ]
     },
     "metadata": {},
     "output_type": "display_data"
    }
   ],
   "source": [
    "plt.figure(figsize=(6, 4))\n",
    "plt.scatter(y_true, y_pred, alpha=0.6)\n",
    "plt.plot([min(y_true), max(y_true)], [min(y_true), max(y_true)], color='green', linestyle='--')  # Identity line\n",
    "plt.xlabel(\"Actual Ratings\")\n",
    "plt.ylabel(\"Predicted Ratings\")\n",
    "plt.title(\"Random RS: Predicted vs Actual Ratings\")\n",
    "plt.grid(True)\n",
    "plt.show()"
   ]
  },
  {
   "cell_type": "markdown",
   "metadata": {},
   "source": [
    "Plot boxplots"
   ]
  },
  {
   "cell_type": "code",
   "execution_count": 222,
   "metadata": {},
   "outputs": [],
   "source": [
    "df = pd.DataFrame({\n",
    "    'Actual Rating': y_true,\n",
    "    'Predicted Rating': y_pred\n",
    "})"
   ]
  },
  {
   "cell_type": "markdown",
   "metadata": {},
   "source": [
    "Create the boxplot"
   ]
  },
  {
   "cell_type": "code",
   "execution_count": 223,
   "metadata": {},
   "outputs": [
    {
     "data": {
      "image/png": "[encoded data removed]",
      "text/plain": [
       "<Figure size 600x400 with 1 Axes>"
      ]
     },
     "metadata": {},
     "output_type": "display_data"
    }
   ],
   "source": [
    "plt.figure(figsize=(6, 4))\n",
    "sns.boxplot(data=df, x='Actual Rating', y='Predicted Rating')\n",
    "plt.title(\"Boxplot of Predicted Ratings per Actual Rating\")\n",
    "plt.xlabel(\"Actual Rating\")\n",
    "plt.ylabel(\"Predicted Rating\")\n",
    "plt.grid(True)\n",
    "plt.show()"
   ]
  },
  {
   "cell_type": "markdown",
   "metadata": {},
   "source": [
    "\n",
    "From the first plot, we can see that for each actual rating value, predicted ratings are very scattered. This confirms the behavior of your recommender: it generates predictions using a normal distribution, without considering users or items. Very few points are at the left of the plot since very few actual ratings are low. Also, predictions are never extremely low since we are using a normal distribution with the ratings' actual mean and standard deviation for generating predictions (and the mean is high, 7.82).\n",
    "\n",
    "A good recommender would have points close to the red line, or at least increasing predicted ratings with increasing actual ratings. Here, predictions do not align well with actual ratings, confirming poor accuracy.\n",
    "\n",
    "We can also see the cut-off at 10 (no predictions are above this value), and this is thanks to the library's Dataset where we specify the min and max values for predictions to stay within the business limit.\n",
    "\n",
    "From the second visualization it is clear that predictions are completely random, with the box plots staying relatively the same regardless of the values of actual ratings.\n",
    "\n",
    "Overall, the plots confirm that our random recommender is non-personalized and inaccurate, as expected."
   ]
  },
  {
   "cell_type": "markdown",
   "metadata": {},
   "source": [
    "\n",
    "#### 2. Popular Recommender"
   ]
  },
  {
   "cell_type": "markdown",
   "metadata": {},
   "source": []
  },
  {
   "cell_type": "code",
   "execution_count": 224,
   "metadata": {},
   "outputs": [],
   "source": [
    "popular_RS.fit(trainset);\n",
    "predictions_popular = popular_RS.test(testset)"
   ]
  },
  {
   "cell_type": "code",
   "execution_count": 225,
   "metadata": {},
   "outputs": [
    {
     "name": "stdout",
     "output_type": "stream",
     "text": [
      "RMSE: 1.5299\n",
      "MAE:  1.1876\n"
     ]
    }
   ],
   "source": [
    "accuracy.rmse(predictions_popular, verbose=True);\n",
    "accuracy.mae(predictions_popular, verbose=True);"
   ]
  },
  {
   "cell_type": "code",
   "execution_count": 226,
   "metadata": {},
   "outputs": [],
   "source": [
    "y_true = [pred.r_ui for pred in predictions_popular]\n",
    "y_pred = [pred.est for pred in predictions_popular]"
   ]
  },
  {
   "cell_type": "markdown",
   "metadata": {},
   "source": [
    "Scatter plot to visualize Actual vs Predicted ratings:"
   ]
  },
  {
   "cell_type": "code",
   "execution_count": 227,
   "metadata": {},
   "outputs": [
    {
     "data": {
      "image/png": "[encoded data removed]",
      "text/plain": [
       "<Figure size 600x400 with 1 Axes>"
      ]
     },
     "metadata": {},
     "output_type": "display_data"
    }
   ],
   "source": [
    "plt.figure(figsize=(6, 4))\n",
    "plt.scatter(y_true, y_pred, alpha=0.6)\n",
    "plt.plot([min(y_true), max(y_true)], [min(y_true), max(y_true)], color='green', linestyle='--')  # Identity line\n",
    "plt.xlabel(\"Actual Ratings\")\n",
    "plt.ylabel(\"Predicted Ratings\")\n",
    "plt.title(\"Popular RS: Predicted vs Actual Ratings\")\n",
    "plt.grid(True)\n",
    "plt.show()"
   ]
  },
  {
   "cell_type": "markdown",
   "metadata": {},
   "source": [
    "Plot boxplots"
   ]
  },
  {
   "cell_type": "code",
   "execution_count": 228,
   "metadata": {},
   "outputs": [],
   "source": [
    "df = pd.DataFrame({\n",
    "    'Actual Rating': y_true,\n",
    "    'Predicted Rating': y_pred\n",
    "})"
   ]
  },
  {
   "cell_type": "markdown",
   "metadata": {},
   "source": [
    "Create the boxplot"
   ]
  },
  {
   "cell_type": "code",
   "execution_count": 229,
   "metadata": {},
   "outputs": [
    {
     "data": {
      "image/png": "[encoded data removed]",
      "text/plain": [
       "<Figure size 600x400 with 1 Axes>"
      ]
     },
     "metadata": {},
     "output_type": "display_data"
    }
   ],
   "source": [
    "plt.figure(figsize=(6, 4))\n",
    "sns.boxplot(data=df, x='Actual Rating', y='Predicted Rating')\n",
    "plt.title(\"Boxplot of Predicted Ratings per Actual Rating\")\n",
    "plt.xlabel(\"Actual Rating\")\n",
    "plt.ylabel(\"Predicted Rating\")\n",
    "plt.grid(True)\n",
    "plt.show()"
   ]
  },
  {
   "cell_type": "markdown",
   "metadata": {},
   "source": [
    "\n",
    "Compared to the random recommender, we can see that here predicted ratings are more clustered and concentrated, around the average scores of the items. This shows that predictions are not completely random anymore, but the recommender consistently assigns the same value to each item (its mean rating).\n",
    "\n",
    "Points are still not following the diagonal red line. However, we can see that they are consistently around 8 which makes sense since most animes had this rating and this was also more or less the global average, so many items likely have an average rating close to this value resulting in many predictions being in this range.\n",
    "\n",
    "From the boxplots we can also conclude that performance is slightly better, because although predictions are very disperse and in many cases far away from the actual rating, still the general behavior is that the distribution of predicted ratings increases as the real rating increases, which is an improvement from the random recommender.\n",
    "\n",
    "Predictions for items with actual low ratings are relatively high. This suggests there is a bias towards higher ratings; the model is overestimating the ratings because the average ratings in this case are mostly high (since the training data is left-skewed)"
   ]
  },
  {
   "cell_type": "markdown",
   "metadata": {},
   "source": [
    "\n",
    "#### 3. Memory-based collaborative filtering (with hyperparameter tuning)"
   ]
  },
  {
   "cell_type": "markdown",
   "metadata": {},
   "source": []
  },
  {
   "cell_type": "code",
   "execution_count": 230,
   "metadata": {},
   "outputs": [
    {
     "name": "stdout",
     "output_type": "stream",
     "text": [
      "Estimating biases using als...\n",
      "Computing the cosine similarity matrix...\n",
      "Done computing similarity matrix.\n"
     ]
    }
   ],
   "source": [
    "memory_based_final.fit(trainset)\n",
    "predictions_memory_based = memory_based_final.test(testset)"
   ]
  },
  {
   "cell_type": "code",
   "execution_count": 231,
   "metadata": {},
   "outputs": [
    {
     "name": "stdout",
     "output_type": "stream",
     "text": [
      "RMSE: 1.3119\n",
      "MAE:  1.0255\n"
     ]
    }
   ],
   "source": [
    "accuracy.rmse(predictions_memory_based, verbose=True);\n",
    "accuracy.mae(predictions_memory_based, verbose=True);"
   ]
  },
  {
   "cell_type": "code",
   "execution_count": 232,
   "metadata": {},
   "outputs": [],
   "source": [
    "y_true = [pred.r_ui for pred in predictions_memory_based]\n",
    "y_pred = [pred.est for pred in predictions_memory_based]"
   ]
  },
  {
   "cell_type": "markdown",
   "metadata": {},
   "source": [
    "Scatter plot to visualize Actual vs Predicted ratings:"
   ]
  },
  {
   "cell_type": "code",
   "execution_count": 233,
   "metadata": {},
   "outputs": [
    {
     "data": {
      "image/png": "[encoded data removed]",
      "text/plain": [
       "<Figure size 600x400 with 1 Axes>"
      ]
     },
     "metadata": {},
     "output_type": "display_data"
    }
   ],
   "source": [
    "plt.figure(figsize=(6, 4))\n",
    "plt.scatter(y_true, y_pred, alpha=0.6)\n",
    "plt.plot([min(y_true), max(y_true)], [min(y_true), max(y_true)], color='green', linestyle='--')  # Identity line\n",
    "plt.xlabel(\"Actual Ratings\")\n",
    "plt.ylabel(\"Predicted Ratings\")\n",
    "plt.title(\"Memory-Based Collaborative Filtering RS: Predicted vs Actual Ratings\")\n",
    "plt.grid(True)\n",
    "plt.show()"
   ]
  },
  {
   "cell_type": "markdown",
   "metadata": {},
   "source": [
    "Plot boxplots"
   ]
  },
  {
   "cell_type": "code",
   "execution_count": 234,
   "metadata": {},
   "outputs": [],
   "source": [
    "df = pd.DataFrame({\n",
    "    'Actual Rating': y_true,\n",
    "    'Predicted Rating': y_pred\n",
    "})"
   ]
  },
  {
   "cell_type": "markdown",
   "metadata": {},
   "source": [
    "Create the boxplot"
   ]
  },
  {
   "cell_type": "code",
   "execution_count": 235,
   "metadata": {},
   "outputs": [
    {
     "data": {
      "image/png": "[encoded data removed]",
      "text/plain": [
       "<Figure size 600x400 with 1 Axes>"
      ]
     },
     "metadata": {},
     "output_type": "display_data"
    }
   ],
   "source": [
    "plt.figure(figsize=(6, 4))\n",
    "sns.boxplot(data=df, x='Actual Rating', y='Predicted Rating')\n",
    "plt.title(\"Boxplot of Predicted Ratings per Actual Rating\")\n",
    "plt.xlabel(\"Actual Rating\")\n",
    "plt.ylabel(\"Predicted Rating\")\n",
    "plt.grid(True)\n",
    "plt.show()"
   ]
  },
  {
   "cell_type": "markdown",
   "metadata": {},
   "source": [
    "\n",
    "The final memory-based Collaborative Filtering Recommender shows a clear improvement over the non-personalized ones. Predicted ratings are less disperse than before, they are relatively closer to the diagonal and there is an overall increase in predicted ratings as real ratings increase. There is a better alignment with actual ratings.\n",
    "\n",
    "This recommender is evidently more personalized and accurate than the random and popular recommenders. However, we can still see that many predictions are concentrated between 6 and 10, even for lower actual ratings, once again probably due to the skew of the data.\n",
    "\n",
    "We can reach these same conclusions from the second visualization. It is more clearly seen here how the distribution of predicted ratings increases as actual ratings increase, which means this model is better capturing user preferences. Nonetheless, prediction values are still disperse (the whiskers of the boxplots are relatively long and there are many outliers)."
   ]
  },
  {
   "cell_type": "markdown",
   "metadata": {},
   "source": [
    "\n",
    "#### 4. Model-based collaborative filtering recommender (with hyperparameter tuning)"
   ]
  },
  {
   "cell_type": "markdown",
   "metadata": {},
   "source": []
  },
  {
   "cell_type": "code",
   "execution_count": 236,
   "metadata": {},
   "outputs": [],
   "source": [
    "final_model_svd.fit(trainset)\n",
    "predictions_svd = final_model_svd.test(testset)"
   ]
  },
  {
   "cell_type": "code",
   "execution_count": 237,
   "metadata": {},
   "outputs": [
    {
     "name": "stdout",
     "output_type": "stream",
     "text": [
      "RMSE: 1.3187\n",
      "MAE:  1.0189\n"
     ]
    }
   ],
   "source": [
    "accuracy.rmse(predictions_svd, verbose=True);\n",
    "accuracy.mae(predictions_svd, verbose=True);"
   ]
  },
  {
   "cell_type": "code",
   "execution_count": 238,
   "metadata": {},
   "outputs": [],
   "source": [
    "y_true = [pred.r_ui for pred in predictions_svd]\n",
    "y_pred = [pred.est for pred in predictions_svd]"
   ]
  },
  {
   "cell_type": "markdown",
   "metadata": {},
   "source": [
    "Scatter plot to visualize Actual vs Predicted ratings:"
   ]
  },
  {
   "cell_type": "code",
   "execution_count": 239,
   "metadata": {},
   "outputs": [
    {
     "data": {
      "image/png": "[encoded data removed]",
      "text/plain": [
       "<Figure size 600x400 with 1 Axes>"
      ]
     },
     "metadata": {},
     "output_type": "display_data"
    }
   ],
   "source": [
    "plt.figure(figsize=(6, 4))\n",
    "plt.scatter(y_true, y_pred, alpha=0.6)\n",
    "plt.plot([min(y_true), max(y_true)], [min(y_true), max(y_true)], color='green', linestyle='--')  # Identity line\n",
    "plt.xlabel(\"Actual Ratings\")\n",
    "plt.ylabel(\"Predicted Ratings\")\n",
    "plt.title(\"Model-Based CF RS: Predicted vs Actual Ratings\")\n",
    "plt.grid(True)\n",
    "plt.show()"
   ]
  },
  {
   "cell_type": "markdown",
   "metadata": {},
   "source": [
    "Plot boxplots"
   ]
  },
  {
   "cell_type": "code",
   "execution_count": 240,
   "metadata": {},
   "outputs": [],
   "source": [
    "df = pd.DataFrame({\n",
    "    'Actual Rating': y_true,\n",
    "    'Predicted Rating': y_pred\n",
    "})"
   ]
  },
  {
   "cell_type": "markdown",
   "metadata": {},
   "source": [
    "Create the boxplot"
   ]
  },
  {
   "cell_type": "code",
   "execution_count": 241,
   "metadata": {},
   "outputs": [
    {
     "data": {
      "image/png": "[encoded data removed]",
      "text/plain": [
       "<Figure size 600x400 with 1 Axes>"
      ]
     },
     "metadata": {},
     "output_type": "display_data"
    }
   ],
   "source": [
    "plt.figure(figsize=(6, 4))\n",
    "sns.boxplot(data=df, x='Actual Rating', y='Predicted Rating')\n",
    "plt.title(\"Boxplot of Predicted Ratings per Actual Rating\")\n",
    "plt.xlabel(\"Actual Rating\")\n",
    "plt.ylabel(\"Predicted Rating\")\n",
    "plt.grid(True)\n",
    "plt.show()"
   ]
  },
  {
   "cell_type": "markdown",
   "metadata": {},
   "source": [
    "\n",
    "This plots show that in terms of accuracy, the model-based CF recommender is clearly the best so far, also seen in its RMSE and MAE values. From the scatter plot we see a stronger diagonal trend compared to before, although there could still be some room for improvement. It seems like it is difficult for all recommenders to predict low ratings simply because there are very few examples of this in the training set, therefore they do not learn to give low ratings. This results in most predictions being above the \"perfect\" diagonal, however there is a trend where predictions in general increase as real ratings increase.\n",
    "\n",
    "From the boxplots we can see a similar behavior. It is very clear that the distribution of predicted ratings increase as actual ratings increase (the slope is stronger than in the memory-based CF recommender). The amount of outliers and the sizes of the IQRs are not very different from the memory-based plot.\n",
    "\n",
    "In general, we can conclude that the model is able to learn meaningful latent factors for users and items, resulting in a good performance where it can capture user preferences and hidden patterns."
   ]
  },
  {
   "cell_type": "markdown",
   "metadata": {},
   "source": [
    "\n",
    "#### 5. SVD++ from Auto Surprise Library"
   ]
  },
  {
   "cell_type": "markdown",
   "metadata": {},
   "source": []
  },
  {
   "cell_type": "code",
   "execution_count": 242,
   "metadata": {},
   "outputs": [],
   "source": [
    "best_model_surprise.fit(trainset)\n",
    "predictions_surprise = best_model_surprise.test(testset)"
   ]
  },
  {
   "cell_type": "code",
   "execution_count": 243,
   "metadata": {},
   "outputs": [
    {
     "name": "stdout",
     "output_type": "stream",
     "text": [
      "RMSE: 1.3190\n",
      "MAE:  1.0224\n"
     ]
    }
   ],
   "source": [
    "rmse = accuracy.rmse(predictions_surprise)\n",
    "mae = accuracy.mae(predictions_surprise)"
   ]
  },
  {
   "cell_type": "code",
   "execution_count": 244,
   "metadata": {},
   "outputs": [
    {
     "name": "stdout",
     "output_type": "stream",
     "text": [
      "AutoSurprise Best Model Accuracy: RMSE = 1.3190, MAE = 1.0224\n"
     ]
    }
   ],
   "source": [
    "print(f\"AutoSurprise Best Model Accuracy: RMSE = {rmse:.4f}, MAE = {mae:.4f}\")"
   ]
  },
  {
   "cell_type": "code",
   "execution_count": 245,
   "metadata": {},
   "outputs": [],
   "source": [
    "y_true = [pred.r_ui for pred in predictions_surprise]\n",
    "y_pred = [pred.est for pred in predictions_surprise]"
   ]
  },
  {
   "cell_type": "markdown",
   "metadata": {},
   "source": [
    "Scatter plot to visualize Actual vs Predicted ratings:"
   ]
  },
  {
   "cell_type": "code",
   "execution_count": 246,
   "metadata": {},
   "outputs": [
    {
     "data": {
      "image/png": "[encoded data removed]",
      "text/plain": [
       "<Figure size 800x600 with 1 Axes>"
      ]
     },
     "metadata": {},
     "output_type": "display_data"
    }
   ],
   "source": [
    "plt.figure(figsize=(8, 6))\n",
    "plt.scatter(y_true, y_pred, alpha=0.6)\n",
    "plt.plot([min(y_true), max(y_true)], [min(y_true), max(y_true)], color='green', linestyle='--')  # Identity line\n",
    "plt.xlabel(\"Actual Ratings\")\n",
    "plt.ylabel(\"Predicted Ratings\")\n",
    "plt.title(\"Auto Surprise RS: Predicted vs Actual Ratings\")\n",
    "plt.grid(True)\n",
    "plt.show()"
   ]
  },
  {
   "cell_type": "markdown",
   "metadata": {},
   "source": [
    "Plot boxplots"
   ]
  },
  {
   "cell_type": "code",
   "execution_count": 247,
   "metadata": {},
   "outputs": [],
   "source": [
    "df = pd.DataFrame({\n",
    "    'Actual Rating': y_true,\n",
    "    'Predicted Rating': y_pred\n",
    "})"
   ]
  },
  {
   "cell_type": "markdown",
   "metadata": {},
   "source": [
    "Create the boxplot"
   ]
  },
  {
   "cell_type": "code",
   "execution_count": 248,
   "metadata": {},
   "outputs": [
    {
     "data": {
      "image/png": "[encoded data removed]",
      "text/plain": [
       "<Figure size 800x600 with 1 Axes>"
      ]
     },
     "metadata": {},
     "output_type": "display_data"
    }
   ],
   "source": [
    "plt.figure(figsize=(8, 6))\n",
    "sns.boxplot(data=df, x='Actual Rating', y='Predicted Rating')\n",
    "plt.title(\"Boxplot of Predicted Ratings per Actual Rating\")\n",
    "plt.xlabel(\"Actual Rating\")\n",
    "plt.ylabel(\"Predicted Rating\")\n",
    "plt.grid(True)\n",
    "plt.show()"
   ]
  },
  {
   "cell_type": "markdown",
   "metadata": {},
   "source": [
    "\n",
    "This last collaborative filtering recommender had a good performance, actually very similar to the basic SVD, but with slightly highger RMSE and MAE. Therefore, for the upcoming performance assessment (non-acuracy metrics) this model will not be taken into consideration and we will ffocus only on the other model-based CF recommender."
   ]
  },
  {
   "cell_type": "markdown",
   "metadata": {},
   "source": [
    "\n",
    "### B) Beyond Accuracy"
   ]
  },
  {
   "cell_type": "markdown",
   "metadata": {},
   "source": [
    "\n",
    "For the content-based recommendations, we have to filter out the animes from the original anime_df that don't appear in the sampled ratings dataframe, otherwise when computing the non-accuracy metrics, such as coverage, we will obtain unusual values (more than 100% of the catalog) since we are considering items that are not in the catalog of the filtered dataset. Another important consideration is that the index of these filtered anime_ids have to be changed since some of them may be outside the new dimension. \n",
    "\n",
    "The calculation of the similarities for the different variables is computed with the following methods: \n",
    "- For the categorical variables, we will use Bag-of-Words since other methods, such as TD-IDF or BERT, are suitable when there is a text variable to which it can be applied. In our dataset, we already have the \"lemmas\". \n",
    "- For the numerical variables, they will be scaled before computing the similarities distances. \n"
   ]
  },
  {
   "cell_type": "markdown",
   "metadata": {},
   "source": [
    "\n",
    "Filter and reset index on anime_df"
   ]
  },
  {
   "cell_type": "code",
   "execution_count": 249,
   "metadata": {},
   "outputs": [],
   "source": [
    "anime_ids_filtered = ratings_df['anime_id'].unique()\n",
    "anime_df_filtered = anime_df[anime_df['anime_id'].isin(anime_ids_filtered)].copy()\n",
    "anime_df_filtered.reset_index(drop=True, inplace=True)"
   ]
  },
  {
   "cell_type": "markdown",
   "metadata": {},
   "source": [
    "Create a mapping from anime_id to new index (0 to n-1)"
   ]
  },
  {
   "cell_type": "code",
   "execution_count": 250,
   "metadata": {},
   "outputs": [],
   "source": [
    "id_to_index = pd.Series(anime_df_filtered.index, index=anime_df_filtered['anime_id']).to_dict()"
   ]
  },
  {
   "cell_type": "markdown",
   "metadata": {},
   "source": [
    "Now compute the similarity matrices using anime_df_filtered (after reset)\n",
    "Categorical Similarity Calculation"
   ]
  },
  {
   "cell_type": "code",
   "execution_count": 251,
   "metadata": {},
   "outputs": [],
   "source": [
    "from sklearn.feature_extraction.text import CountVectorizer\n",
    "categorical_cols = ['genre', 'type']\n",
    "items_cat_df = anime_df_filtered[categorical_cols].copy()\n",
    "items_cat_df = items_cat_df.apply(lambda x: x.str.lower())\n",
    "items_cat_df = items_cat_df.apply(lambda x: x.str.replace(' ', '').str.replace(',', ''))\n",
    "items_cat_df = items_cat_df.fillna('').astype(str)\n",
    "items_cat_df['soup'] = items_cat_df[categorical_cols].agg(' '.join, axis=1)\n",
    "vectorizer = CountVectorizer()\n",
    "count_matrix = vectorizer.fit_transform(items_cat_df['soup'])\n",
    "from sklearn.metrics.pairwise import cosine_similarity\n",
    "cosine_sim_cat = cosine_similarity(count_matrix)"
   ]
  },
  {
   "cell_type": "markdown",
   "metadata": {},
   "source": [
    "Numerical Similarity Calculation"
   ]
  },
  {
   "cell_type": "code",
   "execution_count": 252,
   "metadata": {},
   "outputs": [],
   "source": [
    "from sklearn.preprocessing import StandardScaler\n",
    "numerical_cols = ['episodes', 'members']\n",
    "anime_df_filtered[numerical_cols] = anime_df_filtered[numerical_cols].apply(pd.to_numeric, errors='coerce')\n",
    "numerical_data = anime_df_filtered[numerical_cols]\n",
    "numerical_data_filled = numerical_data.fillna(numerical_data.mean())\n",
    "scaler = StandardScaler()\n",
    "numerical_data_scaled = scaler.fit_transform(numerical_data_filled)\n",
    "cosine_sim_num = cosine_similarity(numerical_data_scaled)"
   ]
  },
  {
   "cell_type": "markdown",
   "metadata": {},
   "source": [
    "\n",
    "First, we will instantiate the content recommender that considers multiple items (up to 10) for the computation of the final recommendations list based on the average similarities scores list. "
   ]
  },
  {
   "cell_type": "markdown",
   "metadata": {},
   "source": [
    "\n",
    "Initialization code"
   ]
  },
  {
   "cell_type": "code",
   "execution_count": 253,
   "metadata": {},
   "outputs": [],
   "source": [
    "weight_num = 0.4\n",
    "weight_cat = 0.6\n",
    "content_rs_multi = ContentRS_Multi_Item(anime_df_filtered, cosine_sim_cat, cosine_sim_num, weight_num, weight_cat, id_to_index)"
   ]
  },
  {
   "cell_type": "markdown",
   "metadata": {},
   "source": [
    "Generate predictions (the rest of your code remains the same)"
   ]
  },
  {
   "cell_type": "code",
   "execution_count": 254,
   "metadata": {},
   "outputs": [],
   "source": [
    "user_watched_items = ratings_df.groupby('user_id')['anime_id'].apply(list)\n",
    "predictions_content_multi = []\n",
    "n_items_per_user = 10\n",
    "default_r_ui = ratings_df['rating'].mean()  # Using the mean rating as default\n",
    "my_seed = 42"
   ]
  },
  {
   "cell_type": "code",
   "execution_count": 255,
   "metadata": {},
   "outputs": [],
   "source": [
    "for user_id, watched_anime_ids in user_watched_items.items():\n",
    "    if len(watched_anime_ids) < n_items_per_user:\n",
    "        selected_anime_ids = watched_anime_ids\n",
    "    else:\n",
    "        random.seed(my_seed)\n",
    "        selected_anime_ids = random.sample(watched_anime_ids, n_items_per_user)\n",
    "    rec_df = content_rs_multi.get_recommendations(selected_anime_ids)\n",
    "    for _, row in rec_df.iterrows():\n",
    "        predictions_content_multi.append(\n",
    "            Prediction(\n",
    "                uid=user_id,\n",
    "                iid=row['anime_id'],\n",
    "                r_ui=default_r_ui,\n",
    "                est=row['score'],\n",
    "                details={'was_impossible': False}\n",
    "            )\n",
    "        )"
   ]
  },
  {
   "cell_type": "markdown",
   "metadata": {},
   "source": [
    "\n",
    "Following, we will define the content recommender based randomly only on one of the items each user has interacted with."
   ]
  },
  {
   "cell_type": "markdown",
   "metadata": {},
   "source": [
    "\n",
    "Initialization code"
   ]
  },
  {
   "cell_type": "code",
   "execution_count": 256,
   "metadata": {},
   "outputs": [],
   "source": [
    "weight_num = 0.4\n",
    "weight_cat = 0.6\n",
    "content_rs_single = ContentRS_Single_Item(anime_df_filtered, cosine_sim_cat, cosine_sim_num,\n",
    "                                          weight_num, weight_cat, id_to_index)"
   ]
  },
  {
   "cell_type": "markdown",
   "metadata": {},
   "source": [
    "Generate predictions using the single-item approach for each user"
   ]
  },
  {
   "cell_type": "code",
   "execution_count": 257,
   "metadata": {},
   "outputs": [],
   "source": [
    "user_watched_items = ratings_df.groupby('user_id')['anime_id'].apply(list)\n",
    "predictions_content_single = []\n",
    "default_r_ui = ratings_df['rating'].mean()  # Using the mean rating as default\n",
    "my_seed = 42"
   ]
  },
  {
   "cell_type": "code",
   "execution_count": 258,
   "metadata": {},
   "outputs": [
    {
     "name": "stdout",
     "output_type": "stream",
     "text": [
      "User: 18 selected anime id: 27899\n",
      "User: 33 selected anime id: 1535\n",
      "User: 47 selected anime id: 996\n",
      "User: 61 selected anime id: 9756\n",
      "User: 80 selected anime id: 19815\n",
      "User: 126 selected anime id: 777\n",
      "User: 129 selected anime id: 6637\n",
      "User: 200 selected anime id: 14345\n",
      "User: 226 selected anime id: 668\n",
      "User: 228 selected anime id: 9756\n",
      "User: 239 selected anime id: 11771\n",
      "User: 271 selected anime id: 20939\n",
      "User: 278 selected anime id: 4224\n",
      "User: 291 selected anime id: 2236\n",
      "User: 377 selected anime id: 10161\n",
      "User: 412 selected anime id: 3342\n",
      "User: 446 selected anime id: 5342\n",
      "User: 462 selected anime id: 32438\n",
      "User: 492 selected anime id: 10165\n",
      "User: 501 selected anime id: 20899\n",
      "User: 515 selected anime id: 8425\n",
      "User: 561 selected anime id: 20507\n",
      "User: 564 selected anime id: 14967\n",
      "User: 585 selected anime id: 22135\n",
      "User: 601 selected anime id: 1840\n",
      "User: 610 selected anime id: 317\n",
      "User: 642 selected anime id: 10321\n",
      "User: 653 selected anime id: 523\n",
      "User: 701 selected anime id: 270\n",
      "User: 737 selected anime id: 4565\n",
      "User: 770 selected anime id: 1686\n",
      "User: 771 selected anime id: 12119\n",
      "User: 773 selected anime id: 241\n",
      "User: 829 selected anime id: 8460\n",
      "User: 854 selected anime id: 11759\n",
      "User: 913 selected anime id: 1535\n",
      "User: 961 selected anime id: 91\n",
      "User: 962 selected anime id: 121\n",
      "User: 976 selected anime id: 6956\n",
      "User: 987 selected anime id: 11759\n",
      "User: 1021 selected anime id: 10278\n",
      "User: 1033 selected anime id: 16498\n",
      "User: 1053 selected anime id: 13601\n",
      "User: 1079 selected anime id: 11757\n",
      "User: 1142 selected anime id: 1535\n",
      "User: 1157 selected anime id: 6675\n",
      "User: 1167 selected anime id: 21853\n",
      "User: 1184 selected anime id: 2966\n",
      "User: 1205 selected anime id: 12355\n",
      "User: 1211 selected anime id: 849\n",
      "User: 1249 selected anime id: 17389\n",
      "User: 1288 selected anime id: 223\n",
      "User: 1292 selected anime id: 11633\n",
      "User: 1306 selected anime id: 1195\n",
      "User: 1402 selected anime id: 31043\n",
      "User: 1422 selected anime id: 9656\n",
      "User: 1423 selected anime id: 1535\n",
      "User: 1451 selected anime id: 1575\n",
      "User: 1485 selected anime id: 617\n",
      "User: 1495 selected anime id: 17777\n",
      "User: 1564 selected anime id: 12365\n",
      "User: 1565 selected anime id: 11763\n",
      "User: 1571 selected anime id: 755\n",
      "User: 1628 selected anime id: 6547\n",
      "User: 1634 selected anime id: 18393\n",
      "User: 1690 selected anime id: 813\n",
      "User: 1798 selected anime id: 331\n",
      "User: 1813 selected anime id: 31580\n",
      "User: 1816 selected anime id: 6880\n",
      "User: 1838 selected anime id: 19369\n",
      "User: 1848 selected anime id: 8074\n",
      "User: 1861 selected anime id: 12549\n",
      "User: 1916 selected anime id: 16067\n",
      "User: 1924 selected anime id: 68\n",
      "User: 1948 selected anime id: 6702\n",
      "User: 1959 selected anime id: 5150\n",
      "User: 1999 selected anime id: 10080\n",
      "User: 2005 selected anime id: 11757\n",
      "User: 2012 selected anime id: 2236\n",
      "User: 2024 selected anime id: 664\n",
      "User: 2070 selected anime id: 11759\n",
      "User: 2084 selected anime id: 122\n",
      "User: 2087 selected anime id: 777\n",
      "User: 2107 selected anime id: 11319\n",
      "User: 2137 selected anime id: 6880\n",
      "User: 2152 selected anime id: 22297\n",
      "User: 2165 selected anime id: 28223\n",
      "User: 2171 selected anime id: 6707\n",
      "User: 2188 selected anime id: 9041\n",
      "User: 2189 selected anime id: 25183\n",
      "User: 2246 selected anime id: 11703\n",
      "User: 2252 selected anime id: 223\n",
      "User: 2306 selected anime id: 1836\n",
      "User: 2389 selected anime id: 22145\n",
      "User: 2407 selected anime id: 5356\n",
      "User: 2410 selected anime id: 30375\n",
      "User: 2466 selected anime id: 8756\n",
      "User: 2481 selected anime id: 10087\n",
      "User: 2565 selected anime id: 4181\n",
      "User: 2580 selected anime id: 11597\n",
      "User: 2623 selected anime id: 23283\n",
      "User: 2624 selected anime id: 5958\n",
      "User: 2649 selected anime id: 1118\n",
      "User: 2688 selected anime id: 21775\n",
      "User: 2738 selected anime id: 8841\n",
      "User: 2813 selected anime id: 830\n",
      "User: 2820 selected anime id: 21431\n",
      "User: 2836 selected anime id: 29786\n",
      "User: 2840 selected anime id: 4081\n",
      "User: 2860 selected anime id: 15335\n",
      "User: 2861 selected anime id: 15051\n",
      "User: 2873 selected anime id: 2924\n",
      "User: 2894 selected anime id: 10620\n",
      "User: 2912 selected anime id: 28927\n",
      "User: 2922 selected anime id: 228\n",
      "User: 2933 selected anime id: 27775\n",
      "User: 2986 selected anime id: 8937\n",
      "User: 3029 selected anime id: 23755\n",
      "User: 3092 selected anime id: 11737\n",
      "User: 3109 selected anime id: 8888\n",
      "User: 3111 selected anime id: 4224\n",
      "User: 3115 selected anime id: 3731\n",
      "User: 3127 selected anime id: 1210\n",
      "User: 3151 selected anime id: 13655\n",
      "User: 3216 selected anime id: 15451\n",
      "User: 3283 selected anime id: 13599\n",
      "User: 3320 selected anime id: 18679\n",
      "User: 3350 selected anime id: 28701\n",
      "User: 3388 selected anime id: 28171\n",
      "User: 3399 selected anime id: 6747\n",
      "User: 3426 selected anime id: 5968\n",
      "User: 3427 selected anime id: 14131\n",
      "User: 3469 selected anime id: 15451\n",
      "User: 3485 selected anime id: 16157\n",
      "User: 3494 selected anime id: 11741\n",
      "User: 3496 selected anime id: 8460\n",
      "User: 3500 selected anime id: 23369\n",
      "User: 3520 selected anime id: 22297\n",
      "User: 3521 selected anime id: 5081\n",
      "User: 3547 selected anime id: 1575\n",
      "User: 3552 selected anime id: 7148\n",
      "User: 3561 selected anime id: 19685\n",
      "User: 3566 selected anime id: 6880\n",
      "User: 3603 selected anime id: 9919\n",
      "User: 3665 selected anime id: 30240\n",
      "User: 3730 selected anime id: 18679\n",
      "User: 3751 selected anime id: 1575\n",
      "User: 3771 selected anime id: 6702\n",
      "User: 3780 selected anime id: 13601\n",
      "User: 3784 selected anime id: 43\n",
      "User: 3792 selected anime id: 6746\n",
      "User: 3818 selected anime id: 10719\n",
      "User: 3836 selected anime id: 161\n",
      "User: 3839 selected anime id: 1639\n",
      "User: 3846 selected anime id: 6213\n",
      "User: 3857 selected anime id: 29786\n",
      "User: 3902 selected anime id: 355\n",
      "User: 3940 selected anime id: 11771\n",
      "User: 3943 selected anime id: 6702\n",
      "User: 3981 selected anime id: 11837\n",
      "User: 4008 selected anime id: 813\n",
      "User: 4026 selected anime id: 2001\n",
      "User: 4053 selected anime id: 14267\n",
      "User: 4066 selected anime id: 72\n",
      "User: 4139 selected anime id: 14713\n",
      "User: 4160 selected anime id: 9367\n",
      "User: 4161 selected anime id: 30544\n",
      "User: 4194 selected anime id: 29067\n",
      "User: 4302 selected anime id: 329\n",
      "User: 4340 selected anime id: 1535\n",
      "User: 4374 selected anime id: 7711\n",
      "User: 4377 selected anime id: 238\n",
      "User: 4392 selected anime id: 539\n",
      "User: 4431 selected anime id: 15315\n",
      "User: 4462 selected anime id: 850\n",
      "User: 4554 selected anime id: 14227\n",
      "User: 4559 selected anime id: 2904\n",
      "User: 4583 selected anime id: 23251\n",
      "User: 4590 selected anime id: 17082\n",
      "User: 4603 selected anime id: 12565\n",
      "User: 4641 selected anime id: 14513\n",
      "User: 4648 selected anime id: 16498\n",
      "User: 4649 selected anime id: 10015\n",
      "User: 4662 selected anime id: 5751\n",
      "User: 4683 selected anime id: 19369\n",
      "User: 4690 selected anime id: 29095\n",
      "User: 4696 selected anime id: 16894\n",
      "User: 4720 selected anime id: 2236\n",
      "User: 4742 selected anime id: 11771\n",
      "User: 4775 selected anime id: 2904\n",
      "User: 4838 selected anime id: 2505\n",
      "User: 4894 selected anime id: 1562\n",
      "User: 4965 selected anime id: 6203\n",
      "User: 5010 selected anime id: 4550\n",
      "User: 5017 selected anime id: 721\n",
      "User: 5116 selected anime id: 5680\n",
      "User: 5120 selected anime id: 63\n",
      "User: 5154 selected anime id: 1179\n",
      "User: 5167 selected anime id: 934\n",
      "User: 5168 selected anime id: 6\n",
      "User: 5189 selected anime id: 265\n",
      "User: 5221 selected anime id: 1889\n",
      "User: 5261 selected anime id: 119\n",
      "User: 5275 selected anime id: 431\n",
      "User: 5299 selected anime id: 122\n",
      "User: 5303 selected anime id: 896\n",
      "User: 5304 selected anime id: 1571\n",
      "User: 5309 selected anime id: 849\n",
      "User: 5445 selected anime id: 18247\n",
      "User: 5463 selected anime id: 431\n",
      "User: 5479 selected anime id: 2961\n",
      "User: 5536 selected anime id: 2313\n",
      "User: 5543 selected anime id: 122\n",
      "User: 5547 selected anime id: 975\n",
      "User: 5565 selected anime id: 3366\n",
      "User: 5591 selected anime id: 237\n",
      "User: 5617 selected anime id: 2923\n",
      "User: 5665 selected anime id: 1860\n",
      "User: 5668 selected anime id: 13161\n",
      "User: 5679 selected anime id: 1579\n",
      "User: 5701 selected anime id: 918\n",
      "User: 5702 selected anime id: 979\n",
      "User: 5709 selected anime id: 164\n",
      "User: 5710 selected anime id: 1530\n",
      "User: 5715 selected anime id: 304\n",
      "User: 5719 selected anime id: 65\n",
      "User: 5874 selected anime id: 2787\n",
      "User: 5875 selected anime id: 1818\n",
      "User: 5888 selected anime id: 1619\n",
      "User: 5919 selected anime id: 532\n",
      "User: 6022 selected anime id: 5039\n",
      "User: 6035 selected anime id: 696\n",
      "User: 6036 selected anime id: 5196\n",
      "User: 6054 selected anime id: 232\n",
      "User: 6058 selected anime id: 2966\n",
      "User: 6065 selected anime id: 1692\n",
      "User: 6077 selected anime id: 121\n",
      "User: 6082 selected anime id: 457\n",
      "User: 6089 selected anime id: 30240\n",
      "User: 6126 selected anime id: 2034\n",
      "User: 6197 selected anime id: 5957\n",
      "User: 6198 selected anime id: 120\n",
      "User: 6213 selected anime id: 596\n",
      "User: 6214 selected anime id: 1686\n",
      "User: 6216 selected anime id: 10408\n",
      "User: 6243 selected anime id: 4752\n",
      "User: 6250 selected anime id: 916\n",
      "User: 6257 selected anime id: 564\n",
      "User: 6270 selected anime id: 8514\n",
      "User: 6276 selected anime id: 121\n",
      "User: 6294 selected anime id: 4898\n",
      "User: 6302 selected anime id: 2476\n",
      "User: 6306 selected anime id: 199\n",
      "User: 6348 selected anime id: 2581\n",
      "User: 6351 selected anime id: 119\n",
      "User: 6356 selected anime id: 12467\n",
      "User: 6360 selected anime id: 2273\n",
      "User: 6372 selected anime id: 430\n",
      "User: 6381 selected anime id: 4725\n",
      "User: 6523 selected anime id: 226\n",
      "User: 6603 selected anime id: 687\n",
      "User: 6710 selected anime id: 27899\n",
      "User: 6717 selected anime id: 31845\n",
      "User: 6771 selected anime id: 324\n",
      "User: 6797 selected anime id: 894\n",
      "User: 6815 selected anime id: 22\n",
      "User: 6822 selected anime id: 2713\n",
      "User: 6895 selected anime id: 7817\n",
      "User: 6969 selected anime id: 20767\n",
      "User: 6974 selected anime id: 10163\n",
      "User: 6989 selected anime id: 9981\n",
      "User: 6995 selected anime id: 908\n",
      "User: 7006 selected anime id: 2034\n",
      "User: 7070 selected anime id: 195\n",
      "User: 7079 selected anime id: 30\n",
      "User: 7080 selected anime id: 7720\n",
      "User: 7099 selected anime id: 3927\n",
      "User: 7108 selected anime id: 2418\n",
      "User: 7139 selected anime id: 6547\n",
      "User: 7146 selected anime id: 317\n",
      "User: 7147 selected anime id: 2001\n",
      "User: 7158 selected anime id: 770\n",
      "User: 7199 selected anime id: 1689\n",
      "User: 7212 selected anime id: 199\n",
      "User: 7219 selected anime id: 4581\n",
      "User: 7221 selected anime id: 1965\n",
      "User: 7231 selected anime id: 4792\n",
      "User: 7235 selected anime id: 20855\n",
      "User: 7306 selected anime id: 3485\n",
      "User: 7340 selected anime id: 11113\n",
      "User: 7345 selected anime id: 14575\n",
      "User: 7357 selected anime id: 199\n",
      "User: 7365 selected anime id: 10721\n",
      "User: 7367 selected anime id: 2236\n",
      "User: 7377 selected anime id: 2993\n",
      "User: 7382 selected anime id: 226\n",
      "User: 7390 selected anime id: 72\n",
      "User: 7407 selected anime id: 898\n",
      "User: 7415 selected anime id: 45\n",
      "User: 7445 selected anime id: 570\n",
      "User: 7449 selected anime id: 1920\n",
      "User: 7466 selected anime id: 7791\n",
      "User: 7468 selected anime id: 4835\n",
      "User: 7501 selected anime id: 50\n",
      "User: 7504 selected anime id: 2952\n",
      "User: 7508 selected anime id: 1530\n",
      "User: 7521 selected anime id: 4672\n",
      "User: 7564 selected anime id: 223\n",
      "User: 7609 selected anime id: 4981\n",
      "User: 7610 selected anime id: 18679\n",
      "User: 7632 selected anime id: 4918\n",
      "User: 7634 selected anime id: 4037\n",
      "User: 7708 selected anime id: 532\n",
      "User: 7769 selected anime id: 3901\n",
      "User: 7781 selected anime id: 30\n",
      "User: 7789 selected anime id: 4814\n",
      "User: 7812 selected anime id: 419\n",
      "User: 7816 selected anime id: 17729\n",
      "User: 7905 selected anime id: 20\n",
      "User: 7930 selected anime id: 1571\n",
      "User: 8007 selected anime id: 4898\n",
      "User: 8016 selected anime id: 801\n",
      "User: 8028 selected anime id: 257\n",
      "User: 8030 selected anime id: 552\n",
      "User: 8100 selected anime id: 14837\n",
      "User: 8127 selected anime id: 226\n",
      "User: 8140 selected anime id: 138\n",
      "User: 8170 selected anime id: 205\n",
      "User: 8203 selected anime id: 384\n",
      "User: 8213 selected anime id: 2963\n",
      "User: 8233 selected anime id: 31\n",
      "User: 8247 selected anime id: 226\n",
      "User: 8305 selected anime id: 1686\n",
      "User: 8312 selected anime id: 157\n",
      "User: 8315 selected anime id: 889\n",
      "User: 8362 selected anime id: 1023\n",
      "User: 8494 selected anime id: 30137\n",
      "User: 8522 selected anime id: 22199\n",
      "User: 8536 selected anime id: 2993\n",
      "User: 8575 selected anime id: 16706\n",
      "User: 8577 selected anime id: 14227\n",
      "User: 8605 selected anime id: 22199\n",
      "User: 8609 selected anime id: 4224\n",
      "User: 8686 selected anime id: 59\n",
      "User: 8854 selected anime id: 120\n",
      "User: 8919 selected anime id: 22265\n",
      "User: 8963 selected anime id: 1281\n",
      "User: 8980 selected anime id: 2927\n",
      "User: 9068 selected anime id: 33\n",
      "User: 9129 selected anime id: 23281\n",
      "User: 9152 selected anime id: 28405\n",
      "User: 9163 selected anime id: 3588\n",
      "User: 9178 selected anime id: 10408\n",
      "User: 9276 selected anime id: 12115\n",
      "User: 9299 selected anime id: 22319\n",
      "User: 9352 selected anime id: 28675\n",
      "User: 9381 selected anime id: 23283\n",
      "User: 9386 selected anime id: 14227\n",
      "User: 9412 selected anime id: 30831\n",
      "User: 9472 selected anime id: 32648\n",
      "User: 9479 selected anime id: 849\n",
      "User: 9523 selected anime id: 6547\n",
      "User: 9524 selected anime id: 11499\n",
      "User: 9532 selected anime id: 11757\n",
      "User: 9534 selected anime id: 31741\n",
      "User: 9553 selected anime id: 18677\n",
      "User: 9560 selected anime id: 28999\n",
      "User: 9635 selected anime id: 3455\n",
      "User: 9637 selected anime id: 23273\n",
      "User: 9686 selected anime id: 17074\n",
      "User: 9719 selected anime id: 578\n",
      "User: 9780 selected anime id: 1425\n",
      "User: 9851 selected anime id: 11061\n",
      "User: 9854 selected anime id: 528\n",
      "User: 9856 selected anime id: 25157\n",
      "User: 9963 selected anime id: 10719\n",
      "User: 10075 selected anime id: 32595\n",
      "User: 10112 selected anime id: 16742\n",
      "User: 10141 selected anime id: 2034\n",
      "User: 10194 selected anime id: 29583\n",
      "User: 10211 selected anime id: 43\n",
      "User: 10232 selected anime id: 101\n",
      "User: 10233 selected anime id: 5681\n",
      "User: 10239 selected anime id: 1575\n",
      "User: 10251 selected anime id: 3457\n",
      "User: 10256 selected anime id: 272\n",
      "User: 10279 selected anime id: 3359\n",
      "User: 10307 selected anime id: 11837\n",
      "User: 10360 selected anime id: 270\n",
      "User: 10389 selected anime id: 199\n",
      "User: 10398 selected anime id: 793\n",
      "User: 10420 selected anime id: 59\n",
      "User: 10480 selected anime id: 66\n",
      "User: 10492 selected anime id: 60\n",
      "User: 10496 selected anime id: 694\n",
      "User: 10523 selected anime id: 1065\n",
      "User: 10549 selected anime id: 387\n",
      "User: 10552 selected anime id: 391\n",
      "User: 10557 selected anime id: 202\n",
      "User: 10582 selected anime id: 2034\n",
      "User: 10584 selected anime id: 558\n",
      "User: 10590 selected anime id: 5060\n",
      "User: 10599 selected anime id: 64\n",
      "User: 10610 selected anime id: 6045\n",
      "User: 10615 selected anime id: 468\n",
      "User: 10626 selected anime id: 100\n",
      "User: 10668 selected anime id: 317\n",
      "User: 10669 selected anime id: 3841\n",
      "User: 10689 selected anime id: 3012\n",
      "User: 10715 selected anime id: 1579\n",
      "User: 10783 selected anime id: 400\n",
      "User: 10831 selected anime id: 1818\n",
      "User: 10863 selected anime id: 2025\n",
      "User: 10871 selected anime id: 2775\n",
      "User: 10873 selected anime id: 849\n",
      "User: 10893 selected anime id: 2001\n",
      "User: 10909 selected anime id: 1210\n",
      "User: 10913 selected anime id: 2476\n",
      "User: 10940 selected anime id: 25649\n",
      "User: 10985 selected anime id: 272\n",
      "User: 11000 selected anime id: 889\n",
      "User: 11011 selected anime id: 3503\n",
      "User: 11016 selected anime id: 30\n",
      "User: 11034 selected anime id: 1482\n",
      "User: 11047 selected anime id: 393\n",
      "User: 11154 selected anime id: 61\n",
      "User: 11243 selected anime id: 2167\n",
      "User: 11248 selected anime id: 651\n",
      "User: 11253 selected anime id: 8129\n",
      "User: 11267 selected anime id: 2605\n",
      "User: 11283 selected anime id: 356\n",
      "User: 11352 selected anime id: 49\n",
      "User: 11354 selected anime id: 1859\n",
      "User: 11415 selected anime id: 836\n",
      "User: 11462 selected anime id: 452\n",
      "User: 11483 selected anime id: 317\n",
      "User: 11486 selected anime id: 20\n",
      "User: 11502 selected anime id: 2904\n",
      "User: 11505 selected anime id: 1535\n",
      "User: 11507 selected anime id: 1311\n",
      "User: 11536 selected anime id: 5845\n",
      "User: 11539 selected anime id: 452\n",
      "User: 11549 selected anime id: 6372\n",
      "User: 11554 selected anime id: 2829\n",
      "User: 11561 selected anime id: 1480\n",
      "User: 11598 selected anime id: 22535\n",
      "User: 11617 selected anime id: 10719\n",
      "User: 11684 selected anime id: 23847\n",
      "User: 11747 selected anime id: 10620\n",
      "User: 11798 selected anime id: 6880\n",
      "User: 11825 selected anime id: 10020\n",
      "User: 11861 selected anime id: 19815\n",
      "User: 11877 selected anime id: 9367\n",
      "User: 11892 selected anime id: 1535\n",
      "User: 11925 selected anime id: 28927\n",
      "User: 11935 selected anime id: 18671\n",
      "User: 11946 selected anime id: 7088\n",
      "User: 11990 selected anime id: 31798\n",
      "User: 12026 selected anime id: 9513\n",
      "User: 12033 selected anime id: 28819\n",
      "User: 12049 selected anime id: 10080\n",
      "User: 12079 selected anime id: 15583\n",
      "User: 12140 selected anime id: 10719\n",
      "User: 12198 selected anime id: 5114\n",
      "User: 12226 selected anime id: 28285\n",
      "User: 12272 selected anime id: 121\n",
      "User: 12292 selected anime id: 855\n",
      "User: 12305 selected anime id: 16498\n",
      "User: 12326 selected anime id: 482\n",
      "User: 12334 selected anime id: 4106\n",
      "User: 12367 selected anime id: 121\n",
      "User: 12439 selected anime id: 10067\n",
      "User: 12470 selected anime id: 7817\n",
      "User: 12497 selected anime id: 4106\n",
      "User: 12515 selected anime id: 21167\n",
      "User: 12517 selected anime id: 4280\n",
      "User: 12530 selected anime id: 2130\n",
      "User: 12535 selected anime id: 777\n",
      "User: 12537 selected anime id: 104\n",
      "User: 12545 selected anime id: 15379\n",
      "User: 12580 selected anime id: 18115\n",
      "User: 12591 selected anime id: 3655\n",
      "User: 12592 selected anime id: 9355\n",
      "User: 12601 selected anime id: 846\n",
      "User: 12610 selected anime id: 1689\n",
      "User: 12630 selected anime id: 530\n",
      "User: 12651 selected anime id: 8408\n",
      "User: 12670 selected anime id: 1118\n",
      "User: 12687 selected anime id: 1689\n",
      "User: 12706 selected anime id: 7588\n",
      "User: 12709 selected anime id: 1488\n",
      "User: 12716 selected anime id: 17729\n",
      "User: 12754 selected anime id: 22199\n",
      "User: 12792 selected anime id: 6016\n",
      "User: 12814 selected anime id: 18153\n",
      "User: 12825 selected anime id: 2142\n",
      "User: 12874 selected anime id: 7645\n",
      "User: 12899 selected anime id: 9989\n",
      "User: 12930 selected anime id: 416\n",
      "User: 12979 selected anime id: 27899\n",
      "User: 12987 selected anime id: 64\n",
      "User: 12992 selected anime id: 18507\n",
      "User: 13025 selected anime id: 27899\n",
      "User: 13034 selected anime id: 29095\n",
      "User: 13046 selected anime id: 6746\n",
      "User: 13047 selected anime id: 19\n",
      "User: 13086 selected anime id: 16067\n",
      "User: 13150 selected anime id: 20\n",
      "User: 13176 selected anime id: 31859\n",
      "User: 13178 selected anime id: 18679\n",
      "User: 13190 selected anime id: 11757\n",
      "User: 13196 selected anime id: 52\n",
      "User: 13262 selected anime id: 5764\n",
      "User: 13301 selected anime id: 19109\n",
      "User: 13320 selected anime id: 14349\n",
      "User: 13323 selected anime id: 28623\n",
      "User: 13346 selected anime id: 121\n",
      "User: 13387 selected anime id: 6594\n",
      "User: 13411 selected anime id: 18679\n",
      "User: 13412 selected anime id: 14227\n",
      "User: 13427 selected anime id: 2734\n",
      "User: 13489 selected anime id: 853\n",
      "User: 13525 selected anime id: 31637\n",
      "User: 13557 selected anime id: 32182\n",
      "User: 13561 selected anime id: 1535\n",
      "User: 13569 selected anime id: 9982\n",
      "User: 13573 selected anime id: 4898\n",
      "User: 13577 selected anime id: 2873\n",
      "User: 13579 selected anime id: 11887\n",
      "User: 13584 selected anime id: 1535\n",
      "User: 13632 selected anime id: 9253\n",
      "User: 13636 selected anime id: 3712\n",
      "User: 13682 selected anime id: 747\n",
      "User: 13691 selected anime id: 9181\n",
      "User: 13693 selected anime id: 6746\n",
      "User: 13725 selected anime id: 13271\n",
      "User: 13740 selected anime id: 5530\n",
      "User: 13756 selected anime id: 2904\n",
      "User: 13822 selected anime id: 121\n",
      "User: 13861 selected anime id: 14513\n",
      "User: 13909 selected anime id: 1818\n",
      "User: 13920 selected anime id: 19647\n",
      "User: 13963 selected anime id: 523\n",
      "User: 14041 selected anime id: 8768\n",
      "User: 14068 selected anime id: 1691\n",
      "User: 14078 selected anime id: 9253\n",
      "User: 14088 selected anime id: 9919\n",
      "User: 14134 selected anime id: 15809\n",
      "User: 14187 selected anime id: 8074\n",
      "User: 14214 selected anime id: 28297\n",
      "User: 14272 selected anime id: 990\n",
      "User: 14312 selected anime id: 29067\n",
      "User: 14313 selected anime id: 11665\n",
      "User: 14338 selected anime id: 20507\n",
      "User: 14388 selected anime id: 13391\n",
      "User: 14389 selected anime id: 14813\n",
      "User: 14401 selected anime id: 9366\n",
      "User: 14403 selected anime id: 22663\n",
      "User: 14422 selected anime id: 11061\n",
      "User: 14445 selected anime id: 18897\n",
      "User: 14457 selected anime id: 29803\n",
      "User: 14476 selected anime id: 882\n",
      "User: 14544 selected anime id: 9253\n",
      "User: 14597 selected anime id: 11123\n",
      "User: 14610 selected anime id: 1400\n",
      "User: 14620 selected anime id: 1887\n",
      "User: 14636 selected anime id: 1889\n",
      "User: 14698 selected anime id: 226\n",
      "User: 14716 selected anime id: 531\n",
      "User: 14736 selected anime id: 6213\n",
      "User: 14782 selected anime id: 14513\n",
      "User: 14788 selected anime id: 2966\n",
      "User: 14859 selected anime id: 21603\n",
      "User: 14862 selected anime id: 7817\n",
      "User: 14883 selected anime id: 8142\n",
      "User: 14924 selected anime id: 20021\n",
      "User: 14974 selected anime id: 30503\n",
      "User: 15018 selected anime id: 395\n",
      "User: 15030 selected anime id: 7337\n",
      "User: 15065 selected anime id: 28677\n",
      "User: 15072 selected anime id: 22535\n",
      "User: 15096 selected anime id: 4224\n",
      "User: 15155 selected anime id: 6408\n",
      "User: 15170 selected anime id: 21603\n",
      "User: 15196 selected anime id: 9065\n",
      "User: 15200 selected anime id: 10155\n",
      "User: 15264 selected anime id: 205\n",
      "User: 15290 selected anime id: 5941\n",
      "User: 15299 selected anime id: 853\n",
      "User: 15306 selected anime id: 31798\n",
      "User: 15318 selected anime id: 853\n",
      "User: 15323 selected anime id: 9756\n",
      "User: 15325 selected anime id: 1818\n",
      "User: 15327 selected anime id: 6707\n",
      "User: 15349 selected anime id: 1639\n",
      "User: 15441 selected anime id: 1709\n",
      "User: 15445 selected anime id: 16894\n",
      "User: 15474 selected anime id: 4224\n",
      "User: 15546 selected anime id: 6875\n",
      "User: 15550 selected anime id: 7593\n",
      "User: 15552 selected anime id: 5060\n",
      "User: 15557 selected anime id: 11499\n",
      "User: 15575 selected anime id: 523\n",
      "User: 15586 selected anime id: 10087\n",
      "User: 15649 selected anime id: 853\n",
      "User: 15666 selected anime id: 935\n",
      "User: 15668 selected anime id: 3667\n",
      "User: 15726 selected anime id: 23317\n",
      "User: 15779 selected anime id: 11741\n",
      "User: 15786 selected anime id: 4382\n",
      "User: 15807 selected anime id: 2476\n",
      "User: 15845 selected anime id: 6895\n",
      "User: 15852 selected anime id: 227\n",
      "User: 15883 selected anime id: 30\n",
      "User: 15890 selected anime id: 10378\n",
      "User: 15909 selected anime id: 25015\n",
      "User: 15924 selected anime id: 30\n",
      "User: 15925 selected anime id: 1535\n",
      "User: 15956 selected anime id: 1254\n",
      "User: 16030 selected anime id: 10578\n",
      "User: 16052 selected anime id: 384\n",
      "User: 16088 selected anime id: 2890\n",
      "User: 16091 selected anime id: 392\n",
      "User: 16097 selected anime id: 205\n",
      "User: 16132 selected anime id: 874\n",
      "User: 16142 selected anime id: 6\n",
      "User: 16173 selected anime id: 53\n",
      "User: 16193 selected anime id: 1532\n",
      "User: 16208 selected anime id: 435\n",
      "User: 16254 selected anime id: 45\n",
      "User: 16266 selected anime id: 1818\n",
      "User: 16322 selected anime id: 4884\n",
      "User: 16333 selected anime id: 226\n",
      "User: 16351 selected anime id: 853\n",
      "User: 16389 selected anime id: 10354\n",
      "User: 16399 selected anime id: 467\n",
      "User: 16410 selected anime id: 6922\n",
      "User: 16412 selected anime id: 5525\n",
      "User: 16426 selected anime id: 11887\n",
      "User: 16440 selected anime id: 1535\n",
      "User: 16516 selected anime id: 8516\n",
      "User: 16551 selected anime id: 13403\n",
      "User: 16619 selected anime id: 3588\n",
      "User: 16629 selected anime id: 5955\n",
      "User: 16630 selected anime id: 121\n",
      "User: 16631 selected anime id: 14227\n",
      "User: 16657 selected anime id: 1827\n",
      "User: 16674 selected anime id: 11111\n",
      "User: 16721 selected anime id: 199\n",
      "User: 16738 selected anime id: 487\n",
      "User: 16845 selected anime id: 13659\n",
      "User: 16863 selected anime id: 189\n",
      "User: 16886 selected anime id: 15605\n",
      "User: 16916 selected anime id: 227\n",
      "User: 17018 selected anime id: 120\n",
      "User: 17060 selected anime id: 9989\n",
      "User: 17088 selected anime id: 14941\n",
      "User: 17152 selected anime id: 15583\n",
      "User: 17160 selected anime id: 2896\n",
      "User: 17172 selected anime id: 11111\n",
      "User: 17223 selected anime id: 9253\n",
      "User: 17232 selected anime id: 19489\n",
      "User: 17291 selected anime id: 4181\n",
      "User: 17320 selected anime id: 18671\n",
      "User: 17365 selected anime id: 8129\n",
      "User: 17371 selected anime id: 2889\n",
      "User: 17428 selected anime id: 8525\n",
      "User: 17471 selected anime id: 934\n",
      "User: 17493 selected anime id: 16524\n",
      "User: 17496 selected anime id: 9253\n",
      "User: 17501 selected anime id: 20\n",
      "User: 17534 selected anime id: 48\n",
      "User: 17572 selected anime id: 6702\n",
      "User: 17604 selected anime id: 2993\n",
      "User: 17659 selected anime id: 23673\n",
      "User: 17663 selected anime id: 31637\n",
      "User: 17676 selected anime id: 20541\n",
      "User: 17692 selected anime id: 18897\n",
      "User: 17721 selected anime id: 516\n",
      "User: 17752 selected anime id: 6746\n",
      "User: 17765 selected anime id: 11111\n",
      "User: 17780 selected anime id: 16894\n",
      "User: 17783 selected anime id: 22839\n",
      "User: 17796 selected anime id: 23673\n",
      "User: 17884 selected anime id: 6747\n",
      "User: 17887 selected anime id: 28677\n",
      "User: 17931 selected anime id: 7411\n",
      "User: 17980 selected anime id: 11703\n",
      "User: 17983 selected anime id: 3229\n",
      "User: 17987 selected anime id: 2071\n",
      "User: 17990 selected anime id: 7054\n",
      "User: 18021 selected anime id: 3588\n",
      "User: 18030 selected anime id: 32122\n",
      "User: 18031 selected anime id: 355\n",
      "User: 18044 selected anime id: 28701\n",
      "User: 18075 selected anime id: 9367\n",
      "User: 18115 selected anime id: 8408\n",
      "User: 18130 selected anime id: 7059\n",
      "User: 18223 selected anime id: 7674\n",
      "User: 18257 selected anime id: 10604\n",
      "User: 18270 selected anime id: 834\n",
      "User: 18295 selected anime id: 1685\n",
      "User: 18320 selected anime id: 10408\n",
      "User: 18343 selected anime id: 4898\n",
      "User: 18349 selected anime id: 19951\n",
      "User: 18422 selected anime id: 12355\n",
      "User: 18426 selected anime id: 3853\n",
      "User: 18454 selected anime id: 47\n",
      "User: 18476 selected anime id: 4224\n",
      "User: 18523 selected anime id: 9736\n",
      "User: 18564 selected anime id: 11285\n",
      "User: 18570 selected anime id: 59\n",
      "User: 18574 selected anime id: 8460\n",
      "User: 18578 selected anime id: 10620\n",
      "User: 18592 selected anime id: 14289\n",
      "User: 18600 selected anime id: 16524\n",
      "User: 18610 selected anime id: 3457\n",
      "User: 18640 selected anime id: 14345\n",
      "User: 18646 selected anime id: 4059\n",
      "User: 18651 selected anime id: 16894\n",
      "User: 18666 selected anime id: 11111\n",
      "User: 18673 selected anime id: 5118\n",
      "User: 18715 selected anime id: 457\n",
      "User: 18719 selected anime id: 7724\n",
      "User: 18745 selected anime id: 47\n",
      "User: 18768 selected anime id: 26349\n",
      "User: 18787 selected anime id: 121\n",
      "User: 18790 selected anime id: 1535\n",
      "User: 18827 selected anime id: 15451\n",
      "User: 18837 selected anime id: 2001\n",
      "User: 18850 selected anime id: 11981\n",
      "User: 18882 selected anime id: 25681\n",
      "User: 18895 selected anime id: 10161\n",
      "User: 18924 selected anime id: 2034\n",
      "User: 18964 selected anime id: 5258\n",
      "User: 18982 selected anime id: 564\n",
      "User: 19003 selected anime id: 16498\n",
      "User: 19032 selected anime id: 6707\n",
      "User: 19046 selected anime id: 30\n",
      "User: 19052 selected anime id: 17265\n",
      "User: 19059 selected anime id: 4415\n",
      "User: 19106 selected anime id: 10330\n",
      "User: 19206 selected anime id: 9379\n",
      "User: 19207 selected anime id: 2775\n",
      "User: 19215 selected anime id: 10793\n",
      "User: 19221 selected anime id: 2800\n",
      "User: 19306 selected anime id: 10161\n",
      "User: 19373 selected anime id: 5341\n",
      "User: 19380 selected anime id: 20057\n",
      "User: 19437 selected anime id: 2129\n",
      "User: 19456 selected anime id: 199\n",
      "User: 19502 selected anime id: 13357\n",
      "User: 19526 selected anime id: 11241\n",
      "User: 19546 selected anime id: 3446\n",
      "User: 19550 selected anime id: 181\n",
      "User: 19560 selected anime id: 4884\n",
      "User: 19565 selected anime id: 3712\n",
      "User: 19680 selected anime id: 1535\n",
      "User: 19692 selected anime id: 1977\n",
      "User: 19714 selected anime id: 997\n",
      "User: 19724 selected anime id: 16011\n",
      "User: 19779 selected anime id: 8841\n",
      "User: 19794 selected anime id: 150\n",
      "User: 19812 selected anime id: 18247\n",
      "User: 19895 selected anime id: 14741\n",
      "User: 19920 selected anime id: 2952\n",
      "User: 19923 selected anime id: 2167\n",
      "User: 19963 selected anime id: 10793\n",
      "User: 19968 selected anime id: 512\n",
      "User: 19974 selected anime id: 14967\n",
      "User: 19982 selected anime id: 17265\n",
      "User: 20000 selected anime id: 8460\n",
      "User: 20053 selected anime id: 13357\n",
      "User: 20064 selected anime id: 813\n",
      "User: 20096 selected anime id: 2167\n",
      "User: 20132 selected anime id: 31163\n",
      "User: 20154 selected anime id: 889\n",
      "User: 20247 selected anime id: 330\n",
      "User: 20307 selected anime id: 13667\n",
      "User: 20345 selected anime id: 934\n",
      "User: 20400 selected anime id: 1535\n",
      "User: 20413 selected anime id: 20899\n",
      "User: 20552 selected anime id: 121\n",
      "User: 20558 selected anime id: 512\n",
      "User: 20574 selected anime id: 2131\n",
      "User: 20590 selected anime id: 10620\n",
      "User: 20607 selected anime id: 67\n",
      "User: 20625 selected anime id: 1506\n",
      "User: 20663 selected anime id: 2476\n",
      "User: 20735 selected anime id: 16512\n",
      "User: 20748 selected anime id: 16668\n",
      "User: 20761 selected anime id: 894\n",
      "User: 20788 selected anime id: 270\n",
      "User: 20791 selected anime id: 16498\n",
      "User: 20819 selected anime id: 20507\n",
      "User: 20828 selected anime id: 27899\n",
      "User: 20829 selected anime id: 31318\n",
      "User: 20833 selected anime id: 6547\n",
      "User: 20900 selected anime id: 157\n",
      "User: 20950 selected anime id: 6746\n",
      "User: 20951 selected anime id: 11111\n",
      "User: 21042 selected anime id: 2144\n",
      "User: 21100 selected anime id: 22297\n",
      "User: 21146 selected anime id: 1530\n",
      "User: 21187 selected anime id: 9253\n",
      "User: 21196 selected anime id: 8074\n",
      "User: 21205 selected anime id: 223\n",
      "User: 21239 selected anime id: 67\n",
      "User: 21253 selected anime id: 10213\n",
      "User: 21280 selected anime id: 11499\n",
      "User: 21360 selected anime id: 572\n",
      "User: 21361 selected anime id: 14467\n",
      "User: 21365 selected anime id: 4901\n",
      "User: 21370 selected anime id: 15451\n",
      "User: 21622 selected anime id: 47\n",
      "User: 21629 selected anime id: 20583\n",
      "User: 21635 selected anime id: 6172\n",
      "User: 21782 selected anime id: 11757\n",
      "User: 21786 selected anime id: 6324\n",
      "User: 21802 selected anime id: 20\n",
      "User: 21852 selected anime id: 4181\n",
      "User: 21856 selected anime id: 8624\n",
      "User: 21858 selected anime id: 8516\n",
      "User: 21867 selected anime id: 31953\n",
      "User: 21887 selected anime id: 9776\n",
      "User: 21919 selected anime id: 1118\n",
      "User: 21956 selected anime id: 1535\n",
      "User: 22011 selected anime id: 9656\n",
      "User: 22028 selected anime id: 2251\n",
      "User: 22060 selected anime id: 5081\n",
      "User: 22086 selected anime id: 121\n",
      "User: 22116 selected anime id: 1535\n",
      "User: 22118 selected anime id: 2025\n",
      "User: 22140 selected anime id: 8074\n",
      "User: 22149 selected anime id: 13667\n",
      "User: 22156 selected anime id: 6746\n",
      "User: 22194 selected anime id: 232\n",
      "User: 22195 selected anime id: 5114\n",
      "User: 22205 selected anime id: 185\n",
      "User: 22253 selected anime id: 6547\n",
      "User: 22254 selected anime id: 18277\n",
      "User: 22255 selected anime id: 24365\n",
      "User: 22279 selected anime id: 204\n",
      "User: 22280 selected anime id: 8074\n",
      "User: 22281 selected anime id: 12189\n",
      "User: 22288 selected anime id: 7311\n",
      "User: 22306 selected anime id: 481\n",
      "User: 22381 selected anime id: 4182\n",
      "User: 22388 selected anime id: 19285\n",
      "User: 22423 selected anime id: 853\n",
      "User: 22431 selected anime id: 877\n",
      "User: 22433 selected anime id: 1004\n",
      "User: 22455 selected anime id: 154\n",
      "User: 22456 selected anime id: 3593\n",
      "User: 22518 selected anime id: 1946\n",
      "User: 22544 selected anime id: 9253\n",
      "User: 22551 selected anime id: 11701\n",
      "User: 22613 selected anime id: 13619\n",
      "User: 22740 selected anime id: 6213\n",
      "User: 22754 selected anime id: 10578\n",
      "User: 22761 selected anime id: 7465\n",
      "User: 22785 selected anime id: 617\n",
      "User: 22788 selected anime id: 7791\n",
      "User: 22798 selected anime id: 10110\n",
      "User: 22858 selected anime id: 9989\n",
      "User: 22866 selected anime id: 11227\n",
      "User: 22868 selected anime id: 2904\n",
      "User: 22880 selected anime id: 4186\n",
      "User: 22891 selected anime id: 4814\n",
      "User: 22894 selected anime id: 8426\n",
      "User: 22911 selected anime id: 2596\n",
      "User: 22957 selected anime id: 8247\n",
      "User: 22986 selected anime id: 3588\n",
      "User: 23020 selected anime id: 655\n",
      "User: 23033 selected anime id: 1889\n",
      "User: 23043 selected anime id: 1943\n",
      "User: 23058 selected anime id: 4898\n",
      "User: 23059 selected anime id: 963\n",
      "User: 23170 selected anime id: 1157\n",
      "User: 23194 selected anime id: 853\n",
      "User: 23213 selected anime id: 4472\n",
      "User: 23292 selected anime id: 17895\n",
      "User: 23297 selected anime id: 606\n",
      "User: 23304 selected anime id: 228\n",
      "User: 23330 selected anime id: 8074\n",
      "User: 23333 selected anime id: 147\n",
      "User: 23340 selected anime id: 449\n",
      "User: 23380 selected anime id: 6895\n",
      "User: 23438 selected anime id: 8934\n",
      "User: 23480 selected anime id: 1007\n",
      "User: 23488 selected anime id: 1689\n",
      "User: 23516 selected anime id: 80\n",
      "User: 23520 selected anime id: 3784\n",
      "User: 23532 selected anime id: 5177\n",
      "User: 23552 selected anime id: 5118\n",
      "User: 23579 selected anime id: 11771\n",
      "User: 23599 selected anime id: 270\n",
      "User: 23650 selected anime id: 534\n",
      "User: 23655 selected anime id: 4565\n",
      "User: 23672 selected anime id: 355\n",
      "User: 23687 selected anime id: 371\n",
      "User: 23690 selected anime id: 357\n",
      "User: 23727 selected anime id: 4063\n",
      "User: 23741 selected anime id: 9919\n",
      "User: 23817 selected anime id: 288\n",
      "User: 23837 selected anime id: 18139\n",
      "User: 23899 selected anime id: 270\n",
      "User: 23925 selected anime id: 837\n",
      "User: 23955 selected anime id: 245\n",
      "User: 23977 selected anime id: 19365\n",
      "User: 24034 selected anime id: 11785\n",
      "User: 24053 selected anime id: 1535\n",
      "User: 24071 selected anime id: 4059\n",
      "User: 24129 selected anime id: 10213\n",
      "User: 24167 selected anime id: 30503\n",
      "User: 24180 selected anime id: 11759\n",
      "User: 24182 selected anime id: 8769\n",
      "User: 24189 selected anime id: 19855\n",
      "User: 24195 selected anime id: 10495\n",
      "User: 24204 selected anime id: 7054\n",
      "User: 24208 selected anime id: 85\n",
      "User: 24233 selected anime id: 5178\n",
      "User: 24239 selected anime id: 6024\n",
      "User: 24254 selected anime id: 121\n",
      "User: 24274 selected anime id: 10568\n",
      "User: 24317 selected anime id: 2904\n",
      "User: 24387 selected anime id: 4015\n",
      "User: 24399 selected anime id: 12413\n",
      "User: 24437 selected anime id: 2472\n",
      "User: 24453 selected anime id: 2236\n",
      "User: 24455 selected anime id: 2994\n",
      "User: 24488 selected anime id: 27\n",
      "User: 24542 selected anime id: 3784\n",
      "User: 24559 selected anime id: 23289\n",
      "User: 24624 selected anime id: 232\n",
      "User: 24632 selected anime id: 14741\n",
      "User: 24656 selected anime id: 1699\n",
      "User: 24663 selected anime id: 9515\n",
      "User: 24684 selected anime id: 317\n",
      "User: 24696 selected anime id: 645\n",
      "User: 24750 selected anime id: 25681\n",
      "User: 24751 selected anime id: 9756\n",
      "User: 24815 selected anime id: 15439\n",
      "User: 24849 selected anime id: 6893\n",
      "User: 24877 selected anime id: 570\n",
      "User: 24887 selected anime id: 9547\n",
      "User: 24935 selected anime id: 1604\n",
      "User: 24937 selected anime id: 427\n",
      "User: 24946 selected anime id: 28171\n",
      "User: 24983 selected anime id: 195\n",
      "User: 25057 selected anime id: 3784\n",
      "User: 25061 selected anime id: 1726\n",
      "User: 25117 selected anime id: 10080\n",
      "User: 25121 selected anime id: 10408\n",
      "User: 25143 selected anime id: 14227\n",
      "User: 25155 selected anime id: 11111\n",
      "User: 25286 selected anime id: 3731\n",
      "User: 25347 selected anime id: 7817\n",
      "User: 25361 selected anime id: 1686\n",
      "User: 25369 selected anime id: 433\n",
      "User: 25462 selected anime id: 849\n",
      "User: 25492 selected anime id: 20899\n",
      "User: 25519 selected anime id: 2025\n",
      "User: 25536 selected anime id: 580\n",
      "User: 25583 selected anime id: 304\n",
      "User: 25607 selected anime id: 11757\n",
      "User: 25635 selected anime id: 894\n",
      "User: 25644 selected anime id: 5978\n",
      "User: 25718 selected anime id: 10417\n",
      "User: 25726 selected anime id: 12031\n",
      "User: 25732 selected anime id: 962\n",
      "User: 25741 selected anime id: 5530\n",
      "User: 25798 selected anime id: 9510\n",
      "User: 25804 selected anime id: 1565\n",
      "User: 25807 selected anime id: 4752\n",
      "User: 25845 selected anime id: 8074\n",
      "User: 25872 selected anime id: 464\n",
      "User: 25873 selected anime id: 6707\n",
      "User: 25875 selected anime id: 3588\n",
      "User: 25928 selected anime id: 10067\n",
      "User: 25934 selected anime id: 1118\n",
      "User: 25961 selected anime id: 245\n",
      "User: 25971 selected anime id: 10321\n",
      "User: 25983 selected anime id: 4722\n",
      "User: 26021 selected anime id: 3783\n",
      "User: 26046 selected anime id: 11123\n",
      "User: 26062 selected anime id: 528\n",
      "User: 26081 selected anime id: 120\n",
      "User: 26111 selected anime id: 2759\n",
      "User: 26118 selected anime id: 6746\n",
      "User: 26228 selected anime id: 442\n",
      "User: 26234 selected anime id: 10719\n",
      "User: 26254 selected anime id: 6645\n",
      "User: 26315 selected anime id: 9136\n",
      "User: 26384 selected anime id: 2926\n",
      "User: 26398 selected anime id: 1292\n",
      "User: 26440 selected anime id: 9760\n",
      "User: 26443 selected anime id: 813\n",
      "User: 26459 selected anime id: 32696\n",
      "User: 26475 selected anime id: 9989\n",
      "User: 26476 selected anime id: 8841\n",
      "User: 26551 selected anime id: 3033\n",
      "User: 26558 selected anime id: 2236\n",
      "User: 26619 selected anime id: 23277\n",
      "User: 26629 selected anime id: 4382\n",
      "User: 26653 selected anime id: 1535\n",
      "User: 26684 selected anime id: 30187\n",
      "User: 26707 selected anime id: 1118\n",
      "User: 26723 selected anime id: 1535\n",
      "User: 26772 selected anime id: 11757\n",
      "User: 26784 selected anime id: 5081\n",
      "User: 26841 selected anime id: 11771\n",
      "User: 26843 selected anime id: 597\n",
      "User: 26873 selected anime id: 8795\n",
      "User: 26892 selected anime id: 6\n",
      "User: 26901 selected anime id: 322\n",
      "User: 26903 selected anime id: 356\n",
      "User: 26991 selected anime id: 4472\n",
      "User: 26994 selected anime id: 16067\n",
      "User: 27016 selected anime id: 4038\n",
      "User: 27018 selected anime id: 104\n",
      "User: 27039 selected anime id: 66\n",
      "User: 27075 selected anime id: 2746\n",
      "User: 27096 selected anime id: 14527\n",
      "User: 27124 selected anime id: 8795\n",
      "User: 27129 selected anime id: 550\n",
      "User: 27144 selected anime id: 15613\n",
      "User: 27166 selected anime id: 10162\n",
      "User: 27205 selected anime id: 552\n",
      "User: 27210 selected anime id: 1000\n",
      "User: 27229 selected anime id: 21557\n",
      "User: 27230 selected anime id: 14513\n",
      "User: 27296 selected anime id: 14289\n",
      "User: 27351 selected anime id: 2706\n",
      "User: 27353 selected anime id: 530\n",
      "User: 27367 selected anime id: 227\n",
      "User: 27397 selected anime id: 15085\n",
      "User: 27415 selected anime id: 9331\n",
      "User: 27460 selected anime id: 1841\n",
      "User: 27462 selected anime id: 7054\n",
      "User: 27507 selected anime id: 24075\n",
      "User: 27529 selected anime id: 121\n",
      "User: 27561 selected anime id: 2759\n",
      "User: 27569 selected anime id: 10379\n",
      "User: 27595 selected anime id: 14467\n",
      "User: 27611 selected anime id: 4752\n",
      "User: 27656 selected anime id: 14467\n",
      "User: 27661 selected anime id: 22319\n",
      "User: 27672 selected anime id: 11617\n",
      "User: 27680 selected anime id: 10578\n",
      "User: 27731 selected anime id: 8285\n",
      "User: 27754 selected anime id: 32282\n",
      "User: 27756 selected anime id: 13599\n",
      "User: 27825 selected anime id: 5356\n",
      "User: 27852 selected anime id: 1686\n",
      "User: 27861 selected anime id: 11123\n",
      "User: 27876 selected anime id: 12879\n",
      "User: 27899 selected anime id: 9926\n",
      "User: 27927 selected anime id: 2025\n",
      "User: 27977 selected anime id: 7791\n",
      "User: 27983 selected anime id: 10794\n",
      "User: 28042 selected anime id: 24833\n",
      "User: 28043 selected anime id: 4382\n",
      "User: 28068 selected anime id: 21881\n",
      "User: 28085 selected anime id: 1482\n",
      "User: 28113 selected anime id: 1689\n",
      "User: 28122 selected anime id: 943\n",
      "User: 28160 selected anime id: 4224\n",
      "User: 28164 selected anime id: 1303\n",
      "User: 28211 selected anime id: 790\n",
      "User: 28241 selected anime id: 5941\n",
      "User: 28259 selected anime id: 11741\n",
      "User: 28264 selected anime id: 1916\n",
      "User: 28294 selected anime id: 6045\n",
      "User: 28295 selected anime id: 1072\n",
      "User: 28298 selected anime id: 12113\n",
      "User: 28309 selected anime id: 241\n",
      "User: 28343 selected anime id: 168\n",
      "User: 28387 selected anime id: 7674\n",
      "User: 28389 selected anime id: 5060\n",
      "User: 28407 selected anime id: 10110\n",
      "User: 28414 selected anime id: 10197\n",
      "User: 28426 selected anime id: 535\n",
      "User: 28452 selected anime id: 7791\n",
      "User: 28458 selected anime id: 906\n",
      "User: 28556 selected anime id: 5530\n",
      "User: 28575 selected anime id: 6746\n",
      "User: 28619 selected anime id: 8277\n",
      "User: 28631 selected anime id: 502\n",
      "User: 28632 selected anime id: 270\n",
      "User: 28655 selected anime id: 450\n",
      "User: 28660 selected anime id: 71\n",
      "User: 28663 selected anime id: 8525\n",
      "User: 28671 selected anime id: 4151\n",
      "User: 28697 selected anime id: 29325\n",
      "User: 28720 selected anime id: 14719\n",
      "User: 28727 selected anime id: 227\n",
      "User: 28736 selected anime id: 813\n",
      "User: 28796 selected anime id: 8241\n",
      "User: 28800 selected anime id: 1559\n",
      "User: 28805 selected anime id: 2236\n",
      "User: 28809 selected anime id: 2592\n",
      "User: 28856 selected anime id: 9203\n",
      "User: 28866 selected anime id: 20\n",
      "User: 28906 selected anime id: 73\n",
      "User: 28911 selected anime id: 4224\n",
      "User: 28922 selected anime id: 13535\n",
      "User: 28938 selected anime id: 6127\n",
      "User: 28953 selected anime id: 143\n",
      "User: 28954 selected anime id: 14719\n",
      "User: 28959 selected anime id: 25681\n",
      "User: 28962 selected anime id: 242\n",
      "User: 28963 selected anime id: 20047\n",
      "User: 28980 selected anime id: 6702\n",
      "User: 28999 selected anime id: 164\n",
      "User: 29036 selected anime id: 19221\n",
      "User: 29056 selected anime id: 552\n",
      "User: 29068 selected anime id: 8915\n",
      "User: 29092 selected anime id: 8769\n",
      "User: 29132 selected anime id: 7769\n",
      "User: 29153 selected anime id: 121\n",
      "User: 29205 selected anime id: 6547\n",
      "User: 29256 selected anime id: 5680\n",
      "User: 29275 selected anime id: 5630\n",
      "User: 29308 selected anime id: 4752\n",
      "User: 29314 selected anime id: 31043\n",
      "User: 29338 selected anime id: 23321\n",
      "User: 29405 selected anime id: 10162\n",
      "User: 29471 selected anime id: 325\n",
      "User: 29548 selected anime id: 8894\n",
      "User: 29605 selected anime id: 5060\n",
      "User: 29618 selected anime id: 10080\n",
      "User: 29620 selected anime id: 4898\n",
      "User: 29627 selected anime id: 394\n",
      "User: 29642 selected anime id: 227\n",
      "User: 29686 selected anime id: 10490\n",
      "User: 29692 selected anime id: 850\n",
      "User: 29713 selected anime id: 906\n",
      "User: 29745 selected anime id: 61\n",
      "User: 29807 selected anime id: 22265\n",
      "User: 29885 selected anime id: 23233\n",
      "User: 29886 selected anime id: 853\n",
      "User: 29905 selected anime id: 2904\n",
      "User: 29909 selected anime id: 16498\n",
      "User: 29930 selected anime id: 298\n",
      "User: 29935 selected anime id: 3572\n",
      "User: 30006 selected anime id: 2593\n",
      "User: 30114 selected anime id: 2397\n",
      "User: 30167 selected anime id: 7674\n",
      "User: 30200 selected anime id: 270\n",
      "User: 30207 selected anime id: 30911\n",
      "User: 30219 selected anime id: 906\n",
      "User: 30223 selected anime id: 15751\n",
      "User: 30248 selected anime id: 1887\n",
      "User: 30300 selected anime id: 18247\n",
      "User: 30363 selected anime id: 384\n",
      "User: 30385 selected anime id: 1313\n",
      "User: 30409 selected anime id: 9756\n",
      "User: 30419 selected anime id: 6880\n",
      "User: 30434 selected anime id: 6746\n",
      "User: 30439 selected anime id: 43\n",
      "User: 30450 selected anime id: 1731\n",
      "User: 30452 selected anime id: 6956\n",
      "User: 30494 selected anime id: 10163\n",
      "User: 30499 selected anime id: 6288\n",
      "User: 30532 selected anime id: 4898\n",
      "User: 30539 selected anime id: 11179\n",
      "User: 30541 selected anime id: 16782\n",
      "User: 30572 selected anime id: 2144\n",
      "User: 30599 selected anime id: 6948\n",
      "User: 30609 selected anime id: 1535\n",
      "User: 30680 selected anime id: 14813\n",
      "User: 30702 selected anime id: 6707\n",
      "User: 30737 selected anime id: 1896\n",
      "User: 30741 selected anime id: 13663\n",
      "User: 30761 selected anime id: 13221\n",
      "User: 30769 selected anime id: 30\n",
      "User: 30777 selected anime id: 1205\n",
      "User: 30782 selected anime id: 18713\n",
      "User: 30828 selected anime id: 7674\n",
      "User: 30832 selected anime id: 2025\n",
      "User: 30833 selected anime id: 10719\n",
      "User: 30949 selected anime id: 8460\n",
      "User: 30953 selected anime id: 10165\n",
      "User: 30968 selected anime id: 2994\n",
      "User: 30974 selected anime id: 10073\n",
      "User: 30982 selected anime id: 1195\n",
      "User: 31087 selected anime id: 9712\n",
      "User: 31089 selected anime id: 5764\n",
      "User: 31116 selected anime id: 8624\n",
      "User: 31124 selected anime id: 18507\n",
      "User: 31153 selected anime id: 96\n",
      "User: 31171 selected anime id: 21881\n",
      "User: 31240 selected anime id: 29095\n",
      "User: 31248 selected anime id: 269\n",
      "User: 31257 selected anime id: 8142\n",
      "User: 31277 selected anime id: 9135\n",
      "User: 31297 selected anime id: 28623\n",
      "User: 31316 selected anime id: 18277\n",
      "User: 31319 selected anime id: 2759\n",
      "User: 31338 selected anime id: 7647\n",
      "User: 31365 selected anime id: 7592\n",
      "User: 31367 selected anime id: 2966\n",
      "User: 31404 selected anime id: 20\n",
      "User: 31430 selected anime id: 24211\n",
      "User: 31439 selected anime id: 12815\n",
      "User: 31452 selected anime id: 16918\n",
      "User: 31472 selected anime id: 25161\n",
      "User: 31474 selected anime id: 19383\n",
      "User: 31514 selected anime id: 1818\n",
      "User: 31518 selected anime id: 8675\n",
      "User: 31560 selected anime id: 11759\n",
      "User: 31567 selected anime id: 22729\n",
      "User: 31588 selected anime id: 7017\n",
      "User: 31695 selected anime id: 24703\n",
      "User: 31731 selected anime id: 26349\n",
      "User: 31740 selected anime id: 11577\n",
      "User: 31769 selected anime id: 16742\n",
      "User: 31777 selected anime id: 16700\n",
      "User: 31830 selected anime id: 20\n",
      "User: 31844 selected anime id: 13125\n",
      "User: 31863 selected anime id: 7054\n",
      "User: 31928 selected anime id: 10620\n",
      "User: 31941 selected anime id: 193\n",
      "User: 31972 selected anime id: 5114\n",
      "User: 32053 selected anime id: 20583\n",
      "User: 32065 selected anime id: 120\n",
      "User: 32102 selected anime id: 323\n",
      "User: 32118 selected anime id: 12413\n",
      "User: 32124 selected anime id: 12445\n",
      "User: 32134 selected anime id: 11759\n",
      "User: 32155 selected anime id: 2131\n",
      "User: 32163 selected anime id: 13601\n",
      "User: 32185 selected anime id: 16782\n",
      "User: 32193 selected anime id: 10020\n",
      "User: 32236 selected anime id: 16894\n",
      "User: 32315 selected anime id: 15487\n",
      "User: 32316 selected anime id: 15583\n",
      "User: 32337 selected anime id: 11633\n",
      "User: 32347 selected anime id: 16662\n",
      "User: 32354 selected anime id: 9989\n",
      "User: 32379 selected anime id: 9919\n",
      "User: 32392 selected anime id: 11741\n",
      "User: 32406 selected anime id: 1685\n",
      "User: 32427 selected anime id: 9513\n",
      "User: 32449 selected anime id: 14669\n",
      "User: 32450 selected anime id: 5680\n",
      "User: 32457 selected anime id: 1563\n",
      "User: 32507 selected anime id: 18115\n",
      "User: 32548 selected anime id: 7720\n",
      "User: 32567 selected anime id: 437\n",
      "User: 32597 selected anime id: 4224\n",
      "User: 32608 selected anime id: 11633\n",
      "User: 32612 selected anime id: 226\n",
      "User: 32618 selected anime id: 199\n",
      "User: 32677 selected anime id: 11759\n",
      "User: 32696 selected anime id: 12293\n",
      "User: 32704 selected anime id: 10080\n",
      "User: 32731 selected anime id: 7769\n",
      "User: 32788 selected anime id: 6707\n",
      "User: 32796 selected anime id: 245\n",
      "User: 32827 selected anime id: 65\n",
      "User: 32841 selected anime id: 11111\n",
      "User: 32845 selected anime id: 14227\n",
      "User: 32876 selected anime id: 16524\n",
      "User: 32912 selected anime id: 27787\n",
      "User: 32935 selected anime id: 19365\n",
      "User: 32944 selected anime id: 19315\n",
      "User: 32948 selected anime id: 16934\n",
      "User: 32953 selected anime id: 11757\n",
      "User: 32979 selected anime id: 7711\n",
      "User: 33000 selected anime id: 16894\n",
      "User: 33009 selected anime id: 16592\n",
      "User: 33032 selected anime id: 6795\n",
      "User: 33048 selected anime id: 30015\n",
      "User: 33135 selected anime id: 2001\n",
      "User: 33137 selected anime id: 14345\n",
      "User: 33141 selected anime id: 26349\n",
      "User: 33153 selected anime id: 513\n",
      "User: 33214 selected anime id: 2759\n",
      "User: 33236 selected anime id: 20583\n",
      "User: 33249 selected anime id: 8516\n",
      "User: 33426 selected anime id: 1559\n",
      "User: 33453 selected anime id: 16498\n",
      "User: 33455 selected anime id: 30276\n",
      "User: 33471 selected anime id: 2167\n",
      "User: 33474 selected anime id: 10087\n",
      "User: 33532 selected anime id: 5114\n",
      "User: 33557 selected anime id: 20787\n",
      "User: 33585 selected anime id: 27899\n",
      "User: 33612 selected anime id: 20031\n",
      "User: 33716 selected anime id: 1535\n",
      "User: 33725 selected anime id: 21435\n",
      "User: 33747 selected anime id: 1827\n",
      "User: 33785 selected anime id: 28701\n",
      "User: 33868 selected anime id: 14967\n",
      "User: 33891 selected anime id: 19369\n",
      "User: 33896 selected anime id: 3588\n",
      "User: 33909 selected anime id: 4181\n",
      "User: 33913 selected anime id: 11285\n",
      "User: 33980 selected anime id: 17895\n",
      "User: 34114 selected anime id: 28313\n",
      "User: 34141 selected anime id: 30276\n",
      "User: 34153 selected anime id: 19815\n",
      "User: 34166 selected anime id: 356\n",
      "User: 34233 selected anime id: 101\n",
      "User: 34241 selected anime id: 28171\n",
      "User: 34278 selected anime id: 4181\n",
      "User: 34292 selected anime id: 11313\n",
      "User: 34319 selected anime id: 1250\n",
      "User: 34357 selected anime id: 6547\n",
      "User: 34383 selected anime id: 857\n",
      "User: 34397 selected anime id: 175\n",
      "User: 34434 selected anime id: 2993\n",
      "User: 34438 selected anime id: 6746\n",
      "User: 34467 selected anime id: 4975\n",
      "User: 34491 selected anime id: 30\n",
      "User: 34546 selected anime id: 14645\n",
      "User: 34550 selected anime id: 227\n",
      "User: 34631 selected anime id: 8634\n",
      "User: 34653 selected anime id: 2993\n",
      "User: 34668 selected anime id: 449\n",
      "User: 34677 selected anime id: 461\n",
      "User: 34687 selected anime id: 813\n",
      "User: 34710 selected anime id: 23755\n",
      "User: 34711 selected anime id: 24\n",
      "User: 34724 selected anime id: 16592\n",
      "User: 34742 selected anime id: 14227\n",
      "User: 34796 selected anime id: 30355\n",
      "User: 34802 selected anime id: 11741\n",
      "User: 34806 selected anime id: 1239\n",
      "User: 34816 selected anime id: 459\n",
      "User: 34819 selected anime id: 4962\n",
      "User: 34851 selected anime id: 23327\n",
      "User: 34895 selected anime id: 223\n",
      "User: 34930 selected anime id: 8074\n",
      "User: 34962 selected anime id: 26243\n",
      "User: 34992 selected anime id: 9253\n",
      "User: 35066 selected anime id: 6547\n",
      "User: 35227 selected anime id: 21881\n",
      "User: 35251 selected anime id: 14813\n",
      "User: 35280 selected anime id: 21635\n",
      "User: 35288 selected anime id: 14749\n",
      "User: 35320 selected anime id: 43\n",
      "User: 35341 selected anime id: 392\n",
      "User: 35371 selected anime id: 591\n",
      "User: 35394 selected anime id: 18247\n",
      "User: 35397 selected anime id: 8074\n",
      "User: 35470 selected anime id: 1535\n",
      "User: 35482 selected anime id: 10620\n",
      "User: 35491 selected anime id: 9989\n",
      "User: 35500 selected anime id: 10080\n",
      "User: 35549 selected anime id: 9919\n",
      "User: 35583 selected anime id: 30\n",
      "User: 35631 selected anime id: 3588\n",
      "User: 35635 selected anime id: 15043\n",
      "User: 35643 selected anime id: 17741\n",
      "User: 35669 selected anime id: 1691\n",
      "User: 35673 selected anime id: 11887\n",
      "User: 35685 selected anime id: 13759\n",
      "User: 35687 selected anime id: 24765\n",
      "User: 35719 selected anime id: 18295\n",
      "User: 35723 selected anime id: 8769\n",
      "User: 35731 selected anime id: 5114\n",
      "User: 35754 selected anime id: 249\n",
      "User: 35763 selected anime id: 16894\n",
      "User: 35774 selected anime id: 1140\n",
      "User: 35795 selected anime id: 11577\n",
      "User: 35805 selected anime id: 9982\n",
      "User: 35820 selected anime id: 11741\n",
      "User: 35822 selected anime id: 5583\n",
      "User: 35838 selected anime id: 157\n",
      "User: 35859 selected anime id: 14289\n",
      "User: 35866 selected anime id: 22535\n",
      "User: 35921 selected anime id: 25159\n",
      "User: 35934 selected anime id: 10020\n",
      "User: 35941 selected anime id: 508\n",
      "User: 35962 selected anime id: 14355\n",
      "User: 35977 selected anime id: 6347\n",
      "User: 35979 selected anime id: 7054\n",
      "User: 36010 selected anime id: 20\n",
      "User: 36061 selected anime id: 32268\n",
      "User: 36111 selected anime id: 28701\n",
      "User: 36163 selected anime id: 50\n",
      "User: 36192 selected anime id: 21881\n",
      "User: 36210 selected anime id: 16498\n",
      "User: 36236 selected anime id: 30276\n",
      "User: 36310 selected anime id: 21881\n",
      "User: 36357 selected anime id: 14145\n",
      "User: 36376 selected anime id: 28223\n",
      "User: 36388 selected anime id: 1686\n",
      "User: 36394 selected anime id: 1689\n",
      "User: 36416 selected anime id: 6178\n",
      "User: 36443 selected anime id: 11111\n",
      "User: 36492 selected anime id: 529\n",
      "User: 36497 selected anime id: 31163\n",
      "User: 36513 selected anime id: 153\n",
      "User: 36523 selected anime id: 687\n",
      "User: 36620 selected anime id: 9790\n",
      "User: 36623 selected anime id: 18679\n",
      "User: 36644 selected anime id: 990\n",
      "User: 36645 selected anime id: 5114\n",
      "User: 36716 selected anime id: 21431\n",
      "User: 36727 selected anime id: 18679\n",
      "User: 36784 selected anime id: 14227\n",
      "User: 36823 selected anime id: 4866\n",
      "User: 36911 selected anime id: 20507\n",
      "User: 36916 selected anime id: 30806\n",
      "User: 36928 selected anime id: 4898\n",
      "User: 36986 selected anime id: 15583\n",
      "User: 37007 selected anime id: 468\n",
      "User: 37018 selected anime id: 1530\n",
      "User: 37026 selected anime id: 16498\n",
      "User: 37039 selected anime id: 4898\n",
      "User: 37054 selected anime id: 28297\n",
      "User: 37120 selected anime id: 17549\n",
      "User: 37145 selected anime id: 31\n",
      "User: 37146 selected anime id: 23755\n",
      "User: 37147 selected anime id: 16592\n",
      "User: 37182 selected anime id: 13161\n",
      "User: 37234 selected anime id: 2800\n",
      "User: 37243 selected anime id: 17157\n",
      "User: 37253 selected anime id: 5530\n",
      "User: 37301 selected anime id: 874\n",
      "User: 37302 selected anime id: 11771\n",
      "User: 37321 selected anime id: 10087\n",
      "User: 37325 selected anime id: 6547\n",
      "User: 37332 selected anime id: 31442\n",
      "User: 37372 selected anime id: 11757\n",
      "User: 37401 selected anime id: 22199\n",
      "User: 37414 selected anime id: 22319\n",
      "User: 37418 selected anime id: 8841\n",
      "User: 37440 selected anime id: 16904\n",
      "User: 37443 selected anime id: 25397\n",
      "User: 37464 selected anime id: 13601\n",
      "User: 37469 selected anime id: 210\n",
      "User: 37470 selected anime id: 30321\n",
      "User: 37471 selected anime id: 31637\n",
      "User: 37475 selected anime id: 16894\n",
      "User: 37493 selected anime id: 11757\n",
      "User: 37499 selected anime id: 1575\n",
      "User: 37501 selected anime id: 3712\n",
      "User: 37529 selected anime id: 3470\n",
      "User: 37550 selected anime id: 5835\n",
      "User: 37565 selected anime id: 85\n",
      "User: 37584 selected anime id: 6702\n",
      "User: 37595 selected anime id: 16498\n",
      "User: 37637 selected anime id: 27899\n",
      "User: 37653 selected anime id: 597\n",
      "User: 37687 selected anime id: 16512\n",
      "User: 37689 selected anime id: 17074\n",
      "User: 37708 selected anime id: 11757\n",
      "User: 37746 selected anime id: 1619\n",
      "User: 37803 selected anime id: 7338\n",
      "User: 37806 selected anime id: 2167\n",
      "User: 37814 selected anime id: 834\n",
      "User: 37816 selected anime id: 527\n",
      "User: 37830 selected anime id: 15583\n",
      "User: 37836 selected anime id: 7088\n",
      "User: 37876 selected anime id: 223\n",
      "User: 37919 selected anime id: 5114\n",
      "User: 37953 selected anime id: 393\n",
      "User: 37985 selected anime id: 10790\n",
      "User: 37990 selected anime id: 9756\n",
      "User: 38074 selected anime id: 8769\n",
      "User: 38104 selected anime id: 13759\n",
      "User: 38155 selected anime id: 4970\n",
      "User: 38189 selected anime id: 853\n",
      "User: 38195 selected anime id: 227\n",
      "User: 38216 selected anime id: 3167\n",
      "User: 38270 selected anime id: 10087\n",
      "User: 38316 selected anime id: 11013\n",
      "User: 38345 selected anime id: 935\n",
      "User: 38348 selected anime id: 14131\n",
      "User: 38446 selected anime id: 226\n",
      "User: 38457 selected anime id: 9756\n",
      "User: 38458 selected anime id: 1698\n",
      "User: 38470 selected anime id: 5060\n",
      "User: 38505 selected anime id: 1579\n",
      "User: 38595 selected anime id: 3269\n",
      "User: 38615 selected anime id: 1210\n",
      "User: 38635 selected anime id: 226\n",
      "User: 38649 selected anime id: 6045\n",
      "User: 38660 selected anime id: 6645\n",
      "User: 38668 selected anime id: 10165\n",
      "User: 38672 selected anime id: 28283\n",
      "User: 38742 selected anime id: 3927\n",
      "User: 38745 selected anime id: 23273\n",
      "User: 38772 selected anime id: 10842\n",
      "User: 38778 selected anime id: 11285\n",
      "User: 38784 selected anime id: 5630\n",
      "User: 38804 selected anime id: 3225\n",
      "User: 38830 selected anime id: 8516\n",
      "User: 38851 selected anime id: 20787\n",
      "User: 38858 selected anime id: 9253\n",
      "User: 38882 selected anime id: 3702\n",
      "User: 38893 selected anime id: 1887\n",
      "User: 38899 selected anime id: 23273\n",
      "User: 38906 selected anime id: 9919\n",
      "User: 38987 selected anime id: 3457\n",
      "User: 38997 selected anime id: 357\n",
      "User: 39059 selected anime id: 23281\n",
      "User: 39116 selected anime id: 15\n",
      "User: 39119 selected anime id: 6351\n",
      "User: 39130 selected anime id: 1681\n",
      "User: 39137 selected anime id: 3572\n",
      "User: 39153 selected anime id: 4224\n",
      "User: 39170 selected anime id: 8023\n",
      "User: 39190 selected anime id: 6547\n",
      "User: 39198 selected anime id: 6045\n",
      "User: 39216 selected anime id: 4106\n",
      "User: 39222 selected anime id: 1594\n",
      "User: 39254 selected anime id: 5039\n",
      "User: 39277 selected anime id: 6\n",
      "User: 39296 selected anime id: 10716\n",
      "User: 39326 selected anime id: 22789\n",
      "User: 39349 selected anime id: 139\n",
      "User: 39399 selected anime id: 16742\n",
      "User: 39410 selected anime id: 2167\n",
      "User: 39479 selected anime id: 20\n",
      "User: 39480 selected anime id: 8487\n",
      "User: 39517 selected anime id: 26055\n",
      "User: 39518 selected anime id: 7724\n",
      "User: 39542 selected anime id: 877\n",
      "User: 39553 selected anime id: 10447\n",
      "User: 39566 selected anime id: 5530\n",
      "User: 39580 selected anime id: 11499\n",
      "User: 39590 selected anime id: 24687\n",
      "User: 39626 selected anime id: 30\n",
      "User: 39638 selected anime id: 2116\n",
      "User: 39646 selected anime id: 27655\n",
      "User: 39708 selected anime id: 1361\n",
      "User: 39781 selected anime id: 10155\n",
      "User: 39808 selected anime id: 98\n",
      "User: 39825 selected anime id: 2167\n",
      "User: 39884 selected anime id: 477\n",
      "User: 39902 selected anime id: 1254\n",
      "User: 39910 selected anime id: 905\n",
      "User: 39912 selected anime id: 11111\n",
      "User: 39949 selected anime id: 11757\n",
      "User: 39950 selected anime id: 1292\n",
      "User: 39976 selected anime id: 11433\n",
      "User: 39998 selected anime id: 199\n",
      "User: 40044 selected anime id: 32998\n",
      "User: 40069 selected anime id: 2355\n",
      "User: 40082 selected anime id: 532\n",
      "User: 40094 selected anime id: 23309\n",
      "User: 40109 selected anime id: 10067\n",
      "User: 40129 selected anime id: 4224\n",
      "User: 40176 selected anime id: 6114\n",
      "User: 40179 selected anime id: 88\n",
      "User: 40182 selected anime id: 9756\n",
      "User: 40257 selected anime id: 6385\n",
      "User: 40273 selected anime id: 251\n",
      "User: 40294 selected anime id: 27969\n",
      "User: 40300 selected anime id: 22199\n",
      "User: 40364 selected anime id: 28299\n",
      "User: 40438 selected anime id: 13601\n",
      "User: 40440 selected anime id: 2923\n",
      "User: 40476 selected anime id: 120\n",
      "User: 40482 selected anime id: 32\n",
      "User: 40491 selected anime id: 3588\n",
      "User: 40553 selected anime id: 1579\n",
      "User: 40593 selected anime id: 14941\n",
      "User: 40607 selected anime id: 22199\n",
      "User: 40614 selected anime id: 9289\n",
      "User: 40615 selected anime id: 30205\n",
      "User: 40673 selected anime id: 164\n",
      "User: 40674 selected anime id: 7593\n",
      "User: 40678 selected anime id: 3375\n",
      "User: 40688 selected anime id: 90\n",
      "User: 40716 selected anime id: 4181\n",
      "User: 40760 selected anime id: 7059\n",
      "User: 40790 selected anime id: 5114\n",
      "User: 40834 selected anime id: 33\n",
      "User: 40865 selected anime id: 249\n",
      "User: 40883 selected anime id: 21659\n",
      "User: 40905 selected anime id: 11757\n",
      "User: 40966 selected anime id: 23283\n",
      "User: 40967 selected anime id: 523\n",
      "User: 40981 selected anime id: 9656\n",
      "User: 40996 selected anime id: 6166\n",
      "User: 41019 selected anime id: 1\n",
      "User: 41048 selected anime id: 12355\n",
      "User: 41076 selected anime id: 523\n",
      "User: 41100 selected anime id: 552\n",
      "User: 41126 selected anime id: 18397\n",
      "User: 41162 selected anime id: 3299\n",
      "User: 41177 selected anime id: 14513\n",
      "User: 41212 selected anime id: 30\n",
      "User: 41234 selected anime id: 237\n",
      "User: 41248 selected anime id: 10620\n",
      "User: 41264 selected anime id: 934\n",
      "User: 41311 selected anime id: 26243\n",
      "User: 41334 selected anime id: 5081\n",
      "User: 41341 selected anime id: 20\n",
      "User: 41362 selected anime id: 5279\n",
      "User: 41379 selected anime id: 953\n",
      "User: 41391 selected anime id: 101\n",
      "User: 41447 selected anime id: 1482\n",
      "User: 41449 selected anime id: 6676\n",
      "User: 41450 selected anime id: 10087\n",
      "User: 41458 selected anime id: 2001\n",
      "User: 41484 selected anime id: 3470\n",
      "User: 41496 selected anime id: 527\n",
      "User: 41502 selected anime id: 20507\n",
      "User: 41507 selected anime id: 435\n",
      "User: 41513 selected anime id: 2904\n",
      "User: 41522 selected anime id: 8769\n",
      "User: 41539 selected anime id: 1889\n",
      "User: 41542 selected anime id: 9181\n",
      "User: 41557 selected anime id: 20787\n",
      "User: 41564 selected anime id: 11741\n",
      "User: 41565 selected anime id: 1108\n",
      "User: 41572 selected anime id: 5040\n",
      "User: 41575 selected anime id: 24703\n",
      "User: 41588 selected anime id: 1908\n",
      "User: 41607 selected anime id: 6884\n",
      "User: 41637 selected anime id: 368\n",
      "User: 41644 selected anime id: 6046\n",
      "User: 41649 selected anime id: 5118\n",
      "User: 41688 selected anime id: 4177\n",
      "User: 41752 selected anime id: 10030\n",
      "User: 41760 selected anime id: 121\n",
      "User: 41769 selected anime id: 9989\n",
      "User: 41782 selected anime id: 7724\n",
      "User: 41801 selected anime id: 1604\n",
      "User: 41843 selected anime id: 11887\n",
      "User: 41855 selected anime id: 6791\n",
      "User: 41874 selected anime id: 16355\n",
      "User: 41880 selected anime id: 16287\n",
      "User: 41885 selected anime id: 6946\n",
      "User: 41896 selected anime id: 13141\n",
      "User: 41914 selected anime id: 3091\n",
      "User: 41933 selected anime id: 59\n",
      "User: 41969 selected anime id: 3627\n",
      "User: 42077 selected anime id: 11741\n",
      "User: 42086 selected anime id: 552\n",
      "User: 42087 selected anime id: 12189\n",
      "User: 42088 selected anime id: 223\n",
      "User: 42093 selected anime id: 9919\n",
      "User: 42197 selected anime id: 2001\n",
      "User: 42198 selected anime id: 15605\n",
      "User: 42241 selected anime id: 21185\n",
      "User: 42271 selected anime id: 202\n",
      "User: 42276 selected anime id: 2923\n",
      "User: 42306 selected anime id: 20785\n",
      "User: 42317 selected anime id: 23755\n",
      "User: 42321 selected anime id: 934\n",
      "User: 42368 selected anime id: 450\n",
      "User: 42373 selected anime id: 30123\n",
      "User: 42405 selected anime id: 29803\n",
      "User: 42440 selected anime id: 2950\n",
      "User: 42457 selected anime id: 5034\n",
      "User: 42462 selected anime id: 15809\n",
      "User: 42479 selected anime id: 4224\n",
      "User: 42503 selected anime id: 21995\n",
      "User: 42548 selected anime id: 11757\n",
      "User: 42559 selected anime id: 20541\n",
      "User: 42560 selected anime id: 31043\n",
      "User: 42569 selected anime id: 30831\n",
      "User: 42601 selected anime id: 9989\n",
      "User: 42602 selected anime id: 15583\n",
      "User: 42614 selected anime id: 13357\n",
      "User: 42689 selected anime id: 23251\n",
      "User: 42699 selected anime id: 22145\n",
      "User: 42736 selected anime id: 15451\n",
      "User: 42757 selected anime id: 6347\n",
      "User: 42765 selected anime id: 24703\n",
      "User: 42780 selected anime id: 4382\n",
      "User: 42781 selected anime id: 16001\n",
      "User: 42835 selected anime id: 16904\n",
      "User: 42851 selected anime id: 1535\n",
      "User: 42864 selected anime id: 9756\n",
      "User: 42877 selected anime id: 14289\n",
      "User: 42892 selected anime id: 16498\n",
      "User: 42905 selected anime id: 16934\n",
      "User: 42906 selected anime id: 3652\n",
      "User: 42943 selected anime id: 11757\n",
      "User: 42974 selected anime id: 1691\n",
      "User: 42983 selected anime id: 846\n",
      "User: 42999 selected anime id: 2966\n",
      "User: 43006 selected anime id: 813\n",
      "User: 43022 selected anime id: 269\n",
      "User: 43077 selected anime id: 21329\n",
      "User: 43102 selected anime id: 10470\n",
      "User: 43137 selected anime id: 19951\n",
      "User: 43157 selected anime id: 24833\n",
      "User: 43194 selected anime id: 16762\n",
      "User: 43259 selected anime id: 30276\n",
      "User: 43309 selected anime id: 15583\n",
      "User: 43393 selected anime id: 24751\n",
      "User: 43399 selected anime id: 4654\n",
      "User: 43401 selected anime id: 16894\n",
      "User: 43428 selected anime id: 10396\n",
      "User: 43471 selected anime id: 31561\n",
      "User: 43478 selected anime id: 6702\n",
      "User: 43485 selected anime id: 27655\n",
      "User: 43495 selected anime id: 15605\n",
      "User: 43514 selected anime id: 14289\n",
      "User: 43563 selected anime id: 1122\n",
      "User: 43611 selected anime id: 1482\n",
      "User: 43635 selected anime id: 861\n",
      "User: 43640 selected anime id: 4080\n",
      "User: 43652 selected anime id: 2120\n",
      "User: 43695 selected anime id: 5114\n",
      "User: 43704 selected anime id: 5365\n",
      "User: 43746 selected anime id: 30885\n",
      "User: 43771 selected anime id: 1575\n",
      "User: 43875 selected anime id: 7311\n",
      "User: 43905 selected anime id: 4224\n",
      "User: 43974 selected anime id: 437\n",
      "User: 44004 selected anime id: 28907\n",
      "User: 44005 selected anime id: 11111\n",
      "User: 44012 selected anime id: 859\n",
      "User: 44015 selected anime id: 20785\n",
      "User: 44029 selected anime id: 384\n",
      "User: 44041 selected anime id: 20\n",
      "User: 44102 selected anime id: 11887\n",
      "User: 44113 selected anime id: 23309\n",
      "User: 44115 selected anime id: 512\n",
      "User: 44116 selected anime id: 11597\n",
      "User: 44176 selected anime id: 9181\n",
      "User: 44221 selected anime id: 2966\n",
      "User: 44375 selected anime id: 6165\n",
      "User: 44432 selected anime id: 2167\n",
      "User: 44476 selected anime id: 205\n",
      "User: 44488 selected anime id: 21511\n",
      "User: 44508 selected anime id: 1118\n",
      "User: 44516 selected anime id: 11665\n",
      "User: 44539 selected anime id: 249\n",
      "User: 44541 selected anime id: 2476\n",
      "User: 44550 selected anime id: 79\n",
      "User: 44565 selected anime id: 199\n",
      "User: 44614 selected anime id: 1699\n",
      "User: 44675 selected anime id: 3888\n",
      "User: 44680 selected anime id: 10568\n",
      "User: 44682 selected anime id: 7088\n",
      "User: 44739 selected anime id: 11111\n",
      "User: 44741 selected anime id: 4752\n",
      "User: 44766 selected anime id: 3457\n",
      "User: 44796 selected anime id: 1254\n",
      "User: 44802 selected anime id: 355\n",
      "User: 44815 selected anime id: 10620\n",
      "User: 44829 selected anime id: 10490\n",
      "User: 45010 selected anime id: 15649\n",
      "User: 45014 selected anime id: 20\n",
      "User: 45054 selected anime id: 487\n",
      "User: 45057 selected anime id: 33\n",
      "User: 45071 selected anime id: 17267\n",
      "User: 45085 selected anime id: 1562\n",
      "User: 45206 selected anime id: 8630\n",
      "User: 45210 selected anime id: 270\n",
      "User: 45213 selected anime id: 14345\n",
      "User: 45215 selected anime id: 578\n",
      "User: 45216 selected anime id: 6547\n",
      "User: 45221 selected anime id: 6547\n",
      "User: 45248 selected anime id: 369\n",
      "User: 45269 selected anime id: 12355\n",
      "User: 45271 selected anime id: 223\n",
      "User: 45279 selected anime id: 14397\n",
      "User: 45294 selected anime id: 10396\n",
      "User: 45311 selected anime id: 19815\n",
      "User: 45352 selected anime id: 7338\n",
      "User: 45386 selected anime id: 530\n",
      "User: 45395 selected anime id: 874\n",
      "User: 45404 selected anime id: 1091\n",
      "User: 45422 selected anime id: 8888\n",
      "User: 45500 selected anime id: 120\n",
      "User: 45526 selected anime id: 678\n",
      "User: 45543 selected anime id: 2593\n",
      "User: 45600 selected anime id: 16498\n",
      "User: 45636 selected anime id: 14075\n",
      "User: 45683 selected anime id: 93\n",
      "User: 45720 selected anime id: 1535\n",
      "User: 45722 selected anime id: 1195\n",
      "User: 45724 selected anime id: 853\n",
      "User: 45725 selected anime id: 6347\n",
      "User: 45727 selected anime id: 2001\n",
      "User: 45738 selected anime id: 31043\n",
      "User: 45843 selected anime id: 4181\n",
      "User: 45908 selected anime id: 228\n",
      "User: 45919 selected anime id: 2268\n",
      "User: 45930 selected anime id: 552\n",
      "User: 45959 selected anime id: 20\n",
      "User: 46017 selected anime id: 47\n",
      "User: 46029 selected anime id: 3655\n",
      "User: 46060 selected anime id: 10161\n",
      "User: 46075 selected anime id: 11433\n",
      "User: 46097 selected anime id: 5162\n",
      "User: 46113 selected anime id: 1535\n",
      "User: 46129 selected anime id: 1575\n",
      "User: 46136 selected anime id: 79\n",
      "User: 46150 selected anime id: 2236\n",
      "User: 46180 selected anime id: 9289\n",
      "User: 46192 selected anime id: 1647\n",
      "User: 46232 selected anime id: 4535\n",
      "User: 46251 selected anime id: 853\n",
      "User: 46257 selected anime id: 226\n",
      "User: 46262 selected anime id: 59\n",
      "User: 46273 selected anime id: 2966\n",
      "User: 46301 selected anime id: 27911\n",
      "User: 46305 selected anime id: 10793\n",
      "User: 46359 selected anime id: 1\n",
      "User: 46362 selected anime id: 10087\n",
      "User: 46431 selected anime id: 20583\n",
      "User: 46459 selected anime id: 11785\n",
      "User: 46465 selected anime id: 17641\n",
      "User: 46469 selected anime id: 30123\n",
      "User: 46475 selected anime id: 6553\n",
      "User: 46477 selected anime id: 121\n",
      "User: 46497 selected anime id: 5530\n",
      "User: 46527 selected anime id: 31706\n",
      "User: 46533 selected anime id: 28819\n",
      "User: 46584 selected anime id: 5114\n",
      "User: 46595 selected anime id: 7870\n",
      "User: 46604 selected anime id: 19163\n",
      "User: 46645 selected anime id: 31163\n",
      "User: 46648 selected anime id: 16498\n",
      "User: 46654 selected anime id: 16498\n",
      "User: 46685 selected anime id: 26243\n",
      "User: 46706 selected anime id: 26243\n",
      "User: 46736 selected anime id: 23673\n",
      "User: 46748 selected anime id: 121\n",
      "User: 46774 selected anime id: 15451\n",
      "User: 46831 selected anime id: 11061\n",
      "User: 46850 selected anime id: 10030\n",
      "User: 46892 selected anime id: 28171\n",
      "User: 46925 selected anime id: 8795\n",
      "User: 46945 selected anime id: 15451\n",
      "User: 46955 selected anime id: 19647\n",
      "User: 46983 selected anime id: 5341\n",
      "User: 47056 selected anime id: 7054\n",
      "User: 47072 selected anime id: 21085\n",
      "User: 47082 selected anime id: 190\n",
      "User: 47141 selected anime id: 565\n",
      "User: 47142 selected anime id: 11741\n",
      "User: 47159 selected anime id: 32182\n",
      "User: 47196 selected anime id: 47\n",
      "User: 47217 selected anime id: 4282\n",
      "User: 47229 selected anime id: 12355\n",
      "User: 47252 selected anime id: 392\n",
      "User: 47263 selected anime id: 202\n",
      "User: 47267 selected anime id: 23281\n",
      "User: 47282 selected anime id: 15809\n",
      "User: 47327 selected anime id: 11111\n",
      "User: 47372 selected anime id: 14741\n",
      "User: 47396 selected anime id: 11285\n",
      "User: 47463 selected anime id: 713\n",
      "User: 47503 selected anime id: 30654\n",
      "User: 47504 selected anime id: 12531\n",
      "User: 47529 selected anime id: 10711\n",
      "User: 47530 selected anime id: 16049\n",
      "User: 47562 selected anime id: 9289\n",
      "User: 47587 selected anime id: 523\n",
      "User: 47609 selected anime id: 759\n",
      "User: 47627 selected anime id: 18507\n",
      "User: 47659 selected anime id: 4999\n",
      "User: 47737 selected anime id: 437\n",
      "User: 47745 selected anime id: 553\n",
      "User: 47781 selected anime id: 11741\n",
      "User: 47799 selected anime id: 1057\n",
      "User: 47806 selected anime id: 1887\n",
      "User: 47842 selected anime id: 1117\n",
      "User: 47921 selected anime id: 1575\n",
      "User: 47931 selected anime id: 853\n",
      "User: 47938 selected anime id: 812\n",
      "User: 47961 selected anime id: 528\n",
      "User: 47981 selected anime id: 18507\n",
      "User: 47994 selected anime id: 16498\n",
      "User: 47995 selected anime id: 19211\n",
      "User: 48009 selected anime id: 2171\n",
      "User: 48033 selected anime id: 4722\n",
      "User: 48096 selected anime id: 28805\n",
      "User: 48103 selected anime id: 20785\n",
      "User: 48127 selected anime id: 285\n",
      "User: 48148 selected anime id: 5114\n",
      "User: 48150 selected anime id: 6205\n",
      "User: 48203 selected anime id: 17265\n",
      "User: 48284 selected anime id: 15809\n",
      "User: 48288 selected anime id: 11703\n",
      "User: 48293 selected anime id: 21327\n",
      "User: 48299 selected anime id: 12189\n",
      "User: 48335 selected anime id: 6676\n",
      "User: 48363 selected anime id: 9989\n",
      "User: 48365 selected anime id: 853\n",
      "User: 48459 selected anime id: 2025\n",
      "User: 48461 selected anime id: 65\n",
      "User: 48497 selected anime id: 9863\n",
      "User: 48499 selected anime id: 6895\n",
      "User: 48564 selected anime id: 10087\n",
      "User: 48576 selected anime id: 5630\n",
      "User: 48593 selected anime id: 14345\n",
      "User: 48609 selected anime id: 552\n",
      "User: 48635 selected anime id: 10495\n",
      "User: 48667 selected anime id: 199\n",
      "User: 48708 selected anime id: 20507\n",
      "User: 48735 selected anime id: 13601\n",
      "User: 48841 selected anime id: 121\n",
      "User: 48961 selected anime id: 120\n",
      "User: 48964 selected anime id: 245\n",
      "User: 48987 selected anime id: 16774\n",
      "User: 48993 selected anime id: 63\n",
      "User: 49015 selected anime id: 1576\n",
      "User: 49038 selected anime id: 157\n",
      "User: 49051 selected anime id: 877\n",
      "User: 49060 selected anime id: 543\n",
      "User: 49082 selected anime id: 226\n",
      "User: 49119 selected anime id: 1692\n",
      "User: 49149 selected anime id: 1738\n",
      "User: 49151 selected anime id: 97\n",
      "User: 49169 selected anime id: 853\n",
      "User: 49182 selected anime id: 167\n",
      "User: 49210 selected anime id: 1293\n",
      "User: 49260 selected anime id: 2034\n",
      "User: 49380 selected anime id: 849\n",
      "User: 49420 selected anime id: 8986\n",
      "User: 49445 selected anime id: 164\n",
      "User: 49466 selected anime id: 132\n",
      "User: 49475 selected anime id: 468\n",
      "User: 49495 selected anime id: 1589\n",
      "User: 49506 selected anime id: 2236\n",
      "User: 49531 selected anime id: 849\n",
      "User: 49537 selected anime id: 162\n",
      "User: 49591 selected anime id: 1140\n",
      "User: 49594 selected anime id: 740\n",
      "User: 49598 selected anime id: 2404\n",
      "User: 49639 selected anime id: 5079\n",
      "User: 49648 selected anime id: 66\n",
      "User: 49651 selected anime id: 121\n",
      "User: 49656 selected anime id: 225\n",
      "User: 49677 selected anime id: 1952\n",
      "User: 49761 selected anime id: 408\n",
      "User: 49769 selected anime id: 9656\n",
      "User: 49775 selected anime id: 322\n",
      "User: 49785 selected anime id: 8769\n",
      "User: 49786 selected anime id: 558\n",
      "User: 49794 selected anime id: 139\n",
      "User: 49796 selected anime id: 1361\n",
      "User: 49821 selected anime id: 543\n",
      "User: 49827 selected anime id: 513\n",
      "User: 49865 selected anime id: 2605\n",
      "User: 49912 selected anime id: 299\n",
      "User: 50035 selected anime id: 477\n",
      "User: 50038 selected anime id: 1571\n",
      "User: 50087 selected anime id: 71\n",
      "User: 50147 selected anime id: 449\n",
      "User: 50153 selected anime id: 3588\n",
      "User: 50224 selected anime id: 59\n",
      "User: 50242 selected anime id: 226\n",
      "User: 50266 selected anime id: 2685\n",
      "User: 50273 selected anime id: 199\n",
      "User: 50337 selected anime id: 376\n",
      "User: 50348 selected anime id: 2404\n",
      "User: 50359 selected anime id: 1140\n",
      "User: 50367 selected anime id: 2476\n",
      "User: 50404 selected anime id: 2962\n",
      "User: 50434 selected anime id: 317\n",
      "User: 50460 selected anime id: 121\n",
      "User: 50486 selected anime id: 1808\n",
      "User: 50541 selected anime id: 764\n",
      "User: 50569 selected anime id: 3457\n",
      "User: 50574 selected anime id: 1519\n",
      "User: 50585 selected anime id: 356\n",
      "User: 50592 selected anime id: 3446\n",
      "User: 50637 selected anime id: 1053\n",
      "User: 50708 selected anime id: 392\n",
      "User: 50727 selected anime id: 3318\n",
      "User: 50746 selected anime id: 1609\n",
      "User: 50782 selected anime id: 539\n",
      "User: 50794 selected anime id: 43\n",
      "User: 50828 selected anime id: 43\n",
      "User: 50831 selected anime id: 1\n",
      "User: 50870 selected anime id: 52\n",
      "User: 50880 selected anime id: 437\n",
      "User: 50905 selected anime id: 134\n",
      "User: 50918 selected anime id: 149\n",
      "User: 50923 selected anime id: 523\n",
      "User: 50948 selected anime id: 5034\n",
      "User: 50971 selected anime id: 27601\n",
      "User: 51025 selected anime id: 87\n",
      "User: 51039 selected anime id: 2001\n",
      "User: 51044 selected anime id: 3091\n",
      "User: 51080 selected anime id: 627\n",
      "User: 51131 selected anime id: 226\n",
      "User: 51195 selected anime id: 713\n",
      "User: 51279 selected anime id: 45\n",
      "User: 51280 selected anime id: 226\n",
      "User: 51306 selected anime id: 609\n",
      "User: 51315 selected anime id: 20\n",
      "User: 51339 selected anime id: 48\n",
      "User: 51375 selected anime id: 270\n",
      "User: 51388 selected anime id: 2962\n",
      "User: 51408 selected anime id: 863\n",
      "User: 51414 selected anime id: 329\n",
      "User: 51426 selected anime id: 2593\n",
      "User: 51448 selected anime id: 1887\n",
      "User: 51461 selected anime id: 3506\n",
      "User: 51466 selected anime id: 936\n",
      "User: 51486 selected anime id: 5525\n",
      "User: 51494 selected anime id: 6547\n",
      "User: 51495 selected anime id: 1202\n",
      "User: 51525 selected anime id: 73\n",
      "User: 51562 selected anime id: 619\n",
      "User: 51572 selected anime id: 10863\n",
      "User: 51589 selected anime id: 227\n",
      "User: 51675 selected anime id: 819\n",
      "User: 51692 selected anime id: 90\n",
      "User: 51733 selected anime id: 202\n",
      "User: 51755 selected anime id: 59\n",
      "User: 51773 selected anime id: 1453\n",
      "User: 51853 selected anime id: 528\n",
      "User: 51921 selected anime id: 666\n",
      "User: 51933 selected anime id: 3731\n",
      "User: 51953 selected anime id: 597\n",
      "User: 51965 selected anime id: 1698\n",
      "User: 51967 selected anime id: 1535\n",
      "User: 51968 selected anime id: 489\n",
      "User: 51969 selected anime id: 1498\n",
      "User: 51990 selected anime id: 2904\n",
      "User: 52011 selected anime id: 6973\n",
      "User: 52049 selected anime id: 1890\n",
      "User: 52082 selected anime id: 935\n",
      "User: 52088 selected anime id: 20\n",
      "User: 52089 selected anime id: 1604\n",
      "User: 52097 selected anime id: 5168\n",
      "User: 52195 selected anime id: 473\n",
      "User: 52197 selected anime id: 3901\n",
      "User: 52208 selected anime id: 460\n",
      "User: 52241 selected anime id: 5501\n",
      "User: 52321 selected anime id: 4163\n",
      "User: 52477 selected anime id: 5258\n",
      "User: 52501 selected anime id: 4472\n",
      "User: 52514 selected anime id: 1569\n",
      "User: 52521 selected anime id: 1303\n",
      "User: 52524 selected anime id: 793\n",
      "User: 52528 selected anime id: 12291\n",
      "User: 52541 selected anime id: 20\n",
      "User: 52550 selected anime id: 4726\n",
      "User: 52554 selected anime id: 1536\n",
      "User: 52575 selected anime id: 142\n",
      "User: 52648 selected anime id: 983\n",
      "User: 52670 selected anime id: 2167\n",
      "User: 52706 selected anime id: 3702\n",
      "User: 52759 selected anime id: 1575\n",
      "User: 52780 selected anime id: 1575\n",
      "User: 52786 selected anime id: 228\n",
      "User: 52795 selected anime id: 212\n",
      "User: 52822 selected anime id: 1723\n",
      "User: 52839 selected anime id: 6945\n",
      "User: 52846 selected anime id: 4066\n",
      "User: 52851 selected anime id: 10572\n",
      "User: 52878 selected anime id: 384\n",
      "User: 52897 selected anime id: 317\n",
      "User: 52901 selected anime id: 33\n",
      "User: 52903 selected anime id: 4725\n",
      "User: 52929 selected anime id: 99\n",
      "User: 52932 selected anime id: 11757\n",
      "User: 52969 selected anime id: 160\n",
      "User: 52970 selected anime id: 18497\n",
      "User: 53000 selected anime id: 5593\n",
      "User: 53002 selected anime id: 4898\n",
      "User: 53077 selected anime id: 253\n",
      "User: 53079 selected anime id: 74\n",
      "User: 53084 selected anime id: 1575\n",
      "User: 53094 selected anime id: 199\n",
      "User: 53105 selected anime id: 180\n",
      "User: 53116 selected anime id: 1731\n",
      "User: 53123 selected anime id: 27613\n",
      "User: 53137 selected anime id: 2923\n",
      "User: 53175 selected anime id: 3138\n",
      "User: 53225 selected anime id: 326\n",
      "User: 53234 selected anime id: 853\n",
      "User: 53255 selected anime id: 499\n",
      "User: 53294 selected anime id: 713\n",
      "User: 53331 selected anime id: 10294\n",
      "User: 53356 selected anime id: 44\n",
      "User: 53370 selected anime id: 5680\n",
      "User: 53372 selected anime id: 5112\n",
      "User: 53423 selected anime id: 2798\n",
      "User: 53435 selected anime id: 1686\n",
      "User: 53437 selected anime id: 897\n",
      "User: 53457 selected anime id: 3470\n",
      "User: 53497 selected anime id: 2563\n",
      "User: 53574 selected anime id: 2952\n",
      "User: 53578 selected anime id: 142\n",
      "User: 53627 selected anime id: 5624\n",
      "User: 53628 selected anime id: 2167\n",
      "User: 53653 selected anime id: 4744\n",
      "User: 53662 selected anime id: 1104\n",
      "User: 53674 selected anime id: 2923\n",
      "User: 53684 selected anime id: 513\n",
      "User: 53716 selected anime id: 2993\n",
      "User: 53779 selected anime id: 120\n",
      "User: 53784 selected anime id: 1140\n",
      "User: 53812 selected anime id: 100\n",
      "User: 53816 selected anime id: 1689\n",
      "User: 53887 selected anime id: 490\n",
      "User: 53888 selected anime id: 356\n",
      "User: 53890 selected anime id: 1367\n",
      "User: 53908 selected anime id: 1698\n",
      "User: 53969 selected anime id: 20899\n",
      "User: 54003 selected anime id: 4382\n",
      "User: 54010 selected anime id: 79\n",
      "User: 54021 selected anime id: 3457\n",
      "User: 54030 selected anime id: 24701\n",
      "User: 54037 selected anime id: 339\n",
      "User: 54050 selected anime id: 21105\n",
      "User: 54053 selected anime id: 412\n",
      "User: 54079 selected anime id: 8514\n",
      "User: 54127 selected anime id: 2025\n",
      "User: 54128 selected anime id: 3092\n",
      "User: 54131 selected anime id: 5909\n",
      "User: 54174 selected anime id: 47\n",
      "User: 54175 selected anime id: 2847\n",
      "User: 54215 selected anime id: 4472\n",
      "User: 54236 selected anime id: 2924\n",
      "User: 54250 selected anime id: 3503\n",
      "User: 54301 selected anime id: 807\n",
      "User: 54392 selected anime id: 157\n",
      "User: 54434 selected anime id: 1535\n",
      "User: 54437 selected anime id: 6862\n",
      "User: 54452 selected anime id: 19391\n",
      "User: 54473 selected anime id: 1535\n",
      "User: 54523 selected anime id: 617\n",
      "User: 54524 selected anime id: 770\n",
      "User: 54542 selected anime id: 223\n",
      "User: 54546 selected anime id: 4814\n",
      "User: 54602 selected anime id: 527\n",
      "User: 54608 selected anime id: 8861\n",
      "User: 54631 selected anime id: 12673\n",
      "User: 54652 selected anime id: 16918\n",
      "User: 54675 selected anime id: 523\n",
      "User: 54688 selected anime id: 1785\n",
      "User: 54713 selected anime id: 6746\n",
      "User: 54879 selected anime id: 26\n",
      "User: 54910 selected anime id: 1378\n",
      "User: 54926 selected anime id: 2167\n",
      "User: 54928 selected anime id: 202\n",
      "User: 55002 selected anime id: 145\n",
      "User: 55009 selected anime id: 4999\n",
      "User: 55010 selected anime id: 3712\n",
      "User: 55012 selected anime id: 7592\n",
      "User: 55026 selected anime id: 849\n",
      "User: 55112 selected anime id: 740\n",
      "User: 55113 selected anime id: 7647\n",
      "User: 55121 selected anime id: 996\n",
      "User: 55125 selected anime id: 28497\n",
      "User: 55142 selected anime id: 4214\n",
      "User: 55163 selected anime id: 31174\n",
      "User: 55210 selected anime id: 4752\n",
      "User: 55230 selected anime id: 1535\n",
      "User: 55234 selected anime id: 18679\n",
      "User: 55236 selected anime id: 2866\n",
      "User: 55295 selected anime id: 1250\n",
      "User: 55311 selected anime id: 2418\n",
      "User: 55336 selected anime id: 2904\n",
      "User: 55356 selected anime id: 54\n",
      "User: 55383 selected anime id: 2923\n",
      "User: 55407 selected anime id: 133\n",
      "User: 55430 selected anime id: 330\n",
      "User: 55457 selected anime id: 199\n",
      "User: 55458 selected anime id: 10165\n",
      "User: 55467 selected anime id: 71\n",
      "User: 55471 selected anime id: 3615\n",
      "User: 55482 selected anime id: 4382\n",
      "User: 55526 selected anime id: 4039\n",
      "User: 55567 selected anime id: 5507\n",
      "User: 55577 selected anime id: 6325\n",
      "User: 55590 selected anime id: 1535\n",
      "User: 55595 selected anime id: 13169\n",
      "User: 55602 selected anime id: 243\n",
      "User: 55613 selected anime id: 198\n",
      "User: 55628 selected anime id: 6\n",
      "User: 55690 selected anime id: 1535\n",
      "User: 55707 selected anime id: 2025\n",
      "User: 55737 selected anime id: 269\n",
      "User: 55740 selected anime id: 28999\n",
      "User: 55769 selected anime id: 11887\n",
      "User: 55789 selected anime id: 11757\n",
      "User: 55791 selected anime id: 15197\n",
      "User: 55798 selected anime id: 18897\n",
      "User: 55810 selected anime id: 18441\n",
      "User: 55821 selected anime id: 28215\n",
      "User: 55841 selected anime id: 1535\n",
      "User: 55845 selected anime id: 22319\n",
      "User: 55852 selected anime id: 16498\n",
      "User: 55868 selected anime id: 1301\n",
      "User: 55878 selected anime id: 28999\n",
      "User: 55892 selected anime id: 23273\n",
      "User: 55921 selected anime id: 376\n",
      "User: 55963 selected anime id: 32182\n",
      "User: 56003 selected anime id: 21563\n",
      "User: 56050 selected anime id: 29511\n",
      "User: 56069 selected anime id: 6547\n",
      "User: 56084 selected anime id: 16498\n",
      "User: 56108 selected anime id: 25161\n",
      "User: 56111 selected anime id: 10805\n",
      "User: 56117 selected anime id: 6702\n",
      "User: 56133 selected anime id: 1575\n",
      "User: 56139 selected anime id: 10030\n",
      "User: 56192 selected anime id: 23283\n",
      "User: 56209 selected anime id: 21881\n",
      "User: 56239 selected anime id: 513\n",
      "User: 56256 selected anime id: 15605\n",
      "User: 56274 selected anime id: 16662\n",
      "User: 56298 selected anime id: 164\n",
      "User: 56313 selected anime id: 5909\n",
      "User: 56355 selected anime id: 15085\n",
      "User: 56356 selected anime id: 120\n",
      "User: 56382 selected anime id: 11577\n",
      "User: 56409 selected anime id: 19369\n",
      "User: 56443 selected anime id: 300\n",
      "User: 56499 selected anime id: 16498\n",
      "User: 56508 selected anime id: 14741\n",
      "User: 56519 selected anime id: 395\n",
      "User: 56523 selected anime id: 355\n",
      "User: 56534 selected anime id: 11757\n",
      "User: 56560 selected anime id: 801\n",
      "User: 56564 selected anime id: 16524\n",
      "User: 56568 selected anime id: 6773\n",
      "User: 56590 selected anime id: 23311\n",
      "User: 56670 selected anime id: 1815\n",
      "User: 56688 selected anime id: 21405\n",
      "User: 56693 selected anime id: 23755\n",
      "User: 56716 selected anime id: 1723\n",
      "User: 56738 selected anime id: 1313\n",
      "User: 56777 selected anime id: 121\n",
      "User: 56782 selected anime id: 1519\n",
      "User: 56783 selected anime id: 16035\n",
      "User: 56792 selected anime id: 14227\n",
      "User: 56849 selected anime id: 1482\n",
      "User: 56852 selected anime id: 11633\n",
      "User: 56855 selected anime id: 16417\n",
      "User: 56870 selected anime id: 11111\n",
      "User: 56882 selected anime id: 2418\n",
      "User: 56887 selected anime id: 903\n",
      "User: 56898 selected anime id: 408\n",
      "User: 56984 selected anime id: 14833\n",
      "User: 56987 selected anime id: 11701\n",
      "User: 57001 selected anime id: 249\n",
      "User: 57032 selected anime id: 578\n",
      "User: 57038 selected anime id: 6747\n",
      "User: 57060 selected anime id: 2923\n",
      "User: 57172 selected anime id: 10456\n",
      "User: 57187 selected anime id: 2966\n",
      "User: 57193 selected anime id: 3092\n",
      "User: 57242 selected anime id: 10213\n",
      "User: 57280 selected anime id: 6033\n",
      "User: 57284 selected anime id: 30\n",
      "User: 57309 selected anime id: 10620\n",
      "User: 57324 selected anime id: 11843\n",
      "User: 57330 selected anime id: 15775\n",
      "User: 57341 selected anime id: 11111\n",
      "User: 57347 selected anime id: 11887\n",
      "User: 57410 selected anime id: 27655\n",
      "User: 57424 selected anime id: 13759\n",
      "User: 57451 selected anime id: 11843\n",
      "User: 57465 selected anime id: 2890\n",
      "User: 57484 selected anime id: 239\n",
      "User: 57500 selected anime id: 10549\n",
      "User: 57522 selected anime id: 14397\n",
      "User: 57593 selected anime id: 267\n",
      "User: 57603 selected anime id: 7338\n",
      "User: 57605 selected anime id: 31636\n",
      "User: 57660 selected anime id: 3927\n",
      "User: 57662 selected anime id: 250\n",
      "User: 57665 selected anime id: 563\n",
      "User: 57666 selected anime id: 372\n",
      "User: 57674 selected anime id: 11239\n",
      "User: 57710 selected anime id: 75\n",
      "User: 57749 selected anime id: 890\n",
      "User: 57861 selected anime id: 47\n",
      "User: 57866 selected anime id: 1543\n",
      "User: 57875 selected anime id: 1887\n",
      "User: 57892 selected anime id: 741\n",
      "User: 57936 selected anime id: 223\n",
      "User: 57951 selected anime id: 329\n",
      "User: 57956 selected anime id: 2026\n",
      "User: 57957 selected anime id: 3604\n",
      "User: 57959 selected anime id: 1095\n",
      "User: 58019 selected anime id: 442\n",
      "User: 58094 selected anime id: 790\n",
      "User: 58101 selected anime id: 934\n",
      "User: 58123 selected anime id: 8311\n",
      "User: 58143 selected anime id: 6637\n",
      "User: 58145 selected anime id: 1954\n",
      "User: 58168 selected anime id: 4382\n",
      "User: 58171 selected anime id: 4059\n",
      "User: 58277 selected anime id: 72\n",
      "User: 58280 selected anime id: 339\n",
      "User: 58281 selected anime id: 1887\n",
      "User: 58295 selected anime id: 7791\n",
      "User: 58306 selected anime id: 51\n",
      "User: 58349 selected anime id: 177\n",
      "User: 58358 selected anime id: 408\n",
      "User: 58364 selected anime id: 389\n",
      "User: 58399 selected anime id: 1818\n",
      "User: 58415 selected anime id: 3089\n",
      "User: 58429 selected anime id: 16\n",
      "User: 58430 selected anime id: 10716\n",
      "User: 58436 selected anime id: 861\n",
      "User: 58466 selected anime id: 853\n",
      "User: 58480 selected anime id: 138\n",
      "User: 58528 selected anime id: 376\n",
      "User: 58593 selected anime id: 94\n",
      "User: 58606 selected anime id: 4535\n",
      "User: 58622 selected anime id: 2251\n",
      "User: 58630 selected anime id: 2562\n",
      "User: 58637 selected anime id: 417\n",
      "User: 58661 selected anime id: 5940\n",
      "User: 58662 selected anime id: 16782\n",
      "User: 58673 selected anime id: 513\n",
      "User: 58674 selected anime id: 659\n",
      "User: 58748 selected anime id: 1536\n",
      "User: 58771 selected anime id: 137\n",
      "User: 58801 selected anime id: 4182\n",
      "User: 58816 selected anime id: 649\n",
      "User: 58827 selected anime id: 4450\n",
      "User: 58845 selected anime id: 512\n",
      "User: 58875 selected anime id: 1575\n",
      "User: 58880 selected anime id: 30240\n",
      "User: 58898 selected anime id: 2593\n",
      "User: 58960 selected anime id: 789\n",
      "User: 58964 selected anime id: 861\n",
      "User: 58991 selected anime id: 3958\n",
      "User: 58992 selected anime id: 14967\n",
      "User: 59102 selected anime id: 2001\n",
      "User: 59175 selected anime id: 1051\n",
      "User: 59190 selected anime id: 1688\n",
      "User: 59215 selected anime id: 167\n",
      "User: 59224 selected anime id: 10074\n",
      "User: 59233 selected anime id: 3467\n",
      "User: 59313 selected anime id: 71\n",
      "User: 59317 selected anime id: 2905\n",
      "User: 59329 selected anime id: 2926\n",
      "User: 59342 selected anime id: 157\n",
      "User: 59370 selected anime id: 918\n",
      "User: 59430 selected anime id: 4081\n",
      "User: 59439 selected anime id: 9790\n",
      "User: 59446 selected anime id: 10155\n",
      "User: 59457 selected anime id: 199\n",
      "User: 59531 selected anime id: 1422\n",
      "User: 59540 selected anime id: 32\n",
      "User: 59608 selected anime id: 849\n",
      "User: 59654 selected anime id: 550\n",
      "User: 59661 selected anime id: 2596\n",
      "User: 59721 selected anime id: 164\n",
      "User: 59741 selected anime id: 60\n",
      "User: 59743 selected anime id: 1690\n",
      "User: 59760 selected anime id: 1698\n",
      "User: 59763 selected anime id: 1366\n",
      "User: 59774 selected anime id: 437\n",
      "User: 59786 selected anime id: 2889\n",
      "User: 59808 selected anime id: 1\n",
      "User: 59810 selected anime id: 400\n",
      "User: 59817 selected anime id: 371\n",
      "User: 59828 selected anime id: 46\n",
      "User: 59865 selected anime id: 3588\n",
      "User: 59876 selected anime id: 21033\n",
      "User: 59883 selected anime id: 4752\n",
      "User: 59953 selected anime id: 6288\n",
      "User: 59955 selected anime id: 5593\n",
      "User: 59996 selected anime id: 2372\n",
      "User: 60015 selected anime id: 2993\n",
      "User: 60071 selected anime id: 3349\n",
      "User: 60085 selected anime id: 597\n",
      "User: 60117 selected anime id: 22535\n",
      "User: 60128 selected anime id: 3784\n",
      "User: 60151 selected anime id: 548\n",
      "User: 60159 selected anime id: 1579\n",
      "User: 60190 selected anime id: 227\n",
      "User: 60201 selected anime id: 28497\n",
      "User: 60208 selected anime id: 1361\n",
      "User: 60213 selected anime id: 2131\n",
      "User: 60223 selected anime id: 3223\n",
      "User: 60227 selected anime id: 1562\n",
      "User: 60240 selected anime id: 19221\n",
      "User: 60257 selected anime id: 4177\n",
      "User: 60261 selected anime id: 7148\n",
      "User: 60273 selected anime id: 2216\n",
      "User: 60295 selected anime id: 166\n",
      "User: 60300 selected anime id: 7148\n",
      "User: 60310 selected anime id: 6956\n",
      "User: 60364 selected anime id: 2581\n",
      "User: 60379 selected anime id: 1982\n",
      "User: 60384 selected anime id: 5114\n",
      "User: 60472 selected anime id: 2164\n",
      "User: 60475 selected anime id: 1399\n",
      "User: 60506 selected anime id: 610\n",
      "User: 60507 selected anime id: 226\n",
      "User: 60559 selected anime id: 20\n",
      "User: 60599 selected anime id: 918\n",
      "User: 60638 selected anime id: 2424\n",
      "User: 60649 selected anime id: 1519\n",
      "User: 60701 selected anime id: 6547\n",
      "User: 60735 selected anime id: 1943\n",
      "User: 60778 selected anime id: 10396\n",
      "User: 60797 selected anime id: 4192\n",
      "User: 60877 selected anime id: 21603\n",
      "User: 60881 selected anime id: 299\n",
      "User: 60898 selected anime id: 403\n",
      "User: 60959 selected anime id: 4981\n",
      "User: 60967 selected anime id: 9253\n",
      "User: 60979 selected anime id: 4063\n",
      "User: 60994 selected anime id: 8769\n",
      "User: 60997 selected anime id: 5630\n",
      "User: 61070 selected anime id: 14227\n",
      "User: 61111 selected anime id: 2787\n",
      "User: 61137 selected anime id: 857\n",
      "User: 61150 selected anime id: 543\n",
      "User: 61207 selected anime id: 5630\n",
      "User: 61256 selected anime id: 93\n",
      "User: 61275 selected anime id: 6746\n",
      "User: 61281 selected anime id: 589\n",
      "User: 61299 selected anime id: 601\n",
      "User: 61306 selected anime id: 431\n",
      "User: 61371 selected anime id: 47\n",
      "User: 61384 selected anime id: 587\n",
      "User: 61394 selected anime id: 248\n",
      "User: 61436 selected anime id: 11179\n",
      "User: 61467 selected anime id: 1498\n",
      "User: 61471 selected anime id: 430\n",
      "User: 61475 selected anime id: 534\n",
      "User: 61516 selected anime id: 2167\n",
      "User: 61518 selected anime id: 3588\n",
      "User: 61519 selected anime id: 135\n",
      "User: 61543 selected anime id: 357\n",
      "User: 61568 selected anime id: 3091\n",
      "User: 61573 selected anime id: 552\n",
      "User: 61581 selected anime id: 58\n",
      "User: 61582 selected anime id: 1817\n",
      "User: 61621 selected anime id: 16890\n",
      "User: 61630 selected anime id: 585\n",
      "User: 61644 selected anime id: 51\n",
      "User: 61714 selected anime id: 24415\n",
      "User: 61720 selected anime id: 120\n",
      "User: 61732 selected anime id: 23281\n",
      "User: 61743 selected anime id: 2787\n",
      "User: 61781 selected anime id: 897\n",
      "User: 61816 selected anime id: 982\n",
      "User: 61842 selected anime id: 7054\n",
      "User: 61909 selected anime id: 9989\n",
      "User: 61914 selected anime id: 23289\n",
      "User: 61916 selected anime id: 11235\n",
      "User: 61921 selected anime id: 1535\n",
      "User: 61923 selected anime id: 31637\n",
      "User: 61958 selected anime id: 12711\n",
      "User: 61982 selected anime id: 14749\n",
      "User: 62003 selected anime id: 20787\n",
      "User: 62006 selected anime id: 14719\n",
      "User: 62040 selected anime id: 223\n",
      "User: 62055 selected anime id: 31\n",
      "User: 62104 selected anime id: 6880\n",
      "User: 62190 selected anime id: 585\n",
      "User: 62235 selected anime id: 2472\n",
      "User: 62242 selected anime id: 4224\n",
      "User: 62261 selected anime id: 15809\n",
      "User: 62296 selected anime id: 17549\n",
      "User: 62332 selected anime id: 24415\n",
      "User: 62342 selected anime id: 1535\n",
      "User: 62352 selected anime id: 16662\n",
      "User: 62366 selected anime id: 1535\n",
      "User: 62445 selected anime id: 21881\n",
      "User: 62474 selected anime id: 226\n",
      "User: 62503 selected anime id: 4793\n",
      "User: 62560 selected anime id: 8074\n",
      "User: 62635 selected anime id: 11319\n",
      "User: 62651 selected anime id: 245\n",
      "User: 62668 selected anime id: 19775\n",
      "User: 62693 selected anime id: 12487\n",
      "User: 62718 selected anime id: 11771\n",
      "User: 62748 selected anime id: 4896\n",
      "User: 62759 selected anime id: 10620\n",
      "User: 62776 selected anime id: 10119\n",
      "User: 62785 selected anime id: 23755\n",
      "User: 62790 selected anime id: 23319\n",
      "User: 62879 selected anime id: 223\n",
      "User: 62887 selected anime id: 8425\n",
      "User: 62889 selected anime id: 2104\n",
      "User: 62926 selected anime id: 889\n",
      "User: 62934 selected anime id: 1222\n",
      "User: 62965 selected anime id: 22663\n",
      "User: 63044 selected anime id: 15451\n",
      "User: 63052 selected anime id: 23233\n",
      "User: 63058 selected anime id: 23283\n",
      "User: 63092 selected anime id: 1535\n",
      "User: 63099 selected anime id: 16498\n",
      "User: 63123 selected anime id: 14289\n",
      "User: 63125 selected anime id: 210\n",
      "User: 63140 selected anime id: 22319\n",
      "User: 63203 selected anime id: 21507\n",
      "User: 63233 selected anime id: 227\n",
      "User: 63323 selected anime id: 25687\n",
      "User: 63392 selected anime id: 4282\n",
      "User: 63403 selected anime id: 6573\n",
      "User: 63428 selected anime id: 9981\n",
      "User: 63460 selected anime id: 5114\n",
      "User: 63480 selected anime id: 1364\n",
      "User: 63488 selected anime id: 10793\n",
      "User: 63502 selected anime id: 24415\n",
      "User: 63539 selected anime id: 11771\n",
      "User: 63614 selected anime id: 20449\n",
      "User: 63630 selected anime id: 5958\n",
      "User: 63653 selected anime id: 11757\n",
      "User: 63655 selected anime id: 4789\n",
      "User: 63658 selected anime id: 13851\n",
      "User: 63666 selected anime id: 269\n",
      "User: 63720 selected anime id: 1696\n",
      "User: 63728 selected anime id: 22535\n",
      "User: 63737 selected anime id: 747\n",
      "User: 63745 selected anime id: 31405\n",
      "User: 63791 selected anime id: 6707\n",
      "User: 63819 selected anime id: 16498\n",
      "User: 63829 selected anime id: 550\n",
      "User: 63906 selected anime id: 19815\n",
      "User: 63907 selected anime id: 3457\n",
      "User: 63908 selected anime id: 16782\n",
      "User: 63913 selected anime id: 147\n",
      "User: 63917 selected anime id: 19815\n",
      "User: 63965 selected anime id: 16498\n",
      "User: 63987 selected anime id: 15085\n",
      "User: 64015 selected anime id: 12445\n",
      "User: 64159 selected anime id: 19489\n",
      "User: 64176 selected anime id: 10490\n",
      "User: 64196 selected anime id: 13759\n",
      "User: 64214 selected anime id: 7791\n",
      "User: 64225 selected anime id: 889\n",
      "User: 64263 selected anime id: 2962\n",
      "User: 64271 selected anime id: 6880\n",
      "User: 64354 selected anime id: 16512\n",
      "User: 64382 selected anime id: 10491\n",
      "User: 64383 selected anime id: 19775\n",
      "User: 64405 selected anime id: 22125\n",
      "User: 64432 selected anime id: 25397\n",
      "User: 64461 selected anime id: 552\n",
      "User: 64500 selected anime id: 19815\n",
      "User: 64512 selected anime id: 1575\n",
      "User: 64518 selected anime id: 22729\n",
      "User: 64573 selected anime id: 22319\n",
      "User: 64593 selected anime id: 185\n",
      "User: 64598 selected anime id: 8074\n",
      "User: 64636 selected anime id: 22101\n",
      "User: 64664 selected anime id: 21843\n",
      "User: 64690 selected anime id: 10119\n",
      "User: 64752 selected anime id: 6213\n",
      "User: 64759 selected anime id: 6546\n",
      "User: 64792 selected anime id: 4654\n",
      "User: 64793 selected anime id: 9041\n",
      "User: 64812 selected anime id: 6791\n",
      "User: 64828 selected anime id: 11757\n",
      "User: 64836 selected anime id: 15813\n",
      "User: 64865 selected anime id: 16782\n",
      "User: 64899 selected anime id: 20031\n",
      "User: 64911 selected anime id: 16592\n",
      "User: 64956 selected anime id: 18055\n",
      "User: 64989 selected anime id: 4181\n",
      "User: 65055 selected anime id: 19815\n",
      "User: 65107 selected anime id: 120\n",
      "User: 65138 selected anime id: 10800\n",
      "User: 65146 selected anime id: 7724\n",
      "User: 65156 selected anime id: 4059\n",
      "User: 65189 selected anime id: 269\n",
      "User: 65205 selected anime id: 28223\n",
      "User: 65224 selected anime id: 16742\n",
      "User: 65235 selected anime id: 11577\n",
      "User: 65251 selected anime id: 11123\n",
      "User: 65273 selected anime id: 617\n",
      "User: 65278 selected anime id: 269\n",
      "User: 65311 selected anime id: 10589\n",
      "User: 65351 selected anime id: 33\n",
      "User: 65363 selected anime id: 50\n",
      "User: 65389 selected anime id: 5667\n",
      "User: 65393 selected anime id: 8876\n",
      "User: 65394 selected anime id: 3656\n",
      "User: 65415 selected anime id: 16894\n",
      "User: 65423 selected anime id: 14289\n",
      "User: 65445 selected anime id: 416\n",
      "User: 65475 selected anime id: 19285\n",
      "User: 65532 selected anime id: 14467\n",
      "User: 65568 selected anime id: 109\n",
      "User: 65576 selected anime id: 4181\n",
      "User: 65608 selected anime id: 53\n",
      "User: 65643 selected anime id: 15195\n",
      "User: 65645 selected anime id: 4224\n",
      "User: 65679 selected anime id: 6347\n",
      "User: 65717 selected anime id: 5680\n",
      "User: 65727 selected anime id: 3515\n",
      "User: 65796 selected anime id: 596\n",
      "User: 65803 selected anime id: 867\n",
      "User: 65818 selected anime id: 6707\n",
      "User: 65836 selected anime id: 578\n",
      "User: 65848 selected anime id: 6746\n",
      "User: 65857 selected anime id: 1709\n",
      "User: 65866 selected anime id: 164\n",
      "User: 65868 selected anime id: 2904\n",
      "User: 65872 selected anime id: 4196\n",
      "User: 65885 selected anime id: 7059\n",
      "User: 65888 selected anime id: 14713\n",
      "User: 65921 selected anime id: 133\n",
      "User: 65957 selected anime id: 237\n",
      "User: 65974 selected anime id: 339\n",
      "User: 65992 selected anime id: 9756\n",
      "User: 66022 selected anime id: 246\n",
      "User: 66078 selected anime id: 1042\n",
      "User: 66089 selected anime id: 6746\n",
      "User: 66090 selected anime id: 149\n",
      "User: 66171 selected anime id: 20543\n",
      "User: 66185 selected anime id: 940\n",
      "User: 66199 selected anime id: 5081\n",
      "User: 66204 selected anime id: 232\n",
      "User: 66280 selected anime id: 427\n",
      "User: 66296 selected anime id: 740\n",
      "User: 66307 selected anime id: 205\n",
      "User: 66336 selected anime id: 1564\n",
      "User: 66348 selected anime id: 1681\n",
      "User: 66350 selected anime id: 2899\n",
      "User: 66373 selected anime id: 5028\n",
      "User: 66383 selected anime id: 553\n",
      "User: 66408 selected anime id: 617\n",
      "User: 66461 selected anime id: 6682\n",
      "User: 66620 selected anime id: 226\n",
      "User: 66641 selected anime id: 10080\n",
      "User: 66652 selected anime id: 530\n",
      "User: 66674 selected anime id: 239\n",
      "User: 66708 selected anime id: 287\n",
      "User: 66722 selected anime id: 2120\n",
      "User: 66738 selected anime id: 5220\n",
      "User: 66741 selected anime id: 1917\n",
      "User: 66776 selected anime id: 6325\n",
      "User: 66834 selected anime id: 10067\n",
      "User: 66838 selected anime id: 793\n",
      "User: 66874 selected anime id: 1686\n",
      "User: 66902 selected anime id: 191\n",
      "User: 66925 selected anime id: 1536\n",
      "User: 66936 selected anime id: 9936\n",
      "User: 66952 selected anime id: 4472\n",
      "User: 66992 selected anime id: 2476\n",
      "User: 67040 selected anime id: 149\n",
      "User: 67087 selected anime id: 3784\n",
      "User: 67090 selected anime id: 440\n",
      "User: 67101 selected anime id: 376\n",
      "User: 67107 selected anime id: 4872\n",
      "User: 67180 selected anime id: 3076\n",
      "User: 67192 selected anime id: 205\n",
      "User: 67193 selected anime id: 8536\n",
      "User: 67224 selected anime id: 1691\n",
      "User: 67229 selected anime id: 9314\n",
      "User: 67269 selected anime id: 245\n",
      "User: 67318 selected anime id: 963\n",
      "User: 67339 selected anime id: 137\n",
      "User: 67391 selected anime id: 2167\n",
      "User: 67438 selected anime id: 6895\n",
      "User: 67468 selected anime id: 540\n",
      "User: 67547 selected anime id: 1698\n",
      "User: 67552 selected anime id: 1519\n",
      "User: 67595 selected anime id: 3588\n",
      "User: 67619 selected anime id: 12079\n",
      "User: 67640 selected anime id: 3032\n",
      "User: 67641 selected anime id: 5681\n",
      "User: 67671 selected anime id: 240\n",
      "User: 67689 selected anime id: 5\n",
      "User: 67709 selected anime id: 249\n",
      "User: 67737 selected anime id: 2993\n",
      "User: 67744 selected anime id: 5204\n",
      "User: 67809 selected anime id: 227\n",
      "User: 67830 selected anime id: 3299\n",
      "User: 67833 selected anime id: 156\n",
      "User: 67840 selected anime id: 1241\n",
      "User: 67844 selected anime id: 463\n",
      "User: 67888 selected anime id: 20899\n",
      "User: 67925 selected anime id: 270\n",
      "User: 67942 selected anime id: 1889\n",
      "User: 67956 selected anime id: 17549\n",
      "User: 68003 selected anime id: 16\n",
      "User: 68034 selected anime id: 202\n",
      "User: 68049 selected anime id: 10271\n",
      "User: 68056 selected anime id: 5152\n",
      "User: 68071 selected anime id: 3783\n",
      "User: 68085 selected anime id: 577\n",
      "User: 68123 selected anime id: 6702\n",
      "User: 68125 selected anime id: 6512\n",
      "User: 68128 selected anime id: 1686\n",
      "User: 68158 selected anime id: 3446\n",
      "User: 68241 selected anime id: 9253\n",
      "User: 68245 selected anime id: 2026\n",
      "User: 68255 selected anime id: 849\n",
      "User: 68278 selected anime id: 8915\n",
      "User: 68318 selected anime id: 22\n",
      "User: 68346 selected anime id: 170\n",
      "User: 68347 selected anime id: 1482\n",
      "User: 68349 selected anime id: 8795\n",
      "User: 68356 selected anime id: 14075\n",
      "User: 68382 selected anime id: 269\n",
      "User: 68388 selected anime id: 7627\n",
      "User: 68394 selected anime id: 3712\n",
      "User: 68404 selected anime id: 267\n",
      "User: 68502 selected anime id: 1575\n",
      "User: 68514 selected anime id: 1689\n",
      "User: 68593 selected anime id: 17082\n",
      "User: 68614 selected anime id: 50\n",
      "User: 68621 selected anime id: 15051\n",
      "User: 68650 selected anime id: 813\n",
      "User: 68672 selected anime id: 5114\n",
      "User: 68684 selected anime id: 17265\n",
      "User: 68690 selected anime id: 889\n",
      "User: 68699 selected anime id: 467\n",
      "User: 68719 selected anime id: 205\n",
      "User: 68861 selected anime id: 23277\n",
      "User: 68891 selected anime id: 11319\n",
      "User: 68892 selected anime id: 12859\n",
      "User: 68929 selected anime id: 11617\n",
      "User: 68944 selected anime id: 24133\n",
      "User: 68978 selected anime id: 30831\n",
      "User: 69001 selected anime id: 12293\n",
      "User: 69021 selected anime id: 20\n",
      "User: 69066 selected anime id: 512\n",
      "User: 69124 selected anime id: 323\n",
      "User: 69141 selected anime id: 7593\n",
      "User: 69163 selected anime id: 17269\n",
      "User: 69170 selected anime id: 20509\n",
      "User: 69177 selected anime id: 4898\n",
      "User: 69180 selected anime id: 762\n",
      "User: 69212 selected anime id: 22535\n",
      "User: 69214 selected anime id: 243\n",
      "User: 69238 selected anime id: 20\n",
      "User: 69300 selected anime id: 10790\n",
      "User: 69319 selected anime id: 28999\n",
      "User: 69321 selected anime id: 6\n",
      "User: 69342 selected anime id: 32998\n",
      "User: 69372 selected anime id: 20787\n",
      "User: 69402 selected anime id: 21431\n",
      "User: 69406 selected anime id: 14227\n",
      "User: 69425 selected anime id: 32438\n",
      "User: 69487 selected anime id: 11757\n",
      "User: 69489 selected anime id: 11111\n",
      "User: 69496 selected anime id: 825\n",
      "User: 69514 selected anime id: 237\n",
      "User: 69540 selected anime id: 512\n",
      "User: 69551 selected anime id: 813\n",
      "User: 69563 selected anime id: 9936\n",
      "User: 69565 selected anime id: 16782\n",
      "User: 69592 selected anime id: 21339\n",
      "User: 69599 selected anime id: 18277\n",
      "User: 69609 selected anime id: 10189\n",
      "User: 69623 selected anime id: 11499\n",
      "User: 69645 selected anime id: 6702\n",
      "User: 69664 selected anime id: 10067\n",
      "User: 69668 selected anime id: 8841\n",
      "User: 69675 selected anime id: 3712\n",
      "User: 69763 selected anime id: 16498\n",
      "User: 69796 selected anime id: 740\n",
      "User: 69802 selected anime id: 2403\n",
      "User: 69817 selected anime id: 18153\n",
      "User: 69893 selected anime id: 18247\n",
      "User: 69900 selected anime id: 22535\n",
      "User: 69930 selected anime id: 8676\n",
      "User: 69939 selected anime id: 2759\n",
      "User: 69940 selected anime id: 7791\n",
      "User: 69983 selected anime id: 22297\n",
      "User: 69989 selected anime id: 1723\n",
      "User: 69997 selected anime id: 6573\n",
      "User: 70000 selected anime id: 22319\n",
      "User: 70010 selected anime id: 11771\n",
      "User: 70096 selected anime id: 23755\n",
      "User: 70131 selected anime id: 18679\n",
      "User: 70196 selected anime id: 1535\n",
      "User: 70215 selected anime id: 3457\n",
      "User: 70238 selected anime id: 578\n",
      "User: 70245 selected anime id: 3457\n",
      "User: 70269 selected anime id: 7054\n",
      "User: 70309 selected anime id: 199\n",
      "User: 70318 selected anime id: 6045\n",
      "User: 70321 selected anime id: 11979\n",
      "User: 70343 selected anime id: 10620\n",
      "User: 70470 selected anime id: 10418\n",
      "User: 70486 selected anime id: 502\n",
      "User: 70506 selected anime id: 2752\n",
      "User: 70523 selected anime id: 10178\n",
      "User: 70594 selected anime id: 14289\n",
      "User: 70598 selected anime id: 10497\n",
      "User: 70617 selected anime id: 6381\n",
      "User: 70645 selected anime id: 14967\n",
      "User: 70666 selected anime id: 6746\n",
      "User: 70687 selected anime id: 20787\n",
      "User: 70693 selected anime id: 18897\n",
      "User: 70742 selected anime id: 17895\n",
      "User: 70793 selected anime id: 29095\n",
      "User: 70794 selected anime id: 13759\n",
      "User: 70829 selected anime id: 11061\n",
      "User: 70839 selected anime id: 8915\n",
      "User: 70863 selected anime id: 6880\n",
      "User: 70872 selected anime id: 63\n",
      "User: 70890 selected anime id: 1562\n",
      "User: 70896 selected anime id: 14345\n",
      "User: 70926 selected anime id: 22535\n",
      "User: 70960 selected anime id: 10161\n",
      "User: 70970 selected anime id: 12967\n",
      "User: 71014 selected anime id: 24703\n",
      "User: 71019 selected anime id: 1535\n",
      "User: 71046 selected anime id: 21327\n",
      "User: 71048 selected anime id: 14467\n",
      "User: 71059 selected anime id: 13331\n",
      "User: 71061 selected anime id: 11757\n",
      "User: 71107 selected anime id: 28675\n",
      "User: 71168 selected anime id: 11359\n",
      "User: 71207 selected anime id: 7593\n",
      "User: 71300 selected anime id: 7054\n",
      "User: 71304 selected anime id: 16870\n",
      "User: 71359 selected anime id: 1498\n",
      "User: 71392 selected anime id: 15051\n",
      "User: 71456 selected anime id: 77\n",
      "User: 71459 selected anime id: 23281\n",
      "User: 71508 selected anime id: 12015\n",
      "User: 71529 selected anime id: 25143\n",
      "User: 71556 selected anime id: 16\n",
      "User: 71598 selected anime id: 32\n",
      "User: 71623 selected anime id: 813\n",
      "User: 71638 selected anime id: 11111\n",
      "User: 71750 selected anime id: 8516\n",
      "User: 71804 selected anime id: 5220\n",
      "User: 71818 selected anime id: 8074\n",
      "User: 71854 selected anime id: 22145\n",
      "User: 71862 selected anime id: 28927\n",
      "User: 71864 selected anime id: 9253\n",
      "User: 71947 selected anime id: 30276\n",
      "User: 71950 selected anime id: 10620\n",
      "User: 71966 selected anime id: 317\n",
      "User: 71968 selected anime id: 10294\n",
      "User: 72001 selected anime id: 2251\n",
      "User: 72014 selected anime id: 6421\n",
      "User: 72026 selected anime id: 2904\n",
      "User: 72032 selected anime id: 199\n",
      "User: 72035 selected anime id: 5081\n",
      "User: 72055 selected anime id: 4654\n",
      "User: 72088 selected anime id: 13939\n",
      "User: 72109 selected anime id: 18115\n",
      "User: 72115 selected anime id: 889\n",
      "User: 72206 selected anime id: 5681\n",
      "User: 72399 selected anime id: 20785\n",
      "User: 72427 selected anime id: 31478\n",
      "User: 72431 selected anime id: 15605\n",
      "User: 72456 selected anime id: 1074\n",
      "User: 72471 selected anime id: 5781\n",
      "User: 72501 selected anime id: 19815\n",
      "User: 72527 selected anime id: 9969\n",
      "User: 72539 selected anime id: 18679\n",
      "User: 72557 selected anime id: 1593\n",
      "User: 72558 selected anime id: 25157\n",
      "User: 72568 selected anime id: 15197\n",
      "User: 72601 selected anime id: 11617\n",
      "User: 72621 selected anime id: 14719\n",
      "User: 72625 selected anime id: 513\n",
      "User: 72630 selected anime id: 26165\n",
      "User: 72646 selected anime id: 10080\n",
      "User: 72659 selected anime id: 21659\n",
      "User: 72682 selected anime id: 4059\n",
      "User: 72689 selected anime id: 2520\n",
      "User: 72713 selected anime id: 7593\n",
      "User: 72724 selected anime id: 14837\n",
      "User: 72731 selected anime id: 5081\n",
      "User: 72747 selected anime id: 20709\n",
      "User: 72762 selected anime id: 22535\n",
      "User: 72775 selected anime id: 9922\n",
      "User: 72778 selected anime id: 50\n",
      "User: 72822 selected anime id: 1535\n",
      "User: 72875 selected anime id: 29093\n",
      "User: 72954 selected anime id: 4282\n",
      "User: 72958 selected anime id: 813\n",
      "User: 72982 selected anime id: 15417\n",
      "User: 72987 selected anime id: 28423\n",
      "User: 73020 selected anime id: 16498\n",
      "User: 73045 selected anime id: 31904\n",
      "User: 73059 selected anime id: 1292\n",
      "User: 73063 selected anime id: 19221\n",
      "User: 73085 selected anime id: 147\n",
      "User: 73088 selected anime id: 10578\n",
      "User: 73158 selected anime id: 3958\n",
      "User: 73187 selected anime id: 186\n",
      "User: 73215 selected anime id: 16774\n",
      "User: 73219 selected anime id: 5\n",
      "User: 73272 selected anime id: 3655\n",
      "User: 73308 selected anime id: 7588\n",
      "User: 73332 selected anime id: 2167\n",
      "User: 73375 selected anime id: 572\n",
      "User: 73378 selected anime id: 21647\n",
      "User: 73419 selected anime id: 6586\n",
      "User: 73436 selected anime id: 1686\n",
      "User: 73439 selected anime id: 10638\n",
      "User: 73474 selected anime id: 1222\n",
      "User: 73500 selected anime id: 7705\n",
      "User: 73510 selected anime id: 2476\n"
     ]
    }
   ],
   "source": [
    "for user_id, watched_anime_ids in user_watched_items.items():\n",
    "    # Randomly choose one anime id from the watched list using the seed\n",
    "    random.seed(my_seed)\n",
    "    selected_anime_id = random.choice(watched_anime_ids)\n",
    "    print(\"User:\", user_id, \"selected anime id:\", selected_anime_id)\n",
    "    \n",
    "    # Pass the selected id as a single-item list to get_recommendations\n",
    "    rec_df = content_rs_single.get_recommendations(selected_anime_id)\n",
    "    \n",
    "    # Convert recommendations into Surprise Prediction objects\n",
    "    for _, row in rec_df.iterrows():\n",
    "        predictions_content_single.append(\n",
    "            Prediction(\n",
    "                uid=user_id,\n",
    "                iid=row['anime_id'],\n",
    "                r_ui=default_r_ui,\n",
    "                est=row['score'],\n",
    "                details={'was_impossible': False}\n",
    "            )\n",
    "        )"
   ]
  },
  {
   "cell_type": "markdown",
   "metadata": {},
   "source": [
    "\n",
    "To address the long tail phenomenon, I will increase the maximum rating from 10 to 20. Given that the average rating is around 8, we anticipate a considerable number of predictions exceeding 10. If we were to cap the ratings at 10, those higher predictions would be excluded, preventing the top scores from being properly distinguished. This limitation would especially affect the coverage metric for the random recommender that should be of 100%."
   ]
  },
  {
   "cell_type": "markdown",
   "metadata": {},
   "source": []
  },
  {
   "cell_type": "code",
   "execution_count": 259,
   "metadata": {},
   "outputs": [],
   "source": [
    "min_rating = ratings_df['rating'].min()\n",
    "max_rating = ratings_df['rating'].max() + 10"
   ]
  },
  {
   "cell_type": "code",
   "execution_count": 260,
   "metadata": {},
   "outputs": [],
   "source": [
    "reader = Reader(rating_scale=(min_rating, max_rating)) #specify the scale, that is, the minimum and maximum values\n",
    "anime_data_scaled = Dataset.load_from_df(ratings_df[['user_id', 'anime_id', 'rating']], reader)"
   ]
  },
  {
   "cell_type": "markdown",
   "metadata": {},
   "source": []
  },
  {
   "cell_type": "code",
   "execution_count": 261,
   "metadata": {},
   "outputs": [],
   "source": [
    "trainset_nonacc = anime_data_scaled.build_full_trainset()\n",
    "testset_nonacc = trainset.build_anti_testset()"
   ]
  },
  {
   "cell_type": "code",
   "execution_count": 262,
   "metadata": {},
   "outputs": [
    {
     "name": "stdout",
     "output_type": "stream",
     "text": [
      "Estimating biases using als...\n",
      "Computing the cosine similarity matrix...\n",
      "Done computing similarity matrix.\n",
      "Training base models for ensemble...\n",
      "Estimating biases using als...\n",
      "Computing the pearson_baseline similarity matrix...\n",
      "Done computing similarity matrix.\n",
      "Computing the pearson similarity matrix...\n",
      "Done computing similarity matrix.\n",
      "Training meta-model with 126 samples\n",
      "Error training meta-model: setting an array element with a sequence.\n",
      "Falling back to average of base models\n"
     ]
    }
   ],
   "source": [
    "random_RS.fit(trainset_nonacc);\n",
    "popular_RS.fit(trainset_nonacc);\n",
    "memory_based_final.fit(trainset_nonacc); # cambiar al mejor que tenga!!!\n",
    "final_model_svd.fit(trainset_nonacc);\n",
    "ensemble_model.fit(trainset_nonacc);"
   ]
  },
  {
   "cell_type": "code",
   "execution_count": null,
   "metadata": {},
   "outputs": [],
   "source": [
    "predictions_random  = random_RS.test(testset_nonacc)\n",
    "predictions_popular = popular_RS.test(testset_nonacc)\n",
    "predictions_memory_cf = memory_based_final.test(testset_nonacc)\n",
    "predictions_model_cf = final_model_svd.test(testset_nonacc)\n",
    "predictions_ensemble = ensemble_model.test(testset_nonacc) "
   ]
  },
  {
   "cell_type": "markdown",
   "metadata": {},
   "source": [
    "\n",
    "Store all prediction variables in a dictionary"
   ]
  },
  {
   "cell_type": "code",
   "execution_count": null,
   "metadata": {},
   "outputs": [],
   "source": [
    "predictions_allmodels = {\n",
    "    \"content_single\": predictions_content_single,\n",
    "    \"content_multi\": predictions_content_multi,\n",
    "    \"random\": predictions_random,\n",
    "    \"popular\": predictions_popular,\n",
    "    \"memory_cf\": predictions_memory_cf,\n",
    "    \"model_cf\": predictions_model_cf,\n",
    "    \"ensemble\": predictions_ensemble\n",
    "}"
   ]
  },
  {
   "cell_type": "markdown",
   "metadata": {},
   "source": [
    "\n",
    "https://github.com/NicolasHug/Surprise/blob/master/examples/top_n_recommendations.py"
   ]
  },
  {
   "cell_type": "code",
   "execution_count": null,
   "metadata": {},
   "outputs": [],
   "source": [
    "def get_top_n(predictions, n=10, solve_ties=False):\n",
    "    from collections import defaultdict\n",
    "    # First map the predictions to each user.\n",
    "    top_n = defaultdict(list)\n",
    "    for uid, iid, true_r, est, _ in predictions:\n",
    "        top_n[uid].append((iid, est))\n",
    "\n",
    "    # Then sort the predictions for each user and retrieve the k highest ones.\n",
    "    for uid, user_ratings in top_n.items():\n",
    "        if solve_ties:\n",
    "            user_ratings.sort(key=lambda x: (x[1], x[0]), reverse=True)\n",
    "        else:\n",
    "            user_ratings.sort(key=lambda x: x[1], reverse=True)\n",
    "        top_n[uid] = user_ratings[:n]\n",
    "    return top_n"
   ]
  },
  {
   "cell_type": "markdown",
   "metadata": {},
   "source": []
  },
  {
   "cell_type": "code",
   "execution_count": null,
   "metadata": {},
   "outputs": [],
   "source": [
    "top_n_random  = get_top_n(predictions_random, n=50)\n",
    "top_n_popular = get_top_n(predictions_popular, n=50, solve_ties=True)  # Remove randomness\n",
    "top_n_memory_cf = get_top_n(predictions_memory_cf, n=50)\n",
    "top_n_model_cf = get_top_n(predictions_model_cf, n=50)\n",
    "top_n_ensemble = get_top_n(predictions_ensemble, n=50)\n",
    "top_n_content_multi = get_top_n(predictions_content_multi, n=50)\n",
    "top_n_content_single = get_top_n(predictions_content_single, n=50)"
   ]
  },
  {
   "cell_type": "markdown",
   "metadata": {},
   "source": []
  },
  {
   "cell_type": "code",
   "execution_count": null,
   "metadata": {},
   "outputs": [],
   "source": [
    "top_n_random_only_items  = [[iid for (iid, _) in user_ratings] for user_ratings in top_n_random.values()]\n",
    "top_n_popular_only_items = [[iid for (iid, _) in user_ratings] for user_ratings in top_n_popular.values()]\n",
    "top_n_memory_cf_only_items      = [[iid for (iid, _) in user_ratings] for user_ratings in top_n_memory_cf.values()]\n",
    "top_n_model_cf_only_items      = [[iid for (iid, _) in user_ratings] for user_ratings in top_n_model_cf.values()]\n",
    "top_n_ensemble_only_items     = [[iid for (iid, _) in user_ratings] for user_ratings in top_n_ensemble.values()]\n",
    "top_n_contentm_only_items    = [[iid for (iid, _) in user_ratings] for user_ratings in top_n_content_multi.values()]\n",
    "top_n_contents_only_items    = [[iid for (iid, _) in user_ratings] for user_ratings in top_n_content_single.values()]"
   ]
  },
  {
   "cell_type": "markdown",
   "metadata": {},
   "source": [
    "\n",
    "* Coverage"
   ]
  },
  {
   "cell_type": "markdown",
   "metadata": {},
   "source": []
  },
  {
   "cell_type": "code",
   "execution_count": null,
   "metadata": {},
   "outputs": [],
   "source": [
    "catalog = [trainset_nonacc.to_raw_iid(inner_iid) for inner_iid in trainset_nonacc.all_items()]\n",
    "coverage_random = recmetrics.prediction_coverage(top_n_random_only_items, catalog)\n",
    "print(f'Random coverage: {coverage_random}')\n",
    "coverage_popular = recmetrics.prediction_coverage(top_n_popular_only_items, catalog)\n",
    "print(f'Popular coverage: {coverage_popular}')\n",
    "coverage_memorycf = recmetrics.prediction_coverage(top_n_memory_cf_only_items, catalog)\n",
    "print(f'CF memory-based coverage: {coverage_memorycf}')\n",
    "coverage_modelcf = recmetrics.prediction_coverage(top_n_model_cf_only_items, catalog)\n",
    "print(f'CF model-based coverage: {coverage_modelcf}')\n",
    "coverage_ensemble = recmetrics.prediction_coverage(top_n_ensemble_only_items, catalog)\n",
    "print(f'Ensemble model coverage: {coverage_ensemble}')\n",
    "coverage_content_m = recmetrics.prediction_coverage(top_n_contentm_only_items, catalog)\n",
    "print(f'Content-based (multi-item) coverage: {coverage_content_m}')\n",
    "coverage_content_s = recmetrics.prediction_coverage(top_n_contents_only_items, catalog)\n",
    "print(f'Content-based (single-item) coverage: {coverage_content_s}')"
   ]
  },
  {
   "cell_type": "markdown",
   "metadata": {},
   "source": []
  },
  {
   "cell_type": "code",
   "execution_count": null,
   "metadata": {},
   "outputs": [],
   "source": [
    "fig = plt.figure(figsize=(7, 3))\n",
    "model_names = ['Random', 'Popular', 'CF memory', 'CF model', 'Ensemble', \"Content M\", \"Content S\"]\n",
    "recmetrics.coverage_plot([coverage_random, coverage_popular, coverage_memorycf, coverage_modelcf, coverage_ensemble, coverage_content_s, coverage_content_m], model_names)"
   ]
  },
  {
   "cell_type": "markdown",
   "metadata": {},
   "source": [
    "\n",
    "umber of items in ratings_df"
   ]
  },
  {
   "cell_type": "code",
   "execution_count": null,
   "metadata": {},
   "outputs": [],
   "source": [
    "num_items = len(ratings_df['anime_id'].unique())\n",
    "#Number of users in ratings_df\n",
    "num_users = len(ratings_df['user_id'].unique())\n",
    "print(f\"Number of items in ratings_df: {num_items}\")\n",
    "print(f\"Number of users in ratings_df: {num_users}\")"
   ]
  },
  {
   "cell_type": "markdown",
   "metadata": {},
   "source": [
    "\n",
    "From a coverage standpoint, the popular recommender underperforms by covering only the top 50 items. In contrast, the random recommender achieves 100% coverage (after adjusting the scale), as every item has an equal chance of being recommended after adjusting the rating scale. Both the item-based and user-based collaborative filtering systems demonstrate similar performance, covering over 60% of the catalog since users interact with a diverse set of items and vice versa. What stands out is the model-based recommender's lower coverage, which may be due to the lack of fine-tuning, suggesting that further optimization could lead to significant improvements in coverage.\n",
    "\n",
    "The multi content-based recommended achieves a comparable performance with the random recommender, which suggests that average the distances of the recommendations for a number of items is effective. A similar performance is seen in the single item content based because the distinct items selected for each of the 2892 users and their respective 50 recommendations can easily cover a big proportion of the total number of 4326 items. "
   ]
  },
  {
   "cell_type": "markdown",
   "metadata": {},
   "source": [
    "\n",
    "* Personalization"
   ]
  },
  {
   "cell_type": "markdown",
   "metadata": {},
   "source": []
  },
  {
   "cell_type": "code",
   "execution_count": null,
   "metadata": {},
   "outputs": [],
   "source": [
    "personalization_random = recmetrics.personalization(top_n_random_only_items)\n",
    "print(f'Random personalization: {personalization_random}')\n",
    "personalization_popular = recmetrics.personalization(top_n_popular_only_items)\n",
    "print(f'Popular personalization: {personalization_popular}')\n",
    "personalization_memorycf = recmetrics.personalization(top_n_memory_cf_only_items)\n",
    "print(f'CF memory-based personalization: {personalization_memorycf}')\n",
    "personalization_modelcf = recmetrics.personalization(top_n_model_cf_only_items)\n",
    "print(f'CF model-based personalization: {personalization_modelcf}')\n",
    "personalization_ensemble = recmetrics.personalization(top_n_ensemble_only_items)\n",
    "print(f'Ensemble model personalization: {personalization_ensemble}')\n",
    "personalization_content_m= recmetrics.personalization(top_n_contentm_only_items)\n",
    "print(f'Content-based (Multi-item) personalization: {personalization_content_m}')\n",
    "personalization_content_s= recmetrics.personalization(top_n_contents_only_items)\n",
    "print(f'Content-based (Single-item) personalization: {personalization_content_s}')"
   ]
  },
  {
   "cell_type": "markdown",
   "metadata": {},
   "source": []
  },
  {
   "cell_type": "code",
   "execution_count": null,
   "metadata": {},
   "outputs": [],
   "source": [
    "user_watched_items = ratings_df.groupby('user_id')['anime_id'].apply(list)\n",
    "user_watched_items\n",
    "#Calculate the number of watched items for each user\n",
    "user_watched_items_count = user_watched_items.apply(len)\n",
    "#Calculate the average number of watched items\n",
    "average_watched_items = user_watched_items_count.mean()\n",
    "print(f\"Average number of watched items per user: {average_watched_items:.2f}\")"
   ]
  },
  {
   "cell_type": "markdown",
   "metadata": {},
   "source": [
    "\n",
    "From a personalization perspective, which measures how different recommendation lists are across users, the popular recommender scores the lowest (almost close to zero) since it provides the same list to every user (unless it's modified, for example, using demographic filtering). In contrast, the random recommender achieves the highest personalization because its inherently random nature makes it very unlikely for two users to receive similar recommendations. Both the item-based and user-based collaborative filtering recommenders also perform well in personalization, as they tailor recommendations to each user's distinct preferences. It is, however, surprising that the model-based recommender shows a lower personalization score, suggesting again that it may require further fine-tuning to match the performance of the other collaborative filtering methods.\n",
    "\n",
    "For the multi content recommender, the aforementioned mixing of predictions allows to return distinct lists because the interacted items between users differ and there is a random factor when choosing 10 of the interacted items, which depicts a desired outcome in this metric. This trend holds also with the single item content recommender since only one random item was chosen per user, and the average number of interactions is around 12 anime shows, which lowers the probability of having the exact same item selected. \n"
   ]
  },
  {
   "cell_type": "markdown",
   "metadata": {},
   "source": [
    "\n",
    "* Diversity"
   ]
  },
  {
   "cell_type": "markdown",
   "metadata": {},
   "source": []
  },
  {
   "cell_type": "code",
   "execution_count": null,
   "metadata": {},
   "outputs": [],
   "source": [
    "anime_df = anime_df[['anime_id']].join(anime_df['genre'].str.get_dummies(sep=', ')).set_index('anime_id')"
   ]
  },
  {
   "cell_type": "code",
   "execution_count": null,
   "metadata": {},
   "outputs": [],
   "source": [
    "diversity_random = recmetrics.intra_list_similarity(top_n_random_only_items, anime_df)\n",
    "print(f'Random diversity: {diversity_random}')\n",
    "diversity_popular = recmetrics.intra_list_similarity(top_n_popular_only_items, anime_df)\n",
    "print(f'Popular diversity: {diversity_popular}')\n",
    "diversity_memorycf = recmetrics.intra_list_similarity(top_n_memory_cf_only_items, anime_df)\n",
    "print(f'CF memory_based diversity: {diversity_memorycf}')\n",
    "diversity_modelcf = recmetrics.intra_list_similarity(top_n_model_cf_only_items, anime_df)\n",
    "print(f'CF model-based diversity: {diversity_modelcf}')\n",
    "diversity_ensemble = recmetrics.intra_list_similarity(top_n_ensemble_only_items, anime_df)\n",
    "print(f'Ensemble model diversity: {diversity_ensemble}')\n",
    "diversity_content_multi = recmetrics.intra_list_similarity(top_n_contentm_only_items, anime_df)\n",
    "print(f'Content (Multi-item) diversity: {diversity_content_multi}')\n",
    "diversity_content_single = recmetrics.intra_list_similarity(top_n_contents_only_items, anime_df)\n",
    "print(f'Content (Single-item) diversity: {diversity_content_single}')"
   ]
  },
  {
   "cell_type": "markdown",
   "metadata": {},
   "source": [
    "\n",
    "From a diversity perspective, the collaborative filtering recommenders show similar scores, outperforming both the random and popular recommenders. Notably, the popular recommender scores the lowest, as its diversity is limited by the range of categories among the top 50 most popular items. Although the random recommender generally has the potential to offer higher diversity, in this specific instance its top predictions sometimes end up being concentrated in a single category, thereby reducing its diversity score.\n",
    "\n",
    "It's also important to mention that the diversity metric was computed using the top 50 items. Adjusting the size of this top list (k) could lead to different outcomes. The similarity in scores across the recommenders might indicate that the top 50 sample itself is biased possibly because a majority of the items (e.g., anime shows) belong to the same category.\n",
    "\n",
    "As of the content-based model, both multi and single item slightly outperform the other recommender. This outcome can seem as unexpected, since we expect that the all lists of recommendations include similar items as the cosine distance was used to return them. However, it is important to consider that for the similarity matrix several metadata columns (numerical and categorical) were considered for the computation, however, in the diversity metric we are only considering the genre metadata. Therefore, we can have two different animes from the same genre but this similarity can be offset by a disimilarity in the number of episodes or members they have. "
   ]
  },
  {
   "cell_type": "markdown",
   "metadata": {},
   "source": [
    "\n",
    "* Summary plot"
   ]
  },
  {
   "cell_type": "markdown",
   "metadata": {},
   "source": []
  },
  {
   "cell_type": "code",
   "execution_count": null,
   "metadata": {},
   "outputs": [],
   "source": [
    "recmetrics.metrics_plot(model_names=model_names,\n",
    "                        coverage_scores=[coverage_random, coverage_popular, coverage_memorycf, coverage_modelcf, coverage_ensemble, coverage_content_s, coverage_content_m],\n",
    "                        personalization_scores=[personalization_random, personalization_popular, personalization_memorycf, personalization_modelcf, personalization_ensemble, personalization_content_s, personalization_content_m],\n",
    "                        intra_list_similarity_scores = [diversity_random, diversity_popular, diversity_memorycf, diversity_modelcf, diversity_ensemble,diversity_content_single, diversity_content_multi])"
   ]
  },
  {
   "cell_type": "markdown",
   "metadata": {},
   "source": [
    "\n",
    "The summary plot consolidates the following key observations:\n",
    "\n",
    "* Random Recommender: It achieves personalization and diversity scores comparable to the CF methods, and it offers full coverage.\n",
    "* Popular Recommender: It registers zero personalization and less than 2% coverage, matching the others only in terms of diversity.\n",
    "* CF Item-Based and CF User-Based: Both methods perform similarly, exhibiting high personalization, high coverage, and diversity scores that align with the other systems.\n",
    "* CF Model-Based Recommender: It shows low personalization and coverage, though its diversity is comparable. This performance is unexpected for a CF model, suggesting that further fine-tuning is necessary.\n",
    "* Content Recommender: It achieves high coverage and personalization scores (comparable to that of random recommender), while also reaching the highest level in diversity among the six baseline models."
   ]
  },
  {
   "cell_type": "markdown",
   "metadata": {},
   "source": [
    "\n",
    "### C) NDCG"
   ]
  },
  {
   "cell_type": "markdown",
   "metadata": {},
   "source": []
  },
  {
   "cell_type": "code",
   "execution_count": null,
   "metadata": {},
   "outputs": [],
   "source": [
    "popular_RS.fit(trainset);\n",
    "predictions_popular = popular_RS.test(testset)\n",
    "predictions_popular_df = pd.DataFrame(predictions_popular)\n",
    "predictions_popular_df['est'] = predictions_popular_df['est'].round(2)"
   ]
  },
  {
   "cell_type": "code",
   "execution_count": null,
   "metadata": {},
   "outputs": [],
   "source": [
    "random_RS.fit(trainset);\n",
    "predictions_random = random_RS.test(testset)\n",
    "predictions_random_df = pd.DataFrame(predictions_random)\n",
    "predictions_random_df['est'] = predictions_random_df['est'].round(2)"
   ]
  },
  {
   "cell_type": "code",
   "execution_count": null,
   "metadata": {},
   "outputs": [],
   "source": [
    "memory_based_final.fit(trainset);\n",
    "predictions_memory_cf = memory_based_final.test(testset)\n",
    "predictions_memory_cf_df = pd.DataFrame(predictions_memory_cf)\n",
    "predictions_memory_cf_df['est'] = predictions_memory_cf_df['est'].round(2)"
   ]
  },
  {
   "cell_type": "code",
   "execution_count": null,
   "metadata": {},
   "outputs": [],
   "source": [
    "final_model_svd.fit(trainset);\n",
    "predictions_model_cf = final_model_svd.test(testset)\n",
    "predictions_model_cf_df = pd.DataFrame(predictions_model_cf)\n",
    "predictions_model_cf_df['est'] = predictions_model_cf_df['est'].round(2)"
   ]
  },
  {
   "cell_type": "code",
   "execution_count": null,
   "metadata": {},
   "outputs": [],
   "source": [
    "ensemble_model.fit(trainset);\n",
    "predictions_ensemble = ensemble_model.test(testset)\n",
    "predictions_ensemble_df = pd.DataFrame(predictions_ensemble)\n",
    "predictions_ensemble_df['est'] = predictions_ensemble_df['est'].round(2)"
   ]
  },
  {
   "cell_type": "code",
   "execution_count": null,
   "metadata": {},
   "outputs": [],
   "source": [
    "predictions_contentm_df = pd.DataFrame(predictions_content_multi)\n",
    "predictions_contentm_df['est'] = predictions_contentm_df['est'].round(2)"
   ]
  },
  {
   "cell_type": "code",
   "execution_count": null,
   "metadata": {},
   "outputs": [],
   "source": [
    "predictions_contents_df = pd.DataFrame(predictions_content_single)\n",
    "predictions_contents_df['est'] = predictions_contentm_df['est'].round(2)"
   ]
  },
  {
   "cell_type": "markdown",
   "metadata": {},
   "source": []
  },
  {
   "cell_type": "code",
   "execution_count": null,
   "metadata": {},
   "outputs": [],
   "source": [
    "def ndcg_multiple_users(relevant_items_all_users, predictions_ranking_all_users, k=5):\n",
    "    ndcg_list = []\n",
    "    # Loop all users\n",
    "    for i in range(len(relevant_items_all_users)):\n",
    "      # Skip users with only 1 item in the test data, as no NDCG can be computed\n",
    "      if len(relevant_items_all_users[i]) > 1:\n",
    "        ndcg = metrics.ndcg_score([relevant_items_all_users[i]],\n",
    "                                  [predictions_ranking_all_users[i]], k=k)\n",
    "        ndcg_list.append(ndcg)\n",
    "    return np.mean(ndcg_list)"
   ]
  },
  {
   "cell_type": "markdown",
   "metadata": {},
   "source": []
  },
  {
   "cell_type": "code",
   "execution_count": null,
   "metadata": {},
   "outputs": [],
   "source": [
    "predictions_random_byuser_df = predictions_random_df.groupby('uid')[['iid', 'r_ui', 'est']].agg(lambda x: list(x))\n",
    "ndcg_multiple_users(predictions_random_byuser_df['r_ui'].tolist(),\n",
    "                    predictions_random_byuser_df['est'].tolist())"
   ]
  },
  {
   "cell_type": "markdown",
   "metadata": {},
   "source": []
  },
  {
   "cell_type": "code",
   "execution_count": null,
   "metadata": {},
   "outputs": [],
   "source": [
    "predictions_popular_byuser_df = predictions_popular_df.groupby('uid')[['iid', 'r_ui', 'est']].agg(lambda x: list(x))\n",
    "ndcg_multiple_users(predictions_popular_byuser_df['r_ui'].tolist(),\n",
    "                    predictions_popular_byuser_df['est'].tolist())"
   ]
  },
  {
   "cell_type": "markdown",
   "metadata": {},
   "source": []
  },
  {
   "cell_type": "code",
   "execution_count": null,
   "metadata": {},
   "outputs": [],
   "source": [
    "predictions_memory_cf_byuser_df = predictions_memory_cf.groupby('uid')[['iid', 'r_ui', 'est']].agg(lambda x: list(x))\n",
    "ndcg_multiple_users(predictions_memory_cf_byuser_df['r_ui'].tolist(),\n",
    "                    predictions_memory_cf_byuser_df['est'].tolist())"
   ]
  },
  {
   "cell_type": "markdown",
   "metadata": {},
   "source": []
  },
  {
   "cell_type": "code",
   "execution_count": null,
   "metadata": {},
   "outputs": [],
   "source": [
    "predictions_model_cf_byuser_df = predictions_model_cf.groupby('uid')[['iid', 'r_ui', 'est']].agg(lambda x: list(x))\n",
    "ndcg_multiple_users(predictions_model_cf_byuser_df['r_ui'].tolist(),\n",
    "                    predictions_model_cf_byuser_df['est'].tolist())"
   ]
  },
  {
   "cell_type": "markdown",
   "metadata": {},
   "source": []
  },
  {
   "cell_type": "code",
   "execution_count": null,
   "metadata": {},
   "outputs": [],
   "source": [
    "predictions_ensemble_byuser_df = predictions_ensemble.groupby('uid')[['iid', 'r_ui', 'est']].agg(lambda x: list(x))\n",
    "ndcg_multiple_users(predictions_ensemble_byuser_df['r_ui'].tolist(),\n",
    "                    predictions_ensemble_byuser_df['est'].tolist())"
   ]
  },
  {
   "cell_type": "markdown",
   "metadata": {},
   "source": []
  },
  {
   "cell_type": "code",
   "execution_count": null,
   "metadata": {},
   "outputs": [],
   "source": [
    "predictions_contentm_byuser_df = predictions_contentm_df.groupby('uid')[['iid', 'r_ui', 'est']].agg(lambda x: list(x))\n",
    "ndcg_multiple_users(predictions_contentm_byuser_df['r_ui'].tolist(),\n",
    "                    predictions_contentm_byuser_df['est'].tolist())"
   ]
  },
  {
   "cell_type": "markdown",
   "metadata": {},
   "source": []
  },
  {
   "cell_type": "code",
   "execution_count": null,
   "metadata": {},
   "outputs": [],
   "source": [
    "predictions_contents_byuser_df = predictions_contents_df.groupby('uid')[['iid', 'r_ui', 'est']].agg(lambda x: list(x))\n",
    "ndcg_multiple_users(predictions_contents_byuser_df['r_ui'].tolist(),\n",
    "                    predictions_contents_byuser_df['est'].tolist())"
   ]
  },
  {
   "cell_type": "markdown",
   "metadata": {},
   "source": [
    "\n",
    "In terms of NDCG, the collaborative-filtering approaches lead the performance ranking, with the model-based method scoring the highest,even though earlier findings suggested its recommendations might not be as strong. This apparent contradiction can be explained by the fact that even suboptimal recommendations can still be deemed relevant. The popular recommender follows closely behind, and the random recommender achieves the lowest NDCG score.\n",
    "\n",
    "Overall, the high NDCG values—indicating that over 85% of relevant items are placed in the top positions, nearly matching an ideal ranking, which suggest a favorable ordering of items. However, these results should be interpreted with caution. The dataset shows a significant concentration of true ratings between 6 and 8, with few extreme ratings like 0 or 10. Consequently, the difference in relevance between a rating of 6 and 8 is minimal, which results in a lower penalization impact on the NDCG metric.\n",
    "\n",
    "This context, along with insights from non-accuracy metrics, reveals that while the model-based recommender appears to perform well in terms of NDCG, its overall performance in areas such as coverage and personalization might still require further refinement.\n",
    "\n",
    "For the content recommenders, we get almost a perfect NDCG score. These figures are expected because the predictions for users are already ordered by cosine distance from descending order in the recommendations' list. "
   ]
  },
  {
   "cell_type": "markdown",
   "metadata": {},
   "source": []
  },
  {
   "cell_type": "code",
   "execution_count": null,
   "metadata": {},
   "outputs": [],
   "source": [
    "predictions_uneutral_byuser_df = predictions_user_neutral_df.groupby('uid')[['iid', 'r_ui', 'est']].agg(lambda x: list(x))\n",
    "ndcg_multiple_users(predictions_uneutral_byuser_df['r_ui'].tolist(),\n",
    "                    predictions_uneutral_byuser_df['est'].tolist())"
   ]
  },
  {
   "cell_type": "markdown",
   "metadata": {},
   "source": []
  },
  {
   "cell_type": "code",
   "execution_count": null,
   "metadata": {},
   "outputs": [],
   "source": [
    "predictions_uextreme1_byuser_df = predictions_user_extreme1_df.groupby('uid')[['iid', 'r_ui', 'est']].agg(lambda x: list(x))\n",
    "ndcg_multiple_users(predictions_uextreme1_byuser_df['r_ui'].tolist(),\n",
    "                    predictions_uextreme1_byuser_df['est'].tolist())"
   ]
  },
  {
   "cell_type": "markdown",
   "metadata": {},
   "source": []
  },
  {
   "cell_type": "code",
   "execution_count": null,
   "metadata": {},
   "outputs": [],
   "source": [
    "predictions_uextreme2_byuser_df = predictions_user_extreme2_df.groupby('uid')[['iid', 'r_ui', 'est']].agg(lambda x: list(x))\n",
    "ndcg_multiple_users(predictions_uextreme2_byuser_df['r_ui'].tolist(),\n",
    "                    predictions_uextreme2_byuser_df['est'].tolist())"
   ]
  },
  {
   "cell_type": "markdown",
   "metadata": {},
   "source": [
    "\n",
    "Lastly, in terms of NDCG:\n",
    "\n",
    "The neutral model balances between capturing individual user tastes and mitigating noise from sparse co-ratings, helping to rank relevant items near the top for most users, achieving a high final NDCG score. Therefore, moderate hyperparameters allow a good estimation of similarities.\n",
    "\n",
    "The low extreme model, with only two neighbours, make algorithm's predictions slighltly more unstable. Unregularized similarities (no shrinkage) mean that even a small, unreliable overlap can overly influence predictions, resulting in slightly poorer ranking compared to the neutral case.\n",
    "\n",
    "Thirdly, a high extreme model achieves the highest NDCG score. Although this setting reduces personalization and coverage (by homogenizing recommendations), the heavy regularization filters out noisy similarities. And by aggregating over many neighbors and heavily penalizing weak co-rating overlaps, the model focuses on the most reliably similar users. However, if we were to choose between this configuration of the other two, we would need to find a trade off between achieve only a slighlty higher NDCG scoer with achieving very low values in coverage and personalization. It also depends on the specific business case or strategy to follow."
   ]
  },
  {
   "cell_type": "markdown",
   "metadata": {},
   "source": [
    "\n",
    "## 5. INDIVIDUAL USER PREDICTIONS"
   ]
  },
  {
   "cell_type": "markdown",
   "metadata": {},
   "source": [
    "\n",
    "Example usage: Filter predictions for a specific user"
   ]
  },
  {
   "cell_type": "code",
   "execution_count": null,
   "metadata": {},
   "outputs": [],
   "source": [
    "def filter_predictions_for_user(user_id, predictions_dict):\n",
    "    filtered_predictions = {}\n",
    "    for model_name, predictions in predictions_dict.items():\n",
    "        filtered_predictions[model_name] = [pred for pred in predictions if pred.uid == user_id]\n",
    "    return filtered_predictions"
   ]
  },
  {
   "cell_type": "markdown",
   "metadata": {},
   "source": [
    "Example: Filter predictions for user with ID 'user_123'"
   ]
  },
  {
   "cell_type": "code",
   "execution_count": null,
   "metadata": {},
   "outputs": [],
   "source": [
    "user_predictions = filter_predictions_for_user('user_123', predictions_allmodels)"
   ]
  },
  {
   "cell_type": "markdown",
   "metadata": {},
   "source": [
    "\n",
    "Filter predictions for a specific user"
   ]
  },
  {
   "cell_type": "code",
   "execution_count": null,
   "metadata": {},
   "outputs": [],
   "source": [
    "def filter_predictions_for_user(user_id, predictions_dict):\n",
    "    filtered_predictions = {}\n",
    "    for model_name, predictions in predictions_dict.items():\n",
    "        filtered_predictions[model_name] = [pred for pred in predictions if pred.uid == user_id]\n",
    "    return filtered_predictions"
   ]
  },
  {
   "cell_type": "markdown",
   "metadata": {},
   "source": [
    "Select a random user from the dataset"
   ]
  },
  {
   "cell_type": "code",
   "execution_count": null,
   "metadata": {},
   "outputs": [],
   "source": [
    "def select_random_user(predictions_dict, my_seed):\n",
    "    random.seed(my_seed)\n",
    "    all_users = set(pred.uid for preds in predictions_dict.values() for pred in preds)\n",
    "    random_user = random.choice(list(all_users))\n",
    "    return random_user"
   ]
  },
  {
   "cell_type": "markdown",
   "metadata": {},
   "source": [
    "Select a random user and print the user_id"
   ]
  },
  {
   "cell_type": "code",
   "execution_count": null,
   "metadata": {},
   "outputs": [],
   "source": [
    "random_user_id = select_random_user(predictions_allmodels, my_seed)\n",
    "print(f\"Selected random user_id: {random_user_id}\")"
   ]
  },
  {
   "cell_type": "markdown",
   "metadata": {},
   "source": [
    "Filter predictions for the selected user"
   ]
  },
  {
   "cell_type": "code",
   "execution_count": null,
   "metadata": {},
   "outputs": [],
   "source": [
    "filtered_predictions = filter_predictions_for_user(random_user_id, predictions_allmodels)"
   ]
  },
  {
   "cell_type": "markdown",
   "metadata": {},
   "source": [
    "Print the predictions for each model"
   ]
  },
  {
   "cell_type": "code",
   "execution_count": null,
   "metadata": {},
   "outputs": [],
   "source": [
    "for model_name, predictions in filtered_predictions.items():\n",
    "    print(f\"Predictions for model '{model_name}':\")\n",
    "    for pred in predictions:\n",
    "        print(pred)"
   ]
  }
 ],
 "metadata": {
  "kernelspec": {
   "display_name": "Python 3",
   "language": "python",
   "name": "python3"
  },
  "language_info": {
   "codemirror_mode": {
    "name": "ipython",
    "version": 3
   },
   "file_extension": ".py",
   "mimetype": "text/x-python",
   "name": "python",
   "nbconvert_exporter": "python",
   "pygments_lexer": "ipython3",
   "version": "3.6.4"
  }
 },
 "nbformat": 4,
 "nbformat_minor": 2
}
